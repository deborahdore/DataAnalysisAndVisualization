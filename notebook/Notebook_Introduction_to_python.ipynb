{
 "nbformat": 4,
 "nbformat_minor": 0,
 "metadata": {
  "colab": {
   "provenance": [],
   "toc_visible": true
  },
  "kernelspec": {
   "name": "python3",
   "display_name": "Python 3"
  },
  "language_info": {
   "name": "python"
  }
 },
 "cells": [
  {
   "cell_type": "markdown",
   "source": [
    "# **PART 1: Python Basics**\n"
   ],
   "metadata": {
    "id": "ZfzBvKJtiqdj"
   }
  },
  {
   "cell_type": "markdown",
   "source": [
    "## Variables and Data Types"
   ],
   "metadata": {
    "id": "hRJA83Nhi8tU"
   }
  },
  {
   "cell_type": "code",
   "source": [
    "# Define variables\n",
    "x = 10  # Integer\n",
    "pi = 3.14  # Float\n",
    "name = \"Alice\"  # String\n",
    "is_student = True  # Boolean"
   ],
   "metadata": {
    "id": "X5hDuVSki7n9"
   },
   "execution_count": 1,
   "outputs": []
  },
  {
   "cell_type": "code",
   "source": [
    "# Print variables\n",
    "print(\"x:\", x)\n",
    "print(\"pi:\", pi)\n",
    "print(\"name:\", name)\n",
    "print(\"is_student:\", is_student)"
   ],
   "metadata": {
    "colab": {
     "base_uri": "https://localhost:8080/"
    },
    "id": "KG00hkAj5Gtn",
    "outputId": "e2c254f2-5ba3-4498-f258-47848dabd7e5"
   },
   "execution_count": 2,
   "outputs": [
    {
     "output_type": "stream",
     "name": "stdout",
     "text": [
      "x: 10\n",
      "pi: 3.14\n",
      "name: Alice\n",
      "is_student: True\n"
     ]
    }
   ]
  },
  {
   "cell_type": "code",
   "source": [
    "# Check data types\n",
    "print(type(x))\n",
    "print(type(pi))\n",
    "print(type(name))\n",
    "print(type(is_student))"
   ],
   "metadata": {
    "colab": {
     "base_uri": "https://localhost:8080/"
    },
    "id": "d7l_H1mx5JjN",
    "outputId": "e6094f93-b488-4a2b-dc4e-f36de35a2b7a"
   },
   "execution_count": 3,
   "outputs": [
    {
     "output_type": "stream",
     "name": "stdout",
     "text": [
      "<class 'int'>\n",
      "<class 'float'>\n",
      "<class 'str'>\n",
      "<class 'bool'>\n"
     ]
    }
   ]
  },
  {
   "cell_type": "code",
   "source": [
    "# List, Tuple, Dictionary, Set\n",
    "my_list = [1, 2, 3, 4]\n",
    "my_tuple = (5, 6, 7, 8)\n",
    "my_dict = {\"key1\": \"value1\", \"key2\": \"value2\"}\n",
    "my_set = {9, 10, 11}\n",
    "\n",
    "print(\"List:\", my_list)\n",
    "print(\"Tuple:\", my_tuple)\n",
    "print(\"Dictionary:\", my_dict)\n",
    "print(\"Set:\", my_set)"
   ],
   "metadata": {
    "colab": {
     "base_uri": "https://localhost:8080/"
    },
    "id": "q_oF30YY5KsZ",
    "outputId": "c609322b-3de7-4e96-dd78-bab6e186c487"
   },
   "execution_count": 5,
   "outputs": [
    {
     "output_type": "stream",
     "name": "stdout",
     "text": [
      "List: [1, 2, 3, 4]\n",
      "Tuple: (5, 6, 7, 8)\n",
      "Dictionary: {'key1': 'value1', 'key2': 'value2'}\n",
      "Set: {9, 10, 11}\n"
     ]
    }
   ]
  },
  {
   "cell_type": "markdown",
   "source": [
    "## Conditional Statements (if-else)\n"
   ],
   "metadata": {
    "id": "v3JLnCBHjP0g"
   }
  },
  {
   "cell_type": "code",
   "source": [
    "# Example of if-else\n",
    "x = 15\n",
    "if x > 10:\n",
    "    print(\"x is greater than 10\")\n",
    "elif x == 10:\n",
    "    print(\"x is equal to 10\")\n",
    "else:\n",
    "    print(\"x is less than 10\")"
   ],
   "metadata": {
    "id": "7FPzN0UMjX-d",
    "colab": {
     "base_uri": "https://localhost:8080/"
    },
    "outputId": "af78c77d-d845-45b6-e3dc-53f7e61365ec"
   },
   "execution_count": 6,
   "outputs": [
    {
     "output_type": "stream",
     "name": "stdout",
     "text": [
      "x is greater than 10\n"
     ]
    }
   ]
  },
  {
   "cell_type": "markdown",
   "source": [
    "## Loops"
   ],
   "metadata": {
    "id": "nQEWZ2CajUBx"
   }
  },
  {
   "cell_type": "code",
   "source": [
    "# For loop example\n",
    "for i in range(5):\n",
    "    print(\"For loop iteration:\", i)"
   ],
   "metadata": {
    "id": "lv-DkmP6jTCy",
    "colab": {
     "base_uri": "https://localhost:8080/"
    },
    "outputId": "fe68f18c-e2f5-48b1-bb79-97974607cb86"
   },
   "execution_count": 8,
   "outputs": [
    {
     "output_type": "stream",
     "name": "stdout",
     "text": [
      "For loop iteration: 0\n",
      "For loop iteration: 1\n",
      "For loop iteration: 2\n",
      "For loop iteration: 3\n",
      "For loop iteration: 4\n"
     ]
    }
   ]
  },
  {
   "cell_type": "code",
   "source": [
    "# While loop example\n",
    "counter = 0\n",
    "while counter < 5:\n",
    "    print(\"While loop iteration:\", counter)\n",
    "    counter += 1"
   ],
   "metadata": {
    "colab": {
     "base_uri": "https://localhost:8080/"
    },
    "id": "nmc4RhCC5SzN",
    "outputId": "6f09c0ea-6848-4903-b66b-2c28e7ef2a22"
   },
   "execution_count": 9,
   "outputs": [
    {
     "output_type": "stream",
     "name": "stdout",
     "text": [
      "While loop iteration: 0\n",
      "While loop iteration: 1\n",
      "While loop iteration: 2\n",
      "While loop iteration: 3\n",
      "While loop iteration: 4\n"
     ]
    }
   ]
  },
  {
   "cell_type": "markdown",
   "source": [
    "## Functions"
   ],
   "metadata": {
    "id": "U1QsqLa7jdDv"
   }
  },
  {
   "cell_type": "code",
   "source": [
    "# Define a simple function\n",
    "def greet(name):\n",
    "    return f\"Hello, {name}!\"\n",
    "\n",
    "\n",
    "# Test the function\n",
    "print(greet(\"Alice\"))"
   ],
   "metadata": {
    "id": "UvmifSvXjd_Z",
    "colab": {
     "base_uri": "https://localhost:8080/"
    },
    "outputId": "1f3137f2-9f70-4a97-9eaa-1fcbf195aa64"
   },
   "execution_count": 10,
   "outputs": [
    {
     "output_type": "stream",
     "name": "stdout",
     "text": [
      "Hello, Alice!\n"
     ]
    }
   ]
  },
  {
   "cell_type": "markdown",
   "source": [
    "## Run a script"
   ],
   "metadata": {
    "id": "wmOCN7WNjgwU"
   }
  },
  {
   "cell_type": "code",
   "execution_count": 47,
   "metadata": {
    "id": "t2Cy6VcMipp6",
    "colab": {
     "base_uri": "https://localhost:8080/"
    },
    "outputId": "357609fc-d96a-4a8f-abb1-a15457c8ec6b"
   },
   "outputs": [
    {
     "output_type": "stream",
     "name": "stdout",
     "text": [
      "This script is being run directly.\n"
     ]
    }
   ],
   "source": [
    "# Example of writing a script (this part would normally go in a .py file)\n",
    "# Save this content as script.py\n",
    "# Then run it in the terminal with: python script.py\n",
    "if __name__ == \"__main__\":\n",
    "    print(\"This script is being run directly.\")"
   ]
  },
  {
   "cell_type": "markdown",
   "source": [
    "# PART 2: Python Libraries for Data Analysis"
   ],
   "metadata": {
    "id": "jzi6Aa6uscA0"
   }
  },
  {
   "cell_type": "markdown",
   "source": [
    "## NUMPY"
   ],
   "metadata": {
    "id": "GIKqCgstBcUi"
   }
  },
  {
   "cell_type": "code",
   "source": [
    "# Importing the NumPy library\n",
    "import numpy as np"
   ],
   "metadata": {
    "id": "aatdlRRvsf8C"
   },
   "execution_count": 11,
   "outputs": []
  },
  {
   "cell_type": "markdown",
   "source": [
    "### 1. Create Arrays"
   ],
   "metadata": {
    "id": "-NrmWR2esrg0"
   }
  },
  {
   "cell_type": "code",
   "source": [
    "# Creating a 1D array\n",
    "array_1d = np.array([1, 2, 3, 4, 5])\n",
    "print(\"1D Array:\", array_1d)\n",
    "print(\"Shape: \", array_1d.shape)\n",
    "print(\"Num dimension: \", array_1d.ndim)"
   ],
   "metadata": {
    "colab": {
     "base_uri": "https://localhost:8080/"
    },
    "id": "9BsDtU3nsvoj",
    "outputId": "b2c2773d-6fb5-47db-a3cb-284bf59d4bef"
   },
   "execution_count": 42,
   "outputs": [
    {
     "output_type": "stream",
     "name": "stdout",
     "text": [
      "1D Array: [1 2 3 4 5]\n",
      "Shape:  (5,)\n",
      "Dimension:  1\n"
     ]
    }
   ]
  },
  {
   "cell_type": "code",
   "source": [
    "# Creating a 2D array\n",
    "array_2d = np.array([[1, 2, 3], [4, 5, 6]])\n",
    "print(\"\\n2D Array:\\n\", array_2d)\n",
    "print(\"Shape: \", array_2d.shape)\n",
    "print(\"Num dimension: \", array_2d.ndim)"
   ],
   "metadata": {
    "colab": {
     "base_uri": "https://localhost:8080/"
    },
    "id": "uTwdC9MVsv9x",
    "outputId": "e3021645-f177-4423-e2a1-ed5f6c1f8db4"
   },
   "execution_count": 43,
   "outputs": [
    {
     "output_type": "stream",
     "name": "stdout",
     "text": [
      "\n",
      "2D Array:\n",
      " [[1 2 3]\n",
      " [4 5 6]]\n",
      "Shape:  (2, 3)\n",
      "Num dimension:  2\n"
     ]
    }
   ]
  },
  {
   "cell_type": "code",
   "source": [
    "# Creating arrays with zeros, ones, or a range of numbers\n",
    "zeros_array = np.zeros((2, 3))\n",
    "ones_array = np.ones((3, 2))\n",
    "range_array = np.arange(0, 10, 2)\n",
    "print(\"\\nZeros Array:\\n\", zeros_array)\n",
    "print(\"\\nOnes Array:\\n\", ones_array)\n",
    "print(\"\\nRange Array:\", range_array)\n",
    "\n",
    "print(\"Shape zeros_array: \", zeros_array.shape)\n",
    "print(\"Shape ones_array: \", ones_array.shape)\n",
    "print(\"Shape range_array: \", range_array.shape)\n",
    "print(\"\\n\")\n",
    "\n",
    "print(\"Num dimension zeros_array: \", zeros_array.ndim)\n",
    "print(\"Num dimension ones_array: \", ones_array.ndim)\n",
    "print(\"Num dimension range_array: \", range_array.ndim)"
   ],
   "metadata": {
    "colab": {
     "base_uri": "https://localhost:8080/"
    },
    "id": "iKF8HxmRsxH7",
    "outputId": "3b73d383-987b-4daa-974e-2d3479b94be0"
   },
   "execution_count": 46,
   "outputs": [
    {
     "output_type": "stream",
     "name": "stdout",
     "text": [
      "\n",
      "Zeros Array:\n",
      " [[0. 0. 0.]\n",
      " [0. 0. 0.]]\n",
      "\n",
      "Ones Array:\n",
      " [[1. 1.]\n",
      " [1. 1.]\n",
      " [1. 1.]]\n",
      "\n",
      "Range Array: [0 2 4 6 8]\n",
      "Shape zeros_array:  (2, 3)\n",
      "Shape ones_array:  (3, 2)\n",
      "Shape range_array:  (5,)\n",
      "\n",
      "\n",
      "Num dimension zeros_array:  2\n",
      "Num dimension ones_array:  2\n",
      "Num dimension range_array:  1\n"
     ]
    }
   ]
  },
  {
   "cell_type": "code",
   "source": [
    "# type of the elements in the array\n",
    "array_1d.dtype"
   ],
   "metadata": {
    "colab": {
     "base_uri": "https://localhost:8080/"
    },
    "id": "7UCmGJQV842u",
    "outputId": "3afa8c42-52d5-4226-ecf0-49d3146c27b2"
   },
   "execution_count": 36,
   "outputs": [
    {
     "output_type": "execute_result",
     "data": {
      "text/plain": [
       "dtype('int64')"
      ]
     },
     "metadata": {},
     "execution_count": 36
    }
   ]
  },
  {
   "cell_type": "code",
   "source": "np.array(['Cat', 1, True])  # arrays can be composed of different types",
   "metadata": {
    "colab": {
     "base_uri": "https://localhost:8080/"
    },
    "id": "irJGkOx687qv",
    "outputId": "da22c6a7-d286-4fbf-ff5c-e97d7505ffdd"
   },
   "execution_count": 37,
   "outputs": [
    {
     "output_type": "execute_result",
     "data": {
      "text/plain": [
       "array(['Cat', '1', 'True'], dtype='<U21')"
      ]
     },
     "metadata": {},
     "execution_count": 37
    }
   ]
  },
  {
   "cell_type": "code",
   "source": [
    "array_1d.shape"
   ],
   "metadata": {
    "colab": {
     "base_uri": "https://localhost:8080/"
    },
    "id": "QzMD3nOh9G-W",
    "outputId": "de217143-8383-4dda-f3a9-5644ed2c5588"
   },
   "execution_count": 38,
   "outputs": [
    {
     "output_type": "execute_result",
     "data": {
      "text/plain": [
       "(5,)"
      ]
     },
     "metadata": {},
     "execution_count": 38
    }
   ]
  },
  {
   "cell_type": "markdown",
   "source": [
    "### 2. Array Operations"
   ],
   "metadata": {
    "id": "5rP9nHLnuHA3"
   }
  },
  {
   "cell_type": "code",
   "source": [
    "# Element-wise addition, subtraction, multiplication, and division\n",
    "array_a = np.array([1, 22, 3])\n",
    "array_b = np.array([37, 6, 15])\n",
    "\n",
    "print(\"Addition:\", array_a + array_b)\n",
    "print(\"Subtraction:\", array_a - array_b)\n",
    "print(\"Multiplication:\", array_a * array_b)\n",
    "print(\"Division:\", array_a / array_b)"
   ],
   "metadata": {
    "colab": {
     "base_uri": "https://localhost:8080/"
    },
    "id": "dJzcrlBBs0p1",
    "outputId": "1b5aa8d9-e23d-4c62-ee82-f57a5f997082"
   },
   "execution_count": 19,
   "outputs": [
    {
     "output_type": "stream",
     "name": "stdout",
     "text": [
      "Addition: [38 28 18]\n",
      "Subtraction: [-36  16 -12]\n",
      "Multiplication: [ 37 132  45]\n",
      "Division: [0.02702703 3.66666667 0.2       ]\n"
     ]
    }
   ]
  },
  {
   "cell_type": "code",
   "source": [
    "# Addition, subtraction, multiplication, and division between array and scalar\n",
    "array = np.array([1, 22, 3])\n",
    "scalar = 5\n",
    "\n",
    "print(\"Addition:\", array + scalar)\n",
    "print(\"Subtraction:\", array - scalar)\n",
    "print(\"Multiplication:\", array * scalar)\n",
    "print(\"Division:\", array / scalar)"
   ],
   "metadata": {
    "colab": {
     "base_uri": "https://localhost:8080/"
    },
    "id": "G5gDJAax5yF1",
    "outputId": "640ba3b1-4c11-4498-b284-6aea9072945b"
   },
   "execution_count": 21,
   "outputs": [
    {
     "output_type": "stream",
     "name": "stdout",
     "text": [
      "Addition: [ 6 27  8]\n",
      "Subtraction: [-4 17 -2]\n",
      "Multiplication: [  5 110  15]\n",
      "Division: [0.2 4.4 0.6]\n"
     ]
    }
   ]
  },
  {
   "cell_type": "code",
   "source": [
    "# Exercise: where is the difference? Can i obtain the same with an array? If yes, which one?"
   ],
   "metadata": {
    "id": "11_22oL55-yK"
   },
   "execution_count": null,
   "outputs": []
  },
  {
   "cell_type": "markdown",
   "source": [
    "**Dot Product**\n",
    "\n",
    "The dot product of two vectors $$a = [a_1, a_2, a_3] $$ and $$b = [b_1, b_2, b_3] $$  specified with respect to an orthonormal basis, is defined as:\n",
    "\n",
    "$$ a \\cdot b = ∑_{i=1}^{n} a_i \\cdot b_i = a_1*b_1 + a_2*b_2 + ... + a_n*b_n $$\n",
    "\n"
   ],
   "metadata": {
    "id": "9xOdGNte6WH7"
   }
  },
  {
   "cell_type": "code",
   "source": [
    "dot_product = np.dot(array_a, array_b)\n",
    "print(\"\\nDot Product:\", dot_product)"
   ],
   "metadata": {
    "colab": {
     "base_uri": "https://localhost:8080/"
    },
    "id": "qvxhEVd2uIYc",
    "outputId": "7b619424-b18f-4e17-d8e6-e56edcc295e8"
   },
   "execution_count": 25,
   "outputs": [
    {
     "output_type": "stream",
     "name": "stdout",
     "text": [
      "\n",
      "Dot Product: 214\n"
     ]
    }
   ]
  },
  {
   "cell_type": "markdown",
   "source": [
    "### 3. Statistical Functions"
   ],
   "metadata": {
    "id": "HBA4kvBVuK_O"
   }
  },
  {
   "cell_type": "markdown",
   "source": [
    "**Sum and Max**"
   ],
   "metadata": {
    "id": "AIqNouTe791h"
   }
  },
  {
   "cell_type": "code",
   "source": [
    "array_stats = np.array([10, 20, 30, 40, 50])\n",
    "\n",
    "print(\"Sum:\", np.sum(array_stats))\n",
    "print(\"Maximum:\", np.max(array_stats))"
   ],
   "metadata": {
    "colab": {
     "base_uri": "https://localhost:8080/"
    },
    "id": "n7AtMY9x73kc",
    "outputId": "c774ff15-e958-4968-9bb2-9f7cbd98b194"
   },
   "execution_count": 27,
   "outputs": [
    {
     "output_type": "stream",
     "name": "stdout",
     "text": [
      "Sum: 150\n",
      "Maximum: 50\n"
     ]
    }
   ]
  },
  {
   "cell_type": "markdown",
   "source": [
    "**Mean**\n",
    "$$\\bar{x} = \\frac{1}{n} \\sum_{i=1}^{n} x_i$$"
   ],
   "metadata": {
    "id": "aZjmNQnN7uSg"
   }
  },
  {
   "cell_type": "code",
   "source": [
    "print(\"Mean:\", np.mean(array_stats))"
   ],
   "metadata": {
    "colab": {
     "base_uri": "https://localhost:8080/"
    },
    "id": "5fMpTXW0uJbu",
    "outputId": "10c8b3b5-a716-42d4-c7de-26f98246e7ea"
   },
   "execution_count": 28,
   "outputs": [
    {
     "output_type": "stream",
     "name": "stdout",
     "text": [
      "\n",
      "Mean: 30.0\n"
     ]
    }
   ]
  },
  {
   "cell_type": "markdown",
   "source": [
    "**Standard deviation**\n",
    "\n",
    "$$\\sigma = \\sqrt{\\frac{1}{n} \\sum_{i=1}^{n} (x_i - \\bar{x})^2}$$"
   ],
   "metadata": {
    "id": "692j6C3i77GF"
   }
  },
  {
   "cell_type": "code",
   "source": [
    "print(\"Standard Deviation:\", np.std(array_stats))"
   ],
   "metadata": {
    "colab": {
     "base_uri": "https://localhost:8080/"
    },
    "id": "RpFMb_b477U2",
    "outputId": "dfe43b5d-e1d1-446a-ce7b-a64b32583f7a"
   },
   "execution_count": 29,
   "outputs": [
    {
     "output_type": "stream",
     "name": "stdout",
     "text": [
      "Standard Deviation: 14.142135623730951\n"
     ]
    }
   ]
  },
  {
   "cell_type": "markdown",
   "source": [
    "### 4. Indexing and Slicing"
   ],
   "metadata": {
    "id": "S_amvrvKuNv3"
   }
  },
  {
   "cell_type": "code",
   "source": [
    "print(\"\\nElement at index 1:\", array_1d[1])  # Accessing element\n",
    "print(\"First row of 2D array:\", array_2d[0])  # Accessing a row\n",
    "print(\"Element at (1, 2):\", array_2d[1, 2])  # Accessing specific element"
   ],
   "metadata": {
    "colab": {
     "base_uri": "https://localhost:8080/"
    },
    "id": "qLWatq_SuOha",
    "outputId": "58eb8326-6800-4b58-c411-394cbe3a5e15"
   },
   "execution_count": 30,
   "outputs": [
    {
     "output_type": "stream",
     "name": "stdout",
     "text": [
      "\n",
      "Element at index 1: 2\n",
      "First row of 2D array: [1 2 3]\n",
      "Element at (1, 2): 6\n"
     ]
    }
   ]
  },
  {
   "cell_type": "markdown",
   "source": [
    "### 5. Reshaping Arrays"
   ],
   "metadata": {
    "id": "QTrJo_EouQP7"
   }
  },
  {
   "cell_type": "code",
   "source": [
    "reshaped_array = np.reshape(array_1d, (1, 5))  # Reshape to 1 row, 5 columns\n",
    "print(\"\\nReshaped Array:\\n\", reshaped_array)"
   ],
   "metadata": {
    "colab": {
     "base_uri": "https://localhost:8080/"
    },
    "id": "Ur1ibcLvuRoO",
    "outputId": "5dcbc243-54b8-430e-be35-d9ef62927f34"
   },
   "execution_count": 31,
   "outputs": [
    {
     "output_type": "stream",
     "name": "stdout",
     "text": [
      "\n",
      "Reshaped Array:\n",
      " [[1 2 3 4 5]]\n"
     ]
    }
   ]
  },
  {
   "cell_type": "code",
   "source": [
    "reshaped_array = np.reshape(array_1d, (5, 1))  # Reshape to 5 row, 1 columns\n",
    "print(\"\\nReshaped Array:\\n\", reshaped_array)"
   ],
   "metadata": {
    "colab": {
     "base_uri": "https://localhost:8080/"
    },
    "id": "JncFxaaX8ZDC",
    "outputId": "7b2004fe-8548-46da-8ba2-b200f6d97bfe"
   },
   "execution_count": 32,
   "outputs": [
    {
     "output_type": "stream",
     "name": "stdout",
     "text": [
      "\n",
      "Reshaped Array:\n",
      " [[1]\n",
      " [2]\n",
      " [3]\n",
      " [4]\n",
      " [5]]\n"
     ]
    }
   ]
  },
  {
   "cell_type": "code",
   "source": "reshaped_array.flatten()  # flatten, return to original",
   "metadata": {
    "colab": {
     "base_uri": "https://localhost:8080/"
    },
    "id": "fqVB8QC78fwe",
    "outputId": "b116afde-91fd-4a7b-f63b-48c1998a4cfc"
   },
   "execution_count": 34,
   "outputs": [
    {
     "output_type": "execute_result",
     "data": {
      "text/plain": [
       "array([1, 2, 3, 4, 5])"
      ]
     },
     "metadata": {},
     "execution_count": 34
    }
   ]
  },
  {
   "cell_type": "markdown",
   "source": [
    "### 6. Boolean Indexing"
   ],
   "metadata": {
    "id": "Sn9E_1ufuW5t"
   }
  },
  {
   "cell_type": "code",
   "source": [
    "bool_array = array_stats > 25  # Elements greater than 25\n",
    "print(\"\\nBoolean Array:\", bool_array)\n",
    "print(\"Filtered Array (values > 25):\", array_stats[bool_array])"
   ],
   "metadata": {
    "colab": {
     "base_uri": "https://localhost:8080/"
    },
    "id": "GdR6ud4DuT4y",
    "outputId": "cb9d4aca-7880-45f2-a62e-43fbcfc20078"
   },
   "execution_count": 35,
   "outputs": [
    {
     "output_type": "stream",
     "name": "stdout",
     "text": [
      "\n",
      "Boolean Array: [False False  True  True  True]\n",
      "Filtered Array (values > 25): [30 40 50]\n"
     ]
    }
   ]
  },
  {
   "cell_type": "markdown",
   "source": [
    "**Further reading: https://numpy.org/devdocs/user/quickstart.html Recommended!**"
   ],
   "metadata": {
    "id": "gt-SqcjU-23z"
   }
  },
  {
   "cell_type": "markdown",
   "source": [
    "## PANDAS"
   ],
   "metadata": {
    "id": "V-N4k5DXBnCk"
   }
  },
  {
   "cell_type": "code",
   "source": [
    "# Define a dataframe\n",
    "import pandas as pd\n",
    "\n",
    "age = [20, 22, 25]\n",
    "sex = ['M', 'F', 'M']\n",
    "degree = ['BSc', 'MSc', 'PhD']\n",
    "dataframe = pd.DataFrame({'Age': age, 'Sex': sex, 'Degree': degree})\n",
    "print(dataframe.head())"
   ],
   "metadata": {
    "colab": {
     "base_uri": "https://localhost:8080/"
    },
    "id": "THDNa71dBpIQ",
    "outputId": "a808bb5d-ca67-4429-fb62-4ce594934f44"
   },
   "execution_count": 53,
   "outputs": [
    {
     "output_type": "stream",
     "name": "stdout",
     "text": [
      "   Age Sex Degree\n",
      "0   20   M    BSc\n",
      "1   22   F    MSc\n",
      "2   25   M    PhD\n"
     ]
    }
   ]
  },
  {
   "cell_type": "code",
   "source": [
    "print(dataframe.info())"
   ],
   "metadata": {
    "colab": {
     "base_uri": "https://localhost:8080/"
    },
    "id": "zF8ivbi7B9V0",
    "outputId": "9a49f331-4dd5-4714-e996-bebf5ca085db"
   },
   "execution_count": 51,
   "outputs": [
    {
     "output_type": "stream",
     "name": "stdout",
     "text": [
      "<class 'pandas.core.frame.DataFrame'>\n",
      "RangeIndex: 3 entries, 0 to 2\n",
      "Data columns (total 3 columns):\n",
      " #   Column  Non-Null Count  Dtype \n",
      "---  ------  --------------  ----- \n",
      " 0   Age     3 non-null      int64 \n",
      " 1   Sex     3 non-null      object\n",
      " 2   Degree  3 non-null      object\n",
      "dtypes: int64(1), object(2)\n",
      "memory usage: 200.0+ bytes\n",
      "None\n"
     ]
    }
   ]
  },
  {
   "cell_type": "code",
   "source": [
    "print(dataframe.describe())"
   ],
   "metadata": {
    "colab": {
     "base_uri": "https://localhost:8080/"
    },
    "id": "HYzE0LCSCEZ4",
    "outputId": "24f68b95-b05b-4063-ca33-c22c0ff0d2c6"
   },
   "execution_count": 52,
   "outputs": [
    {
     "output_type": "stream",
     "name": "stdout",
     "text": [
      "             Age\n",
      "count   3.000000\n",
      "mean   22.333333\n",
      "std     2.516611\n",
      "min    20.000000\n",
      "25%    21.000000\n",
      "50%    22.000000\n",
      "75%    23.500000\n",
      "max    25.000000\n"
     ]
    }
   ]
  },
  {
   "cell_type": "markdown",
   "source": [
    "### Basic operations: filtering, sorting, indexing"
   ],
   "metadata": {
    "id": "8KwQnHGfCI9W"
   }
  },
  {
   "cell_type": "code",
   "source": [
    "# Filtering\n",
    "# Only retain the rows where the value of column age is more than 20\n",
    "filtered_df = dataframe[dataframe['Age'] > 20]\n",
    "print(\"\\nFiltered DataFrame (Age > 20):\\n\", filtered_df)\n",
    "\n",
    "filtered_df = dataframe[dataframe['Sex'] == 'F']\n",
    "print(\"\\nFiltered DataFrame (Sex = F):\\n\", filtered_df)"
   ],
   "metadata": {
    "colab": {
     "base_uri": "https://localhost:8080/"
    },
    "id": "C2jRb_ABCOL-",
    "outputId": "11b40ae9-8841-4cf8-cc04-823f6eab9518"
   },
   "execution_count": 55,
   "outputs": [
    {
     "output_type": "stream",
     "name": "stdout",
     "text": [
      "\n",
      "Filtered DataFrame (Age > 20):\n",
      "    Age Sex Degree\n",
      "1   22   F    MSc\n",
      "2   25   M    PhD\n",
      "\n",
      "Filtered DataFrame (Sex = F):\n",
      "    Age Sex Degree\n",
      "1   22   F    MSc\n"
     ]
    }
   ]
  },
  {
   "cell_type": "code",
   "source": [
    "# We can also use it to count the values\n",
    "f_count = len(dataframe[dataframe['Sex'] == 'F'])\n",
    "print(f\"Number of rows where sex = F: {f_count}\")"
   ],
   "metadata": {
    "colab": {
     "base_uri": "https://localhost:8080/"
    },
    "id": "7bJzIUk1CfMv",
    "outputId": "3d9602f5-72b8-4120-e728-ccc9e172bdfb"
   },
   "execution_count": 60,
   "outputs": [
    {
     "output_type": "stream",
     "name": "stdout",
     "text": [
      "Number of rows where sex = F: 1\n"
     ]
    }
   ]
  },
  {
   "cell_type": "code",
   "source": [
    "# Sorting\n",
    "sorted_df = dataframe.sort_values(by='Age', ascending=False)\n",
    "print(\"\\nSorted DataFrame (Age descending):\\n\", sorted_df)"
   ],
   "metadata": {
    "colab": {
     "base_uri": "https://localhost:8080/"
    },
    "id": "sA67gYWkC3TV",
    "outputId": "af39cf82-557c-4381-968b-3c607f782efe"
   },
   "execution_count": 61,
   "outputs": [
    {
     "output_type": "stream",
     "name": "stdout",
     "text": [
      "\n",
      "Sorted DataFrame (Age descending):\n",
      "    Age Sex Degree\n",
      "2   25   M    PhD\n",
      "1   22   F    MSc\n",
      "0   20   M    BSc\n"
     ]
    }
   ]
  },
  {
   "cell_type": "code",
   "source": [
    "# Indexing\n",
    "# Accessing the first row\n",
    "print(\"First row using index 0:\")\n",
    "print(dataframe.iloc[0])\n",
    "\n",
    "# Accessing the column 'Age'\n",
    "print(\"\\nAccessing the column 'Age' using its label:\")\n",
    "print(dataframe['Age'])\n",
    "\n",
    "# Accessing rows and columns using their positions (index-based)\n",
    "print(\"\\nAccessing rows from index 0 up to but excluding 2, and columns from index 0 up to but excluding 2\")\n",
    "print(dataframe.iloc[0:2, 0:2])\n",
    "\n",
    "# Accessing rows based on a condition and selecting specific column(s) by label\n",
    "print(\"\\nAccessing rows where Age > 20 and taking the 'Sex' column:\")\n",
    "print(dataframe.loc[dataframe['Age'] > 20, 'Sex'])"
   ],
   "metadata": {
    "colab": {
     "base_uri": "https://localhost:8080/"
    },
    "id": "pFYKpjoXCISW",
    "outputId": "7d1819e8-21f9-4a48-8df9-cb6cc08543eb"
   },
   "execution_count": 72,
   "outputs": [
    {
     "output_type": "stream",
     "name": "stdout",
     "text": [
      "First row using index 0:\n",
      "Age        20\n",
      "Sex         M\n",
      "Degree    BSc\n",
      "Name: 0, dtype: object\n",
      "\n",
      "Accessing the column 'Age' using its label:\n",
      "0    20\n",
      "1    22\n",
      "2    25\n",
      "Name: Age, dtype: int64\n",
      "\n",
      "Accessing rows from index 0 up to but excluding 2, and columns from index 0 up to but excluding 2\n",
      "   Age Sex\n",
      "0   20   M\n",
      "1   22   F\n",
      "\n",
      "Accessing rows where Age > 20 and taking the 'Sex' column:\n",
      "1    F\n",
      "2    M\n",
      "Name: Sex, dtype: object\n"
     ]
    }
   ]
  },
  {
   "cell_type": "code",
   "source": [
    "# experiment here"
   ],
   "metadata": {
    "id": "9NLdjSyDDeqH"
   },
   "execution_count": null,
   "outputs": []
  },
  {
   "cell_type": "markdown",
   "source": [
    "### Grouping, aggregation, and merging datasets"
   ],
   "metadata": {
    "id": "fKKCkY6hDgcb"
   }
  },
  {
   "cell_type": "code",
   "source": [
    "# Grouping data by 'Sex' and calculating the mean age for each group\n",
    "grouped_df = dataframe.groupby('Sex')['Age'].mean()\n",
    "\n",
    "print(\"Grouped DataFrame (Mean Age by Sex):\")\n",
    "print(grouped_df)"
   ],
   "metadata": {
    "colab": {
     "base_uri": "https://localhost:8080/"
    },
    "id": "5470xBxTDnlk",
    "outputId": "79401691-717b-4ddc-a89a-458f660a004d"
   },
   "execution_count": 74,
   "outputs": [
    {
     "output_type": "stream",
     "name": "stdout",
     "text": [
      "Grouped DataFrame (Mean Age by Sex):\n",
      "Sex\n",
      "F    22.0\n",
      "M    22.5\n",
      "Name: Age, dtype: float64\n"
     ]
    }
   ]
  },
  {
   "cell_type": "code",
   "source": [
    "# Aggregation: Calculate multiple statistics for the 'Age' column\n",
    "aggregated_df = dataframe.agg({'Age': ['min', 'max', 'mean', 'std']})\n",
    "\n",
    "print(\"Aggregated DataFrame (Statistics of Age):\")\n",
    "print(aggregated_df)"
   ],
   "metadata": {
    "colab": {
     "base_uri": "https://localhost:8080/"
    },
    "id": "g9Ws31b9Dxek",
    "outputId": "457fa68f-8862-4902-8f2d-9ecb55d9803e"
   },
   "execution_count": 75,
   "outputs": [
    {
     "output_type": "stream",
     "name": "stdout",
     "text": [
      "\n",
      "Aggregated DataFrame (Statistics of Age):\n",
      "            Age\n",
      "min   20.000000\n",
      "max   25.000000\n",
      "mean  22.333333\n",
      "std    2.516611\n"
     ]
    }
   ]
  },
  {
   "cell_type": "code",
   "source": [
    "dataframe"
   ],
   "metadata": {
    "colab": {
     "base_uri": "https://localhost:8080/",
     "height": 142
    },
    "id": "Yq8fpfBgEPNU",
    "outputId": "b9ba4470-04f5-48e4-ab9b-9a19ccd4f32f"
   },
   "execution_count": 82,
   "outputs": [
    {
     "output_type": "execute_result",
     "data": {
      "text/plain": [
       "   Age Sex Degree\n",
       "0   20   M    BSc\n",
       "1   22   F    MSc\n",
       "2   25   M    PhD"
      ],
      "text/html": [
       "\n",
       "  <div id=\"df-96247af3-360f-4aaa-a1fc-ea2e22bae11d\" class=\"colab-df-container\">\n",
       "    <div>\n",
       "<style scoped>\n",
       "    .dataframe tbody tr th:only-of-type {\n",
       "        vertical-align: middle;\n",
       "    }\n",
       "\n",
       "    .dataframe tbody tr th {\n",
       "        vertical-align: top;\n",
       "    }\n",
       "\n",
       "    .dataframe thead th {\n",
       "        text-align: right;\n",
       "    }\n",
       "</style>\n",
       "<table border=\"1\" class=\"dataframe\">\n",
       "  <thead>\n",
       "    <tr style=\"text-align: right;\">\n",
       "      <th></th>\n",
       "      <th>Age</th>\n",
       "      <th>Sex</th>\n",
       "      <th>Degree</th>\n",
       "    </tr>\n",
       "  </thead>\n",
       "  <tbody>\n",
       "    <tr>\n",
       "      <th>0</th>\n",
       "      <td>20</td>\n",
       "      <td>M</td>\n",
       "      <td>BSc</td>\n",
       "    </tr>\n",
       "    <tr>\n",
       "      <th>1</th>\n",
       "      <td>22</td>\n",
       "      <td>F</td>\n",
       "      <td>MSc</td>\n",
       "    </tr>\n",
       "    <tr>\n",
       "      <th>2</th>\n",
       "      <td>25</td>\n",
       "      <td>M</td>\n",
       "      <td>PhD</td>\n",
       "    </tr>\n",
       "  </tbody>\n",
       "</table>\n",
       "</div>\n",
       "    <div class=\"colab-df-buttons\">\n",
       "\n",
       "  <div class=\"colab-df-container\">\n",
       "    <button class=\"colab-df-convert\" onclick=\"convertToInteractive('df-96247af3-360f-4aaa-a1fc-ea2e22bae11d')\"\n",
       "            title=\"Convert this dataframe to an interactive table.\"\n",
       "            style=\"display:none;\">\n",
       "\n",
       "  <svg xmlns=\"http://www.w3.org/2000/svg\" height=\"24px\" viewBox=\"0 -960 960 960\">\n",
       "    <path d=\"M120-120v-720h720v720H120Zm60-500h600v-160H180v160Zm220 220h160v-160H400v160Zm0 220h160v-160H400v160ZM180-400h160v-160H180v160Zm440 0h160v-160H620v160ZM180-180h160v-160H180v160Zm440 0h160v-160H620v160Z\"/>\n",
       "  </svg>\n",
       "    </button>\n",
       "\n",
       "  <style>\n",
       "    .colab-df-container {\n",
       "      display:flex;\n",
       "      gap: 12px;\n",
       "    }\n",
       "\n",
       "    .colab-df-convert {\n",
       "      background-color: #E8F0FE;\n",
       "      border: none;\n",
       "      border-radius: 50%;\n",
       "      cursor: pointer;\n",
       "      display: none;\n",
       "      fill: #1967D2;\n",
       "      height: 32px;\n",
       "      padding: 0 0 0 0;\n",
       "      width: 32px;\n",
       "    }\n",
       "\n",
       "    .colab-df-convert:hover {\n",
       "      background-color: #E2EBFA;\n",
       "      box-shadow: 0px 1px 2px rgba(60, 64, 67, 0.3), 0px 1px 3px 1px rgba(60, 64, 67, 0.15);\n",
       "      fill: #174EA6;\n",
       "    }\n",
       "\n",
       "    .colab-df-buttons div {\n",
       "      margin-bottom: 4px;\n",
       "    }\n",
       "\n",
       "    [theme=dark] .colab-df-convert {\n",
       "      background-color: #3B4455;\n",
       "      fill: #D2E3FC;\n",
       "    }\n",
       "\n",
       "    [theme=dark] .colab-df-convert:hover {\n",
       "      background-color: #434B5C;\n",
       "      box-shadow: 0px 1px 3px 1px rgba(0, 0, 0, 0.15);\n",
       "      filter: drop-shadow(0px 1px 2px rgba(0, 0, 0, 0.3));\n",
       "      fill: #FFFFFF;\n",
       "    }\n",
       "  </style>\n",
       "\n",
       "    <script>\n",
       "      const buttonEl =\n",
       "        document.querySelector('#df-96247af3-360f-4aaa-a1fc-ea2e22bae11d button.colab-df-convert');\n",
       "      buttonEl.style.display =\n",
       "        google.colab.kernel.accessAllowed ? 'block' : 'none';\n",
       "\n",
       "      async function convertToInteractive(key) {\n",
       "        const element = document.querySelector('#df-96247af3-360f-4aaa-a1fc-ea2e22bae11d');\n",
       "        const dataTable =\n",
       "          await google.colab.kernel.invokeFunction('convertToInteractive',\n",
       "                                                    [key], {});\n",
       "        if (!dataTable) return;\n",
       "\n",
       "        const docLinkHtml = 'Like what you see? Visit the ' +\n",
       "          '<a target=\"_blank\" href=https://colab.research.google.com/notebooks/data_table.ipynb>data table notebook</a>'\n",
       "          + ' to learn more about interactive tables.';\n",
       "        element.innerHTML = '';\n",
       "        dataTable['output_type'] = 'display_data';\n",
       "        await google.colab.output.renderOutput(dataTable, element);\n",
       "        const docLink = document.createElement('div');\n",
       "        docLink.innerHTML = docLinkHtml;\n",
       "        element.appendChild(docLink);\n",
       "      }\n",
       "    </script>\n",
       "  </div>\n",
       "\n",
       "\n",
       "<div id=\"df-97077d59-5811-4e27-ad0c-9020b1eb4b37\">\n",
       "  <button class=\"colab-df-quickchart\" onclick=\"quickchart('df-97077d59-5811-4e27-ad0c-9020b1eb4b37')\"\n",
       "            title=\"Suggest charts\"\n",
       "            style=\"display:none;\">\n",
       "\n",
       "<svg xmlns=\"http://www.w3.org/2000/svg\" height=\"24px\"viewBox=\"0 0 24 24\"\n",
       "     width=\"24px\">\n",
       "    <g>\n",
       "        <path d=\"M19 3H5c-1.1 0-2 .9-2 2v14c0 1.1.9 2 2 2h14c1.1 0 2-.9 2-2V5c0-1.1-.9-2-2-2zM9 17H7v-7h2v7zm4 0h-2V7h2v10zm4 0h-2v-4h2v4z\"/>\n",
       "    </g>\n",
       "</svg>\n",
       "  </button>\n",
       "\n",
       "<style>\n",
       "  .colab-df-quickchart {\n",
       "      --bg-color: #E8F0FE;\n",
       "      --fill-color: #1967D2;\n",
       "      --hover-bg-color: #E2EBFA;\n",
       "      --hover-fill-color: #174EA6;\n",
       "      --disabled-fill-color: #AAA;\n",
       "      --disabled-bg-color: #DDD;\n",
       "  }\n",
       "\n",
       "  [theme=dark] .colab-df-quickchart {\n",
       "      --bg-color: #3B4455;\n",
       "      --fill-color: #D2E3FC;\n",
       "      --hover-bg-color: #434B5C;\n",
       "      --hover-fill-color: #FFFFFF;\n",
       "      --disabled-bg-color: #3B4455;\n",
       "      --disabled-fill-color: #666;\n",
       "  }\n",
       "\n",
       "  .colab-df-quickchart {\n",
       "    background-color: var(--bg-color);\n",
       "    border: none;\n",
       "    border-radius: 50%;\n",
       "    cursor: pointer;\n",
       "    display: none;\n",
       "    fill: var(--fill-color);\n",
       "    height: 32px;\n",
       "    padding: 0;\n",
       "    width: 32px;\n",
       "  }\n",
       "\n",
       "  .colab-df-quickchart:hover {\n",
       "    background-color: var(--hover-bg-color);\n",
       "    box-shadow: 0 1px 2px rgba(60, 64, 67, 0.3), 0 1px 3px 1px rgba(60, 64, 67, 0.15);\n",
       "    fill: var(--button-hover-fill-color);\n",
       "  }\n",
       "\n",
       "  .colab-df-quickchart-complete:disabled,\n",
       "  .colab-df-quickchart-complete:disabled:hover {\n",
       "    background-color: var(--disabled-bg-color);\n",
       "    fill: var(--disabled-fill-color);\n",
       "    box-shadow: none;\n",
       "  }\n",
       "\n",
       "  .colab-df-spinner {\n",
       "    border: 2px solid var(--fill-color);\n",
       "    border-color: transparent;\n",
       "    border-bottom-color: var(--fill-color);\n",
       "    animation:\n",
       "      spin 1s steps(1) infinite;\n",
       "  }\n",
       "\n",
       "  @keyframes spin {\n",
       "    0% {\n",
       "      border-color: transparent;\n",
       "      border-bottom-color: var(--fill-color);\n",
       "      border-left-color: var(--fill-color);\n",
       "    }\n",
       "    20% {\n",
       "      border-color: transparent;\n",
       "      border-left-color: var(--fill-color);\n",
       "      border-top-color: var(--fill-color);\n",
       "    }\n",
       "    30% {\n",
       "      border-color: transparent;\n",
       "      border-left-color: var(--fill-color);\n",
       "      border-top-color: var(--fill-color);\n",
       "      border-right-color: var(--fill-color);\n",
       "    }\n",
       "    40% {\n",
       "      border-color: transparent;\n",
       "      border-right-color: var(--fill-color);\n",
       "      border-top-color: var(--fill-color);\n",
       "    }\n",
       "    60% {\n",
       "      border-color: transparent;\n",
       "      border-right-color: var(--fill-color);\n",
       "    }\n",
       "    80% {\n",
       "      border-color: transparent;\n",
       "      border-right-color: var(--fill-color);\n",
       "      border-bottom-color: var(--fill-color);\n",
       "    }\n",
       "    90% {\n",
       "      border-color: transparent;\n",
       "      border-bottom-color: var(--fill-color);\n",
       "    }\n",
       "  }\n",
       "</style>\n",
       "\n",
       "  <script>\n",
       "    async function quickchart(key) {\n",
       "      const quickchartButtonEl =\n",
       "        document.querySelector('#' + key + ' button');\n",
       "      quickchartButtonEl.disabled = true;  // To prevent multiple clicks.\n",
       "      quickchartButtonEl.classList.add('colab-df-spinner');\n",
       "      try {\n",
       "        const charts = await google.colab.kernel.invokeFunction(\n",
       "            'suggestCharts', [key], {});\n",
       "      } catch (error) {\n",
       "        console.error('Error during call to suggestCharts:', error);\n",
       "      }\n",
       "      quickchartButtonEl.classList.remove('colab-df-spinner');\n",
       "      quickchartButtonEl.classList.add('colab-df-quickchart-complete');\n",
       "    }\n",
       "    (() => {\n",
       "      let quickchartButtonEl =\n",
       "        document.querySelector('#df-97077d59-5811-4e27-ad0c-9020b1eb4b37 button');\n",
       "      quickchartButtonEl.style.display =\n",
       "        google.colab.kernel.accessAllowed ? 'block' : 'none';\n",
       "    })();\n",
       "  </script>\n",
       "</div>\n",
       "\n",
       "  <div id=\"id_50f3db2f-3fcb-4df3-8313-6c13252b6ad2\">\n",
       "    <style>\n",
       "      .colab-df-generate {\n",
       "        background-color: #E8F0FE;\n",
       "        border: none;\n",
       "        border-radius: 50%;\n",
       "        cursor: pointer;\n",
       "        display: none;\n",
       "        fill: #1967D2;\n",
       "        height: 32px;\n",
       "        padding: 0 0 0 0;\n",
       "        width: 32px;\n",
       "      }\n",
       "\n",
       "      .colab-df-generate:hover {\n",
       "        background-color: #E2EBFA;\n",
       "        box-shadow: 0px 1px 2px rgba(60, 64, 67, 0.3), 0px 1px 3px 1px rgba(60, 64, 67, 0.15);\n",
       "        fill: #174EA6;\n",
       "      }\n",
       "\n",
       "      [theme=dark] .colab-df-generate {\n",
       "        background-color: #3B4455;\n",
       "        fill: #D2E3FC;\n",
       "      }\n",
       "\n",
       "      [theme=dark] .colab-df-generate:hover {\n",
       "        background-color: #434B5C;\n",
       "        box-shadow: 0px 1px 3px 1px rgba(0, 0, 0, 0.15);\n",
       "        filter: drop-shadow(0px 1px 2px rgba(0, 0, 0, 0.3));\n",
       "        fill: #FFFFFF;\n",
       "      }\n",
       "    </style>\n",
       "    <button class=\"colab-df-generate\" onclick=\"generateWithVariable('dataframe')\"\n",
       "            title=\"Generate code using this dataframe.\"\n",
       "            style=\"display:none;\">\n",
       "\n",
       "  <svg xmlns=\"http://www.w3.org/2000/svg\" height=\"24px\"viewBox=\"0 0 24 24\"\n",
       "       width=\"24px\">\n",
       "    <path d=\"M7,19H8.4L18.45,9,17,7.55,7,17.6ZM5,21V16.75L18.45,3.32a2,2,0,0,1,2.83,0l1.4,1.43a1.91,1.91,0,0,1,.58,1.4,1.91,1.91,0,0,1-.58,1.4L9.25,21ZM18.45,9,17,7.55Zm-12,3A5.31,5.31,0,0,0,4.9,8.1,5.31,5.31,0,0,0,1,6.5,5.31,5.31,0,0,0,4.9,4.9,5.31,5.31,0,0,0,6.5,1,5.31,5.31,0,0,0,8.1,4.9,5.31,5.31,0,0,0,12,6.5,5.46,5.46,0,0,0,6.5,12Z\"/>\n",
       "  </svg>\n",
       "    </button>\n",
       "    <script>\n",
       "      (() => {\n",
       "      const buttonEl =\n",
       "        document.querySelector('#id_50f3db2f-3fcb-4df3-8313-6c13252b6ad2 button.colab-df-generate');\n",
       "      buttonEl.style.display =\n",
       "        google.colab.kernel.accessAllowed ? 'block' : 'none';\n",
       "\n",
       "      buttonEl.onclick = () => {\n",
       "        google.colab.notebook.generateWithVariable('dataframe');\n",
       "      }\n",
       "      })();\n",
       "    </script>\n",
       "  </div>\n",
       "\n",
       "    </div>\n",
       "  </div>\n"
      ],
      "application/vnd.google.colaboratory.intrinsic+json": {
       "type": "dataframe",
       "variable_name": "dataframe",
       "summary": "{\n  \"name\": \"dataframe\",\n  \"rows\": 3,\n  \"fields\": [\n    {\n      \"column\": \"Age\",\n      \"properties\": {\n        \"dtype\": \"number\",\n        \"std\": 2,\n        \"min\": 20,\n        \"max\": 25,\n        \"num_unique_values\": 3,\n        \"samples\": [\n          20,\n          22,\n          25\n        ],\n        \"semantic_type\": \"\",\n        \"description\": \"\"\n      }\n    },\n    {\n      \"column\": \"Sex\",\n      \"properties\": {\n        \"dtype\": \"string\",\n        \"num_unique_values\": 2,\n        \"samples\": [\n          \"F\",\n          \"M\"\n        ],\n        \"semantic_type\": \"\",\n        \"description\": \"\"\n      }\n    },\n    {\n      \"column\": \"Degree\",\n      \"properties\": {\n        \"dtype\": \"string\",\n        \"num_unique_values\": 3,\n        \"samples\": [\n          \"BSc\",\n          \"MSc\"\n        ],\n        \"semantic_type\": \"\",\n        \"description\": \"\"\n      }\n    }\n  ]\n}"
      }
     },
     "metadata": {},
     "execution_count": 82
    }
   ]
  },
  {
   "cell_type": "code",
   "source": [
    "# Merging datasets\n",
    "# Create another DataFrame\n",
    "data1 = {'Age': [24, 27, 20], 'Sex': ['M', 'F', 'M'], 'Degree': ['MSc', 'PhD', 'BSc']}\n",
    "df1 = pd.DataFrame(data1)\n",
    "\n",
    "data2 = {'City': ['London', 'Cambridge', 'Nice'], 'University': ['UCL', 'MIT', 'Université Côte d Azur']}\n",
    "df2 = pd.DataFrame(data2)\n",
    "\n",
    "# create a new column 'id'\n",
    "df1['id'] = range(len(df1))\n",
    "df2['id'] = range(len(df2))\n",
    "\n",
    "print(\"DF1:\\n \", df1)\n",
    "print(\"\\nDF2: \\n \", df2)\n",
    "\n",
    "# Merge the two DataFrames based on 'id'\n",
    "print(\n",
    "    \"\\nThe 'inner' join produces a DataFrame where each row has corresponding 'id', 'Age', 'Sex', 'Degree', 'City' and 'University' from both original DataFrames.\\n\")\n",
    "merged_df = pd.merge(df1, df2, on=['id'], how='inner')\n",
    "print(merged_df[['id', 'Age', 'Sex', 'Degree', 'City', 'University']])"
   ],
   "metadata": {
    "colab": {
     "base_uri": "https://localhost:8080/"
    },
    "id": "n-opSMMQD4et",
    "outputId": "3131a2d3-7839-4df9-cb62-3c7e9aa6fada"
   },
   "execution_count": 101,
   "outputs": [
    {
     "output_type": "stream",
     "name": "stdout",
     "text": [
      "DF1:\n",
      "     Age Sex Degree  id\n",
      "0   24   M    MSc   0\n",
      "1   27   F    PhD   1\n",
      "2   20   M    BSc   2\n",
      "\n",
      "DF2: \n",
      "          City              University  id\n",
      "0     London                     UCL   0\n",
      "1  Cambridge                     MIT   1\n",
      "2       Nice  Université Côte d Azur   2\n",
      "\n",
      "The 'inner' join produces a DataFrame where each row has corresponding 'id', 'Age', 'Sex', 'Degree', 'City' and 'University' from both original DataFrames.\n",
      "\n",
      "   id  Age Sex Degree       City              University\n",
      "0   0   24   M    MSc     London                     UCL\n",
      "1   1   27   F    PhD  Cambridge                     MIT\n",
      "2   2   20   M    BSc       Nice  Université Côte d Azur\n"
     ]
    }
   ]
  },
  {
   "cell_type": "code",
   "source": [
    "# The 'how' parameter in pd.merge() controls which rows are included in the merged DataFrame based on the join keys.\n",
    "# Here's a breakdown of the differences between 'inner', 'left', 'right', and 'outer' joins:\n",
    "\n",
    "# 1. Inner Join (how='inner'):\n",
    "#   - Includes only the rows where the join keys exist in BOTH DataFrames.\n",
    "#   - Rows with join keys present in one DataFrame but not the other are excluded from the merged result.\n",
    "#   - This is the default join type if you do not specify the 'how' parameter.\n",
    "\n",
    "# 2. Left Join (how='left'):\n",
    "#   - Includes ALL rows from the left DataFrame (df1 in the example).\n",
    "#   - Includes matching rows from the right DataFrame (df2).\n",
    "#   - If a join key from the left DataFrame does not have a corresponding match in the right DataFrame, the columns from the right DataFrame for that row will contain NaN (Not a Number) values.\n",
    "\n",
    "# 3. Right Join (how='right'):\n",
    "#   - Includes ALL rows from the right DataFrame (df2 in the example).\n",
    "#   - Includes matching rows from the left DataFrame (df1).\n",
    "#   - If a join key from the right DataFrame does not have a match in the left DataFrame, the left DataFrame columns will contain NaN values for that row.\n",
    "\n",
    "# 4. Outer Join (how='outer'):\n",
    "#   - Includes ALL rows from BOTH DataFrames.\n",
    "#   - If a join key exists in one DataFrame but not the other, the missing values in the other DataFrame's columns will be filled with NaN.\n",
    "#   - It combines all the unique join keys from both DataFrames.\n",
    "\n",
    "data1 = {'Age': [24, 27, 20], 'Sex': ['M', 'F', 'M'], 'Degree': ['MSc', 'PhD', 'BSc']}\n",
    "df1 = pd.DataFrame(data1)\n",
    "\n",
    "data2 = {'City': ['London', 'Cambridge', 'Nice'], 'University': ['UCL', 'MIT', 'Université Côte d Azur']}\n",
    "df2 = pd.DataFrame(data2)\n",
    "\n",
    "df1['id'] = [0, 1, 2]\n",
    "df2['id'] = [2, 3, 4]\n",
    "\n",
    "print(\n",
    "    \"The 'left' join keeps all rows from df1 and matches those that have corresponding 'id' values in df2. Rows in df1 without a match in df2 have NaNs for City and University.\\n\")\n",
    "merged_df = pd.merge(df1, df2, on=['id'], how='left')\n",
    "print(merged_df[['id', 'Age', 'Sex', 'Degree', 'City', 'University']])\n",
    "\n",
    "print(\n",
    "    \"\\nThe 'right' join keeps all rows from df2 and matches those that have corresponding 'id' values in df1. Rows in df2 without a match in df1 have NaNs for Age, Sex, and Degree.\\n\")\n",
    "merged_df = pd.merge(df1, df2, on=['id'], how='right')\n",
    "print(merged_df[['id', 'Age', 'Sex', 'Degree', 'City', 'University']])\n",
    "\n",
    "print(\n",
    "    \"\\nThe 'outer' join includes all rows from both df1 and df2. Rows unique to either df1 or df2 have NaN for columns from the other DataFrame.\\n\")\n",
    "merged_df = pd.merge(df1, df2, on=['id'], how='outer')\n",
    "print(merged_df[['id', 'Age', 'Sex', 'Degree', 'City', 'University']])"
   ],
   "metadata": {
    "colab": {
     "base_uri": "https://localhost:8080/"
    },
    "id": "6dl6gnNMFz52",
    "outputId": "e90d50fa-693f-4022-d50c-472537d232de"
   },
   "execution_count": 103,
   "outputs": [
    {
     "output_type": "stream",
     "name": "stdout",
     "text": [
      "The 'left' join keeps all rows from df1 and matches those that have corresponding 'id' values in df2. Rows in df1 without a match in df2 have NaNs for City and University.\n",
      "\n",
      "   id  Age Sex Degree    City University\n",
      "0   0   24   M    MSc     NaN        NaN\n",
      "1   1   27   F    PhD     NaN        NaN\n",
      "2   2   20   M    BSc  London        UCL\n",
      "\n",
      "The 'right' join keeps all rows from df2 and matches those that have corresponding 'id' values in df1. Rows in df2 without a match in df1 have NaNs for Age, Sex, and Degree.\n",
      "\n",
      "   id   Age  Sex Degree       City              University\n",
      "0   2  20.0    M    BSc     London                     UCL\n",
      "1   3   NaN  NaN    NaN  Cambridge                     MIT\n",
      "2   4   NaN  NaN    NaN       Nice  Université Côte d Azur\n",
      "\n",
      "The 'outer' join includes all rows from both df1 and df2. Rows unique to either df1 or df2 have NaN for columns from the other DataFrame.\n",
      "\n",
      "   id   Age  Sex Degree       City              University\n",
      "0   0  24.0    M    MSc        NaN                     NaN\n",
      "1   1  27.0    F    PhD        NaN                     NaN\n",
      "2   2  20.0    M    BSc     London                     UCL\n",
      "3   3   NaN  NaN    NaN  Cambridge                     MIT\n",
      "4   4   NaN  NaN    NaN       Nice  Université Côte d Azur\n"
     ]
    }
   ]
  }
 ]
}
