{
  "nbformat": 4,
  "nbformat_minor": 0,
  "metadata": {
    "colab": {
      "provenance": [],
      "toc_visible": true
    },
    "kernelspec": {
      "name": "python3",
      "display_name": "Python 3"
    },
    "language_info": {
      "name": "python"
    }
  },
  "cells": [
    {
      "cell_type": "markdown",
      "source": [
        "# Python Basics\n"
      ],
      "metadata": {
        "id": "ZfzBvKJtiqdj"
      }
    },
    {
      "cell_type": "markdown",
      "source": [
        "## Variables and Data Types"
      ],
      "metadata": {
        "id": "hRJA83Nhi8tU"
      }
    },
    {
      "cell_type": "code",
      "source": [
        "# Define variables\n",
        "x = 10          # Integer\n",
        "pi = 3.14       # Float\n",
        "name = \"Alice\"  # String\n",
        "is_student = True  # Boolean\n",
        "\n",
        "# Print variables\n",
        "print(\"x:\", x)\n",
        "print(\"pi:\", pi)\n",
        "print(\"name:\", name)\n",
        "print(\"is_student:\", is_student)\n",
        "\n",
        "# Check data types\n",
        "print(type(x))\n",
        "print(type(pi))\n",
        "print(type(name))\n",
        "print(type(is_student))\n",
        "\n",
        "# List, Tuple, Dictionary, Set\n",
        "my_list = [1, 2, 3, 4]\n",
        "my_tuple = (5, 6, 7, 8)\n",
        "my_dict = {\"key1\": \"value1\", \"key2\": \"value2\"}\n",
        "my_set = {9, 10, 11}\n",
        "\n",
        "print(\"List:\", my_list)\n",
        "print(\"Tuple:\", my_tuple)\n",
        "print(\"Dictionary:\", my_dict)\n",
        "print(\"Set:\", my_set)"
      ],
      "metadata": {
        "colab": {
          "base_uri": "https://localhost:8080/"
        },
        "id": "X5hDuVSki7n9",
        "outputId": "e1120511-91bd-4800-bd09-46801e824af7"
      },
      "execution_count": 12,
      "outputs": [
        {
          "output_type": "stream",
          "name": "stdout",
          "text": [
            "x: 10\n",
            "pi: 3.14\n",
            "name: Alice\n",
            "is_student: True\n",
            "<class 'int'>\n",
            "<class 'float'>\n",
            "<class 'str'>\n",
            "<class 'bool'>\n",
            "List: [1, 2, 3, 4]\n",
            "Tuple: (5, 6, 7, 8)\n",
            "Dictionary: {'key1': 'value1', 'key2': 'value2'}\n",
            "Set: {9, 10, 11}\n"
          ]
        }
      ]
    },
    {
      "cell_type": "markdown",
      "source": [
        "## Conditional Statements (if-else)\n"
      ],
      "metadata": {
        "id": "v3JLnCBHjP0g"
      }
    },
    {
      "cell_type": "code",
      "source": [
        "# Example of if-else\n",
        "x = 15\n",
        "if x > 10:\n",
        "    print(\"x is greater than 10\")\n",
        "elif x == 10:\n",
        "    print(\"x is equal to 10\")\n",
        "else:\n",
        "    print(\"x is less than 10\")"
      ],
      "metadata": {
        "id": "7FPzN0UMjX-d",
        "colab": {
          "base_uri": "https://localhost:8080/"
        },
        "outputId": "a1ae7e30-8af8-4f36-fec3-13bf4bda4ab3"
      },
      "execution_count": 13,
      "outputs": [
        {
          "output_type": "stream",
          "name": "stdout",
          "text": [
            "x is greater than 10\n"
          ]
        }
      ]
    },
    {
      "cell_type": "markdown",
      "source": [
        "## Loops"
      ],
      "metadata": {
        "id": "nQEWZ2CajUBx"
      }
    },
    {
      "cell_type": "code",
      "source": [
        "## Loops\n",
        "\n",
        "# For loop example\n",
        "for i in range(5):\n",
        "    print(\"For loop iteration:\", i)\n",
        "\n",
        "# While loop example\n",
        "counter = 0\n",
        "while counter < 5:\n",
        "    print(\"While loop iteration:\", counter)\n",
        "    counter += 1"
      ],
      "metadata": {
        "id": "lv-DkmP6jTCy",
        "colab": {
          "base_uri": "https://localhost:8080/"
        },
        "outputId": "4e5f540f-26ba-4476-f42f-d79838dce9ab"
      },
      "execution_count": 14,
      "outputs": [
        {
          "output_type": "stream",
          "name": "stdout",
          "text": [
            "For loop iteration: 0\n",
            "For loop iteration: 1\n",
            "For loop iteration: 2\n",
            "For loop iteration: 3\n",
            "For loop iteration: 4\n",
            "While loop iteration: 0\n",
            "While loop iteration: 1\n",
            "While loop iteration: 2\n",
            "While loop iteration: 3\n",
            "While loop iteration: 4\n"
          ]
        }
      ]
    },
    {
      "cell_type": "markdown",
      "source": [
        "## Functions"
      ],
      "metadata": {
        "id": "U1QsqLa7jdDv"
      }
    },
    {
      "cell_type": "code",
      "source": [
        "# Define a simple function\n",
        "def greet(name):\n",
        "    return f\"Hello, {name}!\"\n",
        "\n",
        "# Test the function\n",
        "print(greet(\"Alice\"))"
      ],
      "metadata": {
        "id": "UvmifSvXjd_Z",
        "colab": {
          "base_uri": "https://localhost:8080/"
        },
        "outputId": "5f902151-1dd0-4bd8-98ed-a3ed6a9b2fb0"
      },
      "execution_count": 15,
      "outputs": [
        {
          "output_type": "stream",
          "name": "stdout",
          "text": [
            "Hello, Alice!\n"
          ]
        }
      ]
    },
    {
      "cell_type": "markdown",
      "source": [
        "## Run a script"
      ],
      "metadata": {
        "id": "wmOCN7WNjgwU"
      }
    },
    {
      "cell_type": "code",
      "execution_count": 16,
      "metadata": {
        "id": "t2Cy6VcMipp6",
        "colab": {
          "base_uri": "https://localhost:8080/"
        },
        "outputId": "bb83c699-0535-4c46-93eb-397adab715dd"
      },
      "outputs": [
        {
          "output_type": "stream",
          "name": "stdout",
          "text": [
            "This script is being run directly.\n"
          ]
        }
      ],
      "source": [
        "# Example of writing a script (this part would normally go in a .py file)\n",
        "# Save this content as script.py\n",
        "# Then run it in the terminal with: python script.py\n",
        "if __name__ == \"__main__\":\n",
        "    print(\"This script is being run directly.\")"
      ]
    },
    {
      "cell_type": "markdown",
      "source": [
        "# Python Libraries for Data Analysis: Numpy"
      ],
      "metadata": {
        "id": "jzi6Aa6uscA0"
      }
    },
    {
      "cell_type": "code",
      "source": [
        "# Importing the NumPy library\n",
        "import numpy as np"
      ],
      "metadata": {
        "id": "aatdlRRvsf8C"
      },
      "execution_count": 17,
      "outputs": []
    },
    {
      "cell_type": "markdown",
      "source": [
        "## 1. Create Arrays"
      ],
      "metadata": {
        "id": "-NrmWR2esrg0"
      }
    },
    {
      "cell_type": "code",
      "source": [
        "# Creating a 1D array\n",
        "array_1d = np.array([1, 2, 3, 4, 5])\n",
        "print(\"1D Array:\", array_1d)"
      ],
      "metadata": {
        "colab": {
          "base_uri": "https://localhost:8080/"
        },
        "id": "9BsDtU3nsvoj",
        "outputId": "fbd92a09-eb62-4e9f-9766-bd063189aafe"
      },
      "execution_count": 18,
      "outputs": [
        {
          "output_type": "stream",
          "name": "stdout",
          "text": [
            "1D Array: [1 2 3 4 5]\n"
          ]
        }
      ]
    },
    {
      "cell_type": "code",
      "source": [
        "# Creating a 2D array\n",
        "array_2d = np.array([[1, 2, 3], [4, 5, 6]])\n",
        "print(\"\\n2D Array:\\n\", array_2d)"
      ],
      "metadata": {
        "colab": {
          "base_uri": "https://localhost:8080/"
        },
        "id": "uTwdC9MVsv9x",
        "outputId": "84c1018e-edd2-42a3-9aea-ef71fea18e8a"
      },
      "execution_count": 19,
      "outputs": [
        {
          "output_type": "stream",
          "name": "stdout",
          "text": [
            "\n",
            "2D Array:\n",
            " [[1 2 3]\n",
            " [4 5 6]]\n"
          ]
        }
      ]
    },
    {
      "cell_type": "code",
      "source": [
        "# Creating arrays with zeros, ones, or a range of numbers\n",
        "zeros_array = np.zeros((2, 3))\n",
        "ones_array = np.ones((3, 2))\n",
        "range_array = np.arange(0, 10, 2)\n",
        "print(\"\\nZeros Array:\\n\", zeros_array)\n",
        "print(\"\\nOnes Array:\\n\", ones_array)\n",
        "print(\"\\nRange Array:\", range_array)"
      ],
      "metadata": {
        "colab": {
          "base_uri": "https://localhost:8080/"
        },
        "id": "iKF8HxmRsxH7",
        "outputId": "57a5bd84-8c69-495c-bedd-47e2ac9a2a46"
      },
      "execution_count": 20,
      "outputs": [
        {
          "output_type": "stream",
          "name": "stdout",
          "text": [
            "\n",
            "Zeros Array:\n",
            " [[0. 0. 0.]\n",
            " [0. 0. 0.]]\n",
            "\n",
            "Ones Array:\n",
            " [[1. 1.]\n",
            " [1. 1.]\n",
            " [1. 1.]]\n",
            "\n",
            "Range Array: [0 2 4 6 8]\n"
          ]
        }
      ]
    },
    {
      "cell_type": "markdown",
      "source": [
        "## 2. Array Operations"
      ],
      "metadata": {
        "id": "5rP9nHLnuHA3"
      }
    },
    {
      "cell_type": "code",
      "source": [
        "# Element-wise addition, subtraction, multiplication, and division\n",
        "array_a = np.array([1, 2, 3])\n",
        "array_b = np.array([4, 5, 6])\n",
        "print(\"\\nAddition:\", array_a + array_b)\n",
        "print(\"Multiplication:\", array_a * array_b)"
      ],
      "metadata": {
        "colab": {
          "base_uri": "https://localhost:8080/"
        },
        "id": "dJzcrlBBs0p1",
        "outputId": "61c3077e-c7c9-4d9c-f163-e6c362ceca74"
      },
      "execution_count": 21,
      "outputs": [
        {
          "output_type": "stream",
          "name": "stdout",
          "text": [
            "\n",
            "Addition: [5 7 9]\n",
            "Multiplication: [ 4 10 18]\n"
          ]
        }
      ]
    },
    {
      "cell_type": "code",
      "source": [
        "# Dot product\n",
        "dot_product = np.dot(array_a, array_b)\n",
        "print(\"\\nDot Product:\", dot_product)"
      ],
      "metadata": {
        "colab": {
          "base_uri": "https://localhost:8080/"
        },
        "id": "qvxhEVd2uIYc",
        "outputId": "96174a55-f421-452d-ce26-e5feafc25689"
      },
      "execution_count": 22,
      "outputs": [
        {
          "output_type": "stream",
          "name": "stdout",
          "text": [
            "\n",
            "Dot Product: 32\n"
          ]
        }
      ]
    },
    {
      "cell_type": "markdown",
      "source": [
        "## 3. Statistical Functions"
      ],
      "metadata": {
        "id": "HBA4kvBVuK_O"
      }
    },
    {
      "cell_type": "code",
      "source": [
        "array_stats = np.array([10, 20, 30, 40, 50])\n",
        "print(\"\\nMean:\", np.mean(array_stats))\n",
        "print(\"Sum:\", np.sum(array_stats))\n",
        "print(\"Maximum:\", np.max(array_stats))\n",
        "print(\"Standard Deviation:\", np.std(array_stats))"
      ],
      "metadata": {
        "colab": {
          "base_uri": "https://localhost:8080/"
        },
        "id": "5fMpTXW0uJbu",
        "outputId": "6f512326-29e6-4636-bc51-5eca739d505d"
      },
      "execution_count": 23,
      "outputs": [
        {
          "output_type": "stream",
          "name": "stdout",
          "text": [
            "\n",
            "Mean: 30.0\n",
            "Sum: 150\n",
            "Maximum: 50\n",
            "Standard Deviation: 14.142135623730951\n"
          ]
        }
      ]
    },
    {
      "cell_type": "markdown",
      "source": [
        "## 4. Indexing and Slicing"
      ],
      "metadata": {
        "id": "S_amvrvKuNv3"
      }
    },
    {
      "cell_type": "code",
      "source": [
        "print(\"\\nElement at index 1:\", array_1d[1])  # Accessing element\n",
        "print(\"First row of 2D array:\", array_2d[0])  # Accessing a row\n",
        "print(\"Element at (1, 2):\", array_2d[1, 2])  # Accessing specific element"
      ],
      "metadata": {
        "colab": {
          "base_uri": "https://localhost:8080/"
        },
        "id": "qLWatq_SuOha",
        "outputId": "bfe39b58-bb89-4ff2-ab3e-b9fd4feca29e"
      },
      "execution_count": 24,
      "outputs": [
        {
          "output_type": "stream",
          "name": "stdout",
          "text": [
            "\n",
            "Element at index 1: 2\n",
            "First row of 2D array: [1 2 3]\n",
            "Element at (1, 2): 6\n"
          ]
        }
      ]
    },
    {
      "cell_type": "markdown",
      "source": [
        "## 5. Reshaping Arrays"
      ],
      "metadata": {
        "id": "QTrJo_EouQP7"
      }
    },
    {
      "cell_type": "code",
      "source": [
        "reshaped_array = np.reshape(array_1d, (1, 5))  # Reshape to 1 row, 5 columns\n",
        "print(\"\\nReshaped Array:\\n\", reshaped_array)"
      ],
      "metadata": {
        "colab": {
          "base_uri": "https://localhost:8080/"
        },
        "id": "Ur1ibcLvuRoO",
        "outputId": "9d97752d-d6cc-4c6e-ed42-1af4c58ad16f"
      },
      "execution_count": 25,
      "outputs": [
        {
          "output_type": "stream",
          "name": "stdout",
          "text": [
            "\n",
            "Reshaped Array:\n",
            " [[1 2 3 4 5]]\n"
          ]
        }
      ]
    },
    {
      "cell_type": "markdown",
      "source": [
        "## 6. Boolean Indexing"
      ],
      "metadata": {
        "id": "Sn9E_1ufuW5t"
      }
    },
    {
      "cell_type": "code",
      "source": [
        "bool_array = array_stats > 25  # Elements greater than 25\n",
        "print(\"\\nBoolean Array:\", bool_array)\n",
        "print(\"Filtered Array (values > 25):\", array_stats[bool_array])"
      ],
      "metadata": {
        "colab": {
          "base_uri": "https://localhost:8080/"
        },
        "id": "GdR6ud4DuT4y",
        "outputId": "927895e5-9644-4e45-b2f7-9e03944b2d4e"
      },
      "execution_count": 26,
      "outputs": [
        {
          "output_type": "stream",
          "name": "stdout",
          "text": [
            "\n",
            "Boolean Array: [False False  True  True  True]\n",
            "Filtered Array (values > 25): [30 40 50]\n"
          ]
        }
      ]
    },
    {
      "cell_type": "markdown",
      "source": [
        "# Python Libraries for Data Analysis: Pandas"
      ],
      "metadata": {
        "id": "pG1cAlIpub3T"
      }
    },
    {
      "cell_type": "code",
      "source": [
        "# Importing the Pandas library\n",
        "import pandas as pd"
      ],
      "metadata": {
        "id": "bh5pvFXTupOv"
      },
      "execution_count": 27,
      "outputs": []
    },
    {
      "cell_type": "markdown",
      "source": [
        "## 1. Creating a DataFrame"
      ],
      "metadata": {
        "id": "cNrhBKuauqGy"
      }
    },
    {
      "cell_type": "code",
      "source": [
        "# Creating a DataFrame from a dictionary\n",
        "data = {\n",
        "    \"Name\": [\"Alice\", \"Bob\", \"Charlie\"],\n",
        "    \"Age\": [25, 30, 35],\n",
        "    \"City\": [\"New York\", \"Los Angeles\", \"Chicago\"]\n",
        "}\n",
        "df = pd.DataFrame(data)\n",
        "print(\"DataFrame:\\n\", df)"
      ],
      "metadata": {
        "colab": {
          "base_uri": "https://localhost:8080/"
        },
        "id": "1s2ppvlcuqhV",
        "outputId": "75a63240-e580-49ea-cd5b-e1ead7a310f9"
      },
      "execution_count": 28,
      "outputs": [
        {
          "output_type": "stream",
          "name": "stdout",
          "text": [
            "DataFrame:\n",
            "       Name  Age         City\n",
            "0    Alice   25     New York\n",
            "1      Bob   30  Los Angeles\n",
            "2  Charlie   35      Chicago\n"
          ]
        }
      ]
    },
    {
      "cell_type": "markdown",
      "source": [
        "## 2. Reading and Writing Files"
      ],
      "metadata": {
        "id": "b-Sxqw03uuNB"
      }
    },
    {
      "cell_type": "code",
      "source": [
        "# Save the DataFrame to a CSV file\n",
        "df.to_csv(\"example.csv\", index=False)\n",
        "print(\"\\nData saved to 'example.csv'\")\n",
        "\n",
        "# Read the CSV file back into a DataFrame\n",
        "df_read = pd.read_csv(\"example.csv\")\n",
        "print(\"\\nRead DataFrame from CSV:\\n\", df_read)"
      ],
      "metadata": {
        "colab": {
          "base_uri": "https://localhost:8080/"
        },
        "id": "D1to2kJsur30",
        "outputId": "cb2ecf3a-3b92-4aa0-9a47-ab86a34f3727"
      },
      "execution_count": 29,
      "outputs": [
        {
          "output_type": "stream",
          "name": "stdout",
          "text": [
            "\n",
            "Data saved to 'example.csv'\n",
            "\n",
            "Read DataFrame from CSV:\n",
            "       Name  Age         City\n",
            "0    Alice   25     New York\n",
            "1      Bob   30  Los Angeles\n",
            "2  Charlie   35      Chicago\n"
          ]
        }
      ]
    },
    {
      "cell_type": "markdown",
      "source": [
        "## 3. Basic DataFrame Operations\n"
      ],
      "metadata": {
        "id": "OkjiYSbfuy1m"
      }
    },
    {
      "cell_type": "code",
      "source": [
        "print(\"\\nColumn Names:\", df.columns)\n",
        "print(\"Data Types:\\n\", df.dtypes)\n",
        "print(\"First 2 Rows:\\n\", df.head(2))  # Display the first 2 rows"
      ],
      "metadata": {
        "colab": {
          "base_uri": "https://localhost:8080/"
        },
        "id": "RxOLtQCjuzs9",
        "outputId": "dc33d968-aa6c-4b83-a6ba-3f4267afdf03"
      },
      "execution_count": 30,
      "outputs": [
        {
          "output_type": "stream",
          "name": "stdout",
          "text": [
            "\n",
            "Column Names: Index(['Name', 'Age', 'City'], dtype='object')\n",
            "Data Types:\n",
            " Name    object\n",
            "Age      int64\n",
            "City    object\n",
            "dtype: object\n",
            "First 2 Rows:\n",
            "     Name  Age         City\n",
            "0  Alice   25     New York\n",
            "1    Bob   30  Los Angeles\n"
          ]
        }
      ]
    }
  ]
}