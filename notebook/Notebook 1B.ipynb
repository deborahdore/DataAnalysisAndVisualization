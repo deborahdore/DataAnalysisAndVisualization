{
  "nbformat": 4,
  "nbformat_minor": 0,
  "metadata": {
    "colab": {
      "provenance": []
    },
    "kernelspec": {
      "name": "python3",
      "display_name": "Python 3"
    },
    "language_info": {
      "name": "python"
    }
  },
  "cells": [
    {
      "cell_type": "markdown",
      "source": [
        "# Python Basics\n"
      ],
      "metadata": {
        "id": "ZfzBvKJtiqdj"
      }
    },
    {
      "cell_type": "markdown",
      "source": [
        "## Variables and Data Types"
      ],
      "metadata": {
        "id": "hRJA83Nhi8tU"
      }
    },
    {
      "cell_type": "code",
      "source": [
        "# Define variables\n",
        "x = 10          # Integer\n",
        "pi = 3.14       # Float\n",
        "name = \"Alice\"  # String\n",
        "is_student = True  # Boolean\n",
        "\n",
        "# Print variables\n",
        "print(\"x:\", x)\n",
        "print(\"pi:\", pi)\n",
        "print(\"name:\", name)\n",
        "print(\"is_student:\", is_student)\n",
        "\n",
        "# Check data types\n",
        "print(type(x))\n",
        "print(type(pi))\n",
        "print(type(name))\n",
        "print(type(is_student))\n",
        "\n",
        "# List, Tuple, Dictionary, Set\n",
        "my_list = [1, 2, 3, 4]\n",
        "my_tuple = (5, 6, 7, 8)\n",
        "my_dict = {\"key1\": \"value1\", \"key2\": \"value2\"}\n",
        "my_set = {9, 10, 11}\n",
        "\n",
        "print(\"List:\", my_list)\n",
        "print(\"Tuple:\", my_tuple)\n",
        "print(\"Dictionary:\", my_dict)\n",
        "print(\"Set:\", my_set)"
      ],
      "metadata": {
        "colab": {
          "base_uri": "https://localhost:8080/"
        },
        "id": "X5hDuVSki7n9",
        "outputId": "afdffcac-e7a9-4351-ba88-b510c877cf01"
      },
      "execution_count": 1,
      "outputs": [
        {
          "output_type": "stream",
          "name": "stdout",
          "text": [
            "x: 10\n",
            "pi: 3.14\n",
            "name: Alice\n",
            "is_student: True\n",
            "<class 'int'>\n",
            "<class 'float'>\n",
            "<class 'str'>\n",
            "<class 'bool'>\n",
            "List: [1, 2, 3, 4]\n",
            "Tuple: (5, 6, 7, 8)\n",
            "Dictionary: {'key1': 'value1', 'key2': 'value2'}\n",
            "Set: {9, 10, 11}\n"
          ]
        }
      ]
    },
    {
      "cell_type": "markdown",
      "source": [
        "## Conditional Statements (if-else)\n"
      ],
      "metadata": {
        "id": "v3JLnCBHjP0g"
      }
    },
    {
      "cell_type": "code",
      "source": [
        "# Example of if-else\n",
        "x = 15\n",
        "if x > 10:\n",
        "    print(\"x is greater than 10\")\n",
        "elif x == 10:\n",
        "    print(\"x is equal to 10\")\n",
        "else:\n",
        "    print(\"x is less than 10\")"
      ],
      "metadata": {
        "id": "7FPzN0UMjX-d"
      },
      "execution_count": null,
      "outputs": []
    },
    {
      "cell_type": "markdown",
      "source": [
        "## Loops"
      ],
      "metadata": {
        "id": "nQEWZ2CajUBx"
      }
    },
    {
      "cell_type": "code",
      "source": [
        "## Loops\n",
        "\n",
        "# For loop example\n",
        "for i in range(5):\n",
        "    print(\"For loop iteration:\", i)\n",
        "\n",
        "# While loop example\n",
        "counter = 0\n",
        "while counter < 5:\n",
        "    print(\"While loop iteration:\", counter)\n",
        "    counter += 1"
      ],
      "metadata": {
        "id": "lv-DkmP6jTCy"
      },
      "execution_count": null,
      "outputs": []
    },
    {
      "cell_type": "markdown",
      "source": [
        "## Functions"
      ],
      "metadata": {
        "id": "U1QsqLa7jdDv"
      }
    },
    {
      "cell_type": "code",
      "source": [
        "# Define a simple function\n",
        "def greet(name):\n",
        "    return f\"Hello, {name}!\"\n",
        "\n",
        "# Test the function\n",
        "print(greet(\"Alice\"))"
      ],
      "metadata": {
        "id": "UvmifSvXjd_Z"
      },
      "execution_count": null,
      "outputs": []
    },
    {
      "cell_type": "markdown",
      "source": [
        "## Run a script"
      ],
      "metadata": {
        "id": "wmOCN7WNjgwU"
      }
    },
    {
      "cell_type": "code",
      "execution_count": null,
      "metadata": {
        "id": "t2Cy6VcMipp6"
      },
      "outputs": [],
      "source": [
        "# Example of writing a script (this part would normally go in a .py file)\n",
        "# Save this content as script.py\n",
        "# Then run it in the terminal with: python script.py\n",
        "if __name__ == \"__main__\":\n",
        "    print(\"This script is being run directly.\")"
      ]
    }
  ]
}