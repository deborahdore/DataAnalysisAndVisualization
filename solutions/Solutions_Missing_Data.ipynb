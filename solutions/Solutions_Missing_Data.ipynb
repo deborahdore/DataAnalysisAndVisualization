{
  "cells": [
    {
      "cell_type": "markdown",
      "metadata": {
        "id": "C6E_d6ypElNC"
      },
      "source": [
        "# Handling Missing Values: Comprehensive Notebook\n",
        "\n",
        "This Python notebook provides an in-depth exploration of techniques to handle missing data, a crucial aspect of data preprocessing in machine learning and data analysis. By the end of this notebook, you will:\n",
        "- Understand the importance of addressing missing values.\n",
        "- Learn various techniques to visualize and handle missing data.\n",
        "- Gain hands-on experience with real-world examples.\n",
        "\n",
        "Let's dive in!"
      ]
    },
    {
      "cell_type": "code",
      "execution_count": 1,
      "metadata": {
        "id": "Qby6c-iIEoJF"
      },
      "outputs": [],
      "source": [
        "import matplotlib.pyplot as plt\n",
        "import numpy as np\n",
        "# Step 1: Importing necessary libraries\n",
        "import pandas as pd\n",
        "import seaborn as sns\n",
        "from sklearn.impute import SimpleImputer, KNNImputer\n",
        "\n",
        "# Ensure plots are displayed inline in Jupyter Notebooks\n",
        "%matplotlib inline"
      ]
    },
    {
      "cell_type": "code",
      "execution_count": 2,
      "metadata": {
        "id": "rTvaALG-Epi9",
        "colab": {
          "base_uri": "https://localhost:8080/",
          "height": 204
        },
        "outputId": "80a3702d-d16f-4904-c6f1-8237e31cfb56"
      },
      "outputs": [
        {
          "output_type": "execute_result",
          "data": {
            "text/plain": [
              "   Feature_1  Feature_2  Feature_3 Feature_4\n",
              "0        1.0        3.0        NaN         A\n",
              "1        NaN        3.0        5.0         B\n",
              "2        2.0        3.0        5.0         B\n",
              "3        2.0        3.0        NaN         B\n",
              "4        1.0        4.0        NaN         B"
            ],
            "text/html": [
              "\n",
              "  <div id=\"df-e1d9955d-d517-460c-bbd5-abd91e8eda05\" class=\"colab-df-container\">\n",
              "    <div>\n",
              "<style scoped>\n",
              "    .dataframe tbody tr th:only-of-type {\n",
              "        vertical-align: middle;\n",
              "    }\n",
              "\n",
              "    .dataframe tbody tr th {\n",
              "        vertical-align: top;\n",
              "    }\n",
              "\n",
              "    .dataframe thead th {\n",
              "        text-align: right;\n",
              "    }\n",
              "</style>\n",
              "<table border=\"1\" class=\"dataframe\">\n",
              "  <thead>\n",
              "    <tr style=\"text-align: right;\">\n",
              "      <th></th>\n",
              "      <th>Feature_1</th>\n",
              "      <th>Feature_2</th>\n",
              "      <th>Feature_3</th>\n",
              "      <th>Feature_4</th>\n",
              "    </tr>\n",
              "  </thead>\n",
              "  <tbody>\n",
              "    <tr>\n",
              "      <th>0</th>\n",
              "      <td>1.0</td>\n",
              "      <td>3.0</td>\n",
              "      <td>NaN</td>\n",
              "      <td>A</td>\n",
              "    </tr>\n",
              "    <tr>\n",
              "      <th>1</th>\n",
              "      <td>NaN</td>\n",
              "      <td>3.0</td>\n",
              "      <td>5.0</td>\n",
              "      <td>B</td>\n",
              "    </tr>\n",
              "    <tr>\n",
              "      <th>2</th>\n",
              "      <td>2.0</td>\n",
              "      <td>3.0</td>\n",
              "      <td>5.0</td>\n",
              "      <td>B</td>\n",
              "    </tr>\n",
              "    <tr>\n",
              "      <th>3</th>\n",
              "      <td>2.0</td>\n",
              "      <td>3.0</td>\n",
              "      <td>NaN</td>\n",
              "      <td>B</td>\n",
              "    </tr>\n",
              "    <tr>\n",
              "      <th>4</th>\n",
              "      <td>1.0</td>\n",
              "      <td>4.0</td>\n",
              "      <td>NaN</td>\n",
              "      <td>B</td>\n",
              "    </tr>\n",
              "  </tbody>\n",
              "</table>\n",
              "</div>\n",
              "    <div class=\"colab-df-buttons\">\n",
              "\n",
              "  <div class=\"colab-df-container\">\n",
              "    <button class=\"colab-df-convert\" onclick=\"convertToInteractive('df-e1d9955d-d517-460c-bbd5-abd91e8eda05')\"\n",
              "            title=\"Convert this dataframe to an interactive table.\"\n",
              "            style=\"display:none;\">\n",
              "\n",
              "  <svg xmlns=\"http://www.w3.org/2000/svg\" height=\"24px\" viewBox=\"0 -960 960 960\">\n",
              "    <path d=\"M120-120v-720h720v720H120Zm60-500h600v-160H180v160Zm220 220h160v-160H400v160Zm0 220h160v-160H400v160ZM180-400h160v-160H180v160Zm440 0h160v-160H620v160ZM180-180h160v-160H180v160Zm440 0h160v-160H620v160Z\"/>\n",
              "  </svg>\n",
              "    </button>\n",
              "\n",
              "  <style>\n",
              "    .colab-df-container {\n",
              "      display:flex;\n",
              "      gap: 12px;\n",
              "    }\n",
              "\n",
              "    .colab-df-convert {\n",
              "      background-color: #E8F0FE;\n",
              "      border: none;\n",
              "      border-radius: 50%;\n",
              "      cursor: pointer;\n",
              "      display: none;\n",
              "      fill: #1967D2;\n",
              "      height: 32px;\n",
              "      padding: 0 0 0 0;\n",
              "      width: 32px;\n",
              "    }\n",
              "\n",
              "    .colab-df-convert:hover {\n",
              "      background-color: #E2EBFA;\n",
              "      box-shadow: 0px 1px 2px rgba(60, 64, 67, 0.3), 0px 1px 3px 1px rgba(60, 64, 67, 0.15);\n",
              "      fill: #174EA6;\n",
              "    }\n",
              "\n",
              "    .colab-df-buttons div {\n",
              "      margin-bottom: 4px;\n",
              "    }\n",
              "\n",
              "    [theme=dark] .colab-df-convert {\n",
              "      background-color: #3B4455;\n",
              "      fill: #D2E3FC;\n",
              "    }\n",
              "\n",
              "    [theme=dark] .colab-df-convert:hover {\n",
              "      background-color: #434B5C;\n",
              "      box-shadow: 0px 1px 3px 1px rgba(0, 0, 0, 0.15);\n",
              "      filter: drop-shadow(0px 1px 2px rgba(0, 0, 0, 0.3));\n",
              "      fill: #FFFFFF;\n",
              "    }\n",
              "  </style>\n",
              "\n",
              "    <script>\n",
              "      const buttonEl =\n",
              "        document.querySelector('#df-e1d9955d-d517-460c-bbd5-abd91e8eda05 button.colab-df-convert');\n",
              "      buttonEl.style.display =\n",
              "        google.colab.kernel.accessAllowed ? 'block' : 'none';\n",
              "\n",
              "      async function convertToInteractive(key) {\n",
              "        const element = document.querySelector('#df-e1d9955d-d517-460c-bbd5-abd91e8eda05');\n",
              "        const dataTable =\n",
              "          await google.colab.kernel.invokeFunction('convertToInteractive',\n",
              "                                                    [key], {});\n",
              "        if (!dataTable) return;\n",
              "\n",
              "        const docLinkHtml = 'Like what you see? Visit the ' +\n",
              "          '<a target=\"_blank\" href=https://colab.research.google.com/notebooks/data_table.ipynb>data table notebook</a>'\n",
              "          + ' to learn more about interactive tables.';\n",
              "        element.innerHTML = '';\n",
              "        dataTable['output_type'] = 'display_data';\n",
              "        await google.colab.output.renderOutput(dataTable, element);\n",
              "        const docLink = document.createElement('div');\n",
              "        docLink.innerHTML = docLinkHtml;\n",
              "        element.appendChild(docLink);\n",
              "      }\n",
              "    </script>\n",
              "  </div>\n",
              "\n",
              "\n",
              "<div id=\"df-8ec12ff7-4dc6-4502-9b8a-0154ce77a97b\">\n",
              "  <button class=\"colab-df-quickchart\" onclick=\"quickchart('df-8ec12ff7-4dc6-4502-9b8a-0154ce77a97b')\"\n",
              "            title=\"Suggest charts\"\n",
              "            style=\"display:none;\">\n",
              "\n",
              "<svg xmlns=\"http://www.w3.org/2000/svg\" height=\"24px\"viewBox=\"0 0 24 24\"\n",
              "     width=\"24px\">\n",
              "    <g>\n",
              "        <path d=\"M19 3H5c-1.1 0-2 .9-2 2v14c0 1.1.9 2 2 2h14c1.1 0 2-.9 2-2V5c0-1.1-.9-2-2-2zM9 17H7v-7h2v7zm4 0h-2V7h2v10zm4 0h-2v-4h2v4z\"/>\n",
              "    </g>\n",
              "</svg>\n",
              "  </button>\n",
              "\n",
              "<style>\n",
              "  .colab-df-quickchart {\n",
              "      --bg-color: #E8F0FE;\n",
              "      --fill-color: #1967D2;\n",
              "      --hover-bg-color: #E2EBFA;\n",
              "      --hover-fill-color: #174EA6;\n",
              "      --disabled-fill-color: #AAA;\n",
              "      --disabled-bg-color: #DDD;\n",
              "  }\n",
              "\n",
              "  [theme=dark] .colab-df-quickchart {\n",
              "      --bg-color: #3B4455;\n",
              "      --fill-color: #D2E3FC;\n",
              "      --hover-bg-color: #434B5C;\n",
              "      --hover-fill-color: #FFFFFF;\n",
              "      --disabled-bg-color: #3B4455;\n",
              "      --disabled-fill-color: #666;\n",
              "  }\n",
              "\n",
              "  .colab-df-quickchart {\n",
              "    background-color: var(--bg-color);\n",
              "    border: none;\n",
              "    border-radius: 50%;\n",
              "    cursor: pointer;\n",
              "    display: none;\n",
              "    fill: var(--fill-color);\n",
              "    height: 32px;\n",
              "    padding: 0;\n",
              "    width: 32px;\n",
              "  }\n",
              "\n",
              "  .colab-df-quickchart:hover {\n",
              "    background-color: var(--hover-bg-color);\n",
              "    box-shadow: 0 1px 2px rgba(60, 64, 67, 0.3), 0 1px 3px 1px rgba(60, 64, 67, 0.15);\n",
              "    fill: var(--button-hover-fill-color);\n",
              "  }\n",
              "\n",
              "  .colab-df-quickchart-complete:disabled,\n",
              "  .colab-df-quickchart-complete:disabled:hover {\n",
              "    background-color: var(--disabled-bg-color);\n",
              "    fill: var(--disabled-fill-color);\n",
              "    box-shadow: none;\n",
              "  }\n",
              "\n",
              "  .colab-df-spinner {\n",
              "    border: 2px solid var(--fill-color);\n",
              "    border-color: transparent;\n",
              "    border-bottom-color: var(--fill-color);\n",
              "    animation:\n",
              "      spin 1s steps(1) infinite;\n",
              "  }\n",
              "\n",
              "  @keyframes spin {\n",
              "    0% {\n",
              "      border-color: transparent;\n",
              "      border-bottom-color: var(--fill-color);\n",
              "      border-left-color: var(--fill-color);\n",
              "    }\n",
              "    20% {\n",
              "      border-color: transparent;\n",
              "      border-left-color: var(--fill-color);\n",
              "      border-top-color: var(--fill-color);\n",
              "    }\n",
              "    30% {\n",
              "      border-color: transparent;\n",
              "      border-left-color: var(--fill-color);\n",
              "      border-top-color: var(--fill-color);\n",
              "      border-right-color: var(--fill-color);\n",
              "    }\n",
              "    40% {\n",
              "      border-color: transparent;\n",
              "      border-right-color: var(--fill-color);\n",
              "      border-top-color: var(--fill-color);\n",
              "    }\n",
              "    60% {\n",
              "      border-color: transparent;\n",
              "      border-right-color: var(--fill-color);\n",
              "    }\n",
              "    80% {\n",
              "      border-color: transparent;\n",
              "      border-right-color: var(--fill-color);\n",
              "      border-bottom-color: var(--fill-color);\n",
              "    }\n",
              "    90% {\n",
              "      border-color: transparent;\n",
              "      border-bottom-color: var(--fill-color);\n",
              "    }\n",
              "  }\n",
              "</style>\n",
              "\n",
              "  <script>\n",
              "    async function quickchart(key) {\n",
              "      const quickchartButtonEl =\n",
              "        document.querySelector('#' + key + ' button');\n",
              "      quickchartButtonEl.disabled = true;  // To prevent multiple clicks.\n",
              "      quickchartButtonEl.classList.add('colab-df-spinner');\n",
              "      try {\n",
              "        const charts = await google.colab.kernel.invokeFunction(\n",
              "            'suggestCharts', [key], {});\n",
              "      } catch (error) {\n",
              "        console.error('Error during call to suggestCharts:', error);\n",
              "      }\n",
              "      quickchartButtonEl.classList.remove('colab-df-spinner');\n",
              "      quickchartButtonEl.classList.add('colab-df-quickchart-complete');\n",
              "    }\n",
              "    (() => {\n",
              "      let quickchartButtonEl =\n",
              "        document.querySelector('#df-8ec12ff7-4dc6-4502-9b8a-0154ce77a97b button');\n",
              "      quickchartButtonEl.style.display =\n",
              "        google.colab.kernel.accessAllowed ? 'block' : 'none';\n",
              "    })();\n",
              "  </script>\n",
              "</div>\n",
              "\n",
              "    </div>\n",
              "  </div>\n"
            ],
            "application/vnd.google.colaboratory.intrinsic+json": {
              "type": "dataframe",
              "variable_name": "data",
              "summary": "{\n  \"name\": \"data\",\n  \"rows\": 100,\n  \"fields\": [\n    {\n      \"column\": \"Feature_1\",\n      \"properties\": {\n        \"dtype\": \"number\",\n        \"std\": 0.5012804118276031,\n        \"min\": 1.0,\n        \"max\": 2.0,\n        \"num_unique_values\": 2,\n        \"samples\": [\n          2.0,\n          1.0\n        ],\n        \"semantic_type\": \"\",\n        \"description\": \"\"\n      }\n    },\n    {\n      \"column\": \"Feature_2\",\n      \"properties\": {\n        \"dtype\": \"number\",\n        \"std\": 0.4275218287869605,\n        \"min\": 3.0,\n        \"max\": 4.0,\n        \"num_unique_values\": 2,\n        \"samples\": [\n          4.0,\n          3.0\n        ],\n        \"semantic_type\": \"\",\n        \"description\": \"\"\n      }\n    },\n    {\n      \"column\": \"Feature_3\",\n      \"properties\": {\n        \"dtype\": \"number\",\n        \"std\": 0.0,\n        \"min\": 5.0,\n        \"max\": 5.0,\n        \"num_unique_values\": 1,\n        \"samples\": [\n          5.0\n        ],\n        \"semantic_type\": \"\",\n        \"description\": \"\"\n      }\n    },\n    {\n      \"column\": \"Feature_4\",\n      \"properties\": {\n        \"dtype\": \"category\",\n        \"num_unique_values\": 3,\n        \"samples\": [\n          \"A\"\n        ],\n        \"semantic_type\": \"\",\n        \"description\": \"\"\n      }\n    }\n  ]\n}"
            }
          },
          "metadata": {},
          "execution_count": 2
        }
      ],
      "source": [
        "# Step 2: Setting up a sample dataset with missing values\n",
        "np.random.seed(42)\n",
        "data = pd.DataFrame({\n",
        "    'Feature_1': np.random.choice([1, 2, np.nan], size=100, p=[0.45, 0.45, 0.1]),\n",
        "    'Feature_2': np.random.choice([3, 4, np.nan], size=100, p=[0.76, 0.20, 0.04]),\n",
        "    'Feature_3': np.random.choice([5, np.nan], size=100, p=[0.2, 0.8]),\n",
        "    'Feature_4': np.random.choice(['A', 'B', \" \"], size=100, p=[0.3, 0.61, 0.09])\n",
        "})\n",
        "\n",
        "# Display the first few rows of the dataset\n",
        "data.head()"
      ]
    },
    {
      "cell_type": "markdown",
      "metadata": {
        "id": "MpVifEN6EwD8"
      },
      "source": [
        "# Section 1: Visualizing Missing Data\n",
        "\n",
        "Before handling missing data, it's essential to understand its extent and distribution. Visualization tools help us quickly identify patterns and the magnitude of missing values in the dataset."
      ]
    },
    {
      "cell_type": "code",
      "execution_count": 3,
      "metadata": {
        "id": "KS2KSTV0Erw7",
        "colab": {
          "base_uri": "https://localhost:8080/"
        },
        "outputId": "59afbae5-635a-4587-a095-d027404eed01"
      },
      "outputs": [
        {
          "output_type": "stream",
          "name": "stdout",
          "text": [
            "Dataset Preview:\n",
            "   Feature_1  Feature_2  Feature_3 Feature_4\n",
            "0        1.0        3.0        NaN         A\n",
            "1        NaN        3.0        5.0         B\n",
            "2        2.0        3.0        5.0         B\n",
            "3        2.0        3.0        NaN         B\n",
            "4        1.0        4.0        NaN         B\n",
            "len:  100\n"
          ]
        }
      ],
      "source": [
        "print(\"Dataset Preview:\")\n",
        "print(data.head())\n",
        "print(\"len: \", len(data))"
      ]
    },
    {
      "cell_type": "code",
      "execution_count": 4,
      "metadata": {
        "id": "1ZPquI1hFpfn",
        "colab": {
          "base_uri": "https://localhost:8080/"
        },
        "outputId": "306c1465-8413-4016-ff52-76a0793ee661"
      },
      "outputs": [
        {
          "output_type": "stream",
          "name": "stdout",
          "text": [
            "Feature_1     9\n",
            "Feature_2     3\n",
            "Feature_3    80\n",
            "Feature_4     0\n",
            "dtype: int64\n",
            "\n",
            "Be careful with categorical variables!\n",
            "Feature_1     9\n",
            "Feature_2     3\n",
            "Feature_3    80\n",
            "Feature_4     8\n",
            "dtype: int64\n"
          ]
        }
      ],
      "source": [
        "# count the null values in each feature\n",
        "print(data.isnull().sum())\n",
        "\n",
        "print(\"\\nBe careful with categorical variables!\")\n",
        "data = data.replace(\" \", np.nan)\n",
        "print(data.isnull().sum())"
      ]
    },
    {
      "cell_type": "code",
      "execution_count": 5,
      "metadata": {
        "id": "PQ7VsqmmFyEr",
        "colab": {
          "base_uri": "https://localhost:8080/"
        },
        "outputId": "281c0afe-ffab-4740-e159-0e69dedf47c0"
      },
      "outputs": [
        {
          "output_type": "stream",
          "name": "stdout",
          "text": [
            "Percentage of null values in the first feature:  9.0 %\n",
            "Percentage of null values in the second feature:  3.0 %\n",
            "Percentage of null values in the third feature:  80.0 %\n",
            "Percentage of null values in the fourth feature:  8.0 %\n"
          ]
        }
      ],
      "source": [
        "feature_1_count = (data['Feature_1'].isnull().sum() / len(data)) * 100\n",
        "print(\"Percentage of null values in the first feature: \", feature_1_count, \"%\")\n",
        "\n",
        "feature_2_count = (data['Feature_2'].isnull().sum() / len(data)) * 100\n",
        "print(\"Percentage of null values in the second feature: \", feature_2_count, \"%\")\n",
        "\n",
        "feature_3_count = (data['Feature_3'].isnull().sum() / len(data)) * 100\n",
        "print(\"Percentage of null values in the third feature: \", feature_3_count, \"%\")\n",
        "\n",
        "feature_4_count = (data['Feature_4'].isnull().sum() / len(data)) * 100\n",
        "print(\"Percentage of null values in the fourth feature: \", feature_4_count, \"%\")"
      ]
    },
    {
      "cell_type": "code",
      "execution_count": 6,
      "metadata": {
        "id": "Y8-X2gRvEw2y",
        "colab": {
          "base_uri": "https://localhost:8080/",
          "height": 564
        },
        "outputId": "f4bb7bf3-51c6-440a-f7e0-496c34626a08"
      },
      "outputs": [
        {
          "output_type": "display_data",
          "data": {
            "text/plain": [
              "<Figure size 1000x600 with 1 Axes>"
            ],
            "image/png": "[encoded data removed]"
          },
          "metadata": {}
        }
      ],
      "source": [
        "plt.figure(figsize=(10, 6))\n",
        "sns.heatmap(data.isnull(), cbar=False, cmap='viridis', yticklabels=False)\n",
        "plt.title(\"Heatmap of Missing Data\")\n",
        "plt.xlabel(\"Features\")\n",
        "plt.ylabel(\"Observations\")\n",
        "plt.show()  # yellow indicates a missing value"
      ]
    },
    {
      "cell_type": "markdown",
      "metadata": {
        "id": "dUfCBET6E1mQ"
      },
      "source": [
        "# Section 2: Handling Missing Data\n",
        "\n",
        "Handling missing data involves selecting appropriate strategies based on the nature of the data and the problem at hand. Below, we'll explore common methods such as:\n",
        "- **Deletion:** Removing rows or columns with missing values.\n",
        "- **Imputation:** Filling in missing values using statistical or machine learning methods.\n",
        "\n",
        "Each feature in our dataset will be analyzed individually for tailored handling."
      ]
    },
    {
      "cell_type": "markdown",
      "metadata": {
        "id": "CwwAAW2sLE6t"
      },
      "source": [
        "## Feature_1: Row-wise Deletion vs. Mean Imputation\n",
        "\n",
        "*Feature_1* contains a small number of null values, which can be addressed by either **removing the rows with missing data** or **imputing the missing values** using an appropriate strategy (mean, median for numerical variables).\n",
        "\n",
        "One common method is mean imputation, where the missing values are replaced with the average of the observed values in the feature. This approach is simple and fast, but it may not always be the best choice if the data has outliers or is highly skewed, as it can distort the distribution of the feature."
      ]
    },
    {
      "cell_type": "code",
      "execution_count": 7,
      "metadata": {
        "id": "hPbnbx-dLUAy",
        "colab": {
          "base_uri": "https://localhost:8080/"
        },
        "outputId": "4132a353-e4d9-4a08-bd31-99a3258b5cfa"
      },
      "outputs": [
        {
          "output_type": "stream",
          "name": "stdout",
          "text": [
            "\n",
            "After Row Deletion:\n",
            "count    91.000000\n",
            "mean      1.461538\n",
            "std       0.501280\n",
            "min       1.000000\n",
            "25%       1.000000\n",
            "50%       1.000000\n",
            "75%       2.000000\n",
            "max       2.000000\n",
            "Name: Feature_1, dtype: float64\n"
          ]
        }
      ],
      "source": [
        "# Row-wise deletion\n",
        "example_data_1 = data.copy()\n",
        "example_data_1 = example_data_1.dropna(subset=['Feature_1'])\n",
        "\n",
        "print(\"\\nAfter Row Deletion:\")\n",
        "print(example_data_1['Feature_1'].describe())"
      ]
    },
    {
      "cell_type": "code",
      "execution_count": 8,
      "metadata": {
        "id": "J7iu3cQRLVrm",
        "colab": {
          "base_uri": "https://localhost:8080/"
        },
        "outputId": "c63256b7-e9a3-4b71-9feb-2fadd12d3d0b"
      },
      "outputs": [
        {
          "output_type": "stream",
          "name": "stdout",
          "text": [
            "\n",
            "After Mean Imputation:\n",
            "count    100.000000\n",
            "mean       1.461538\n",
            "std        0.477952\n",
            "min        1.000000\n",
            "25%        1.000000\n",
            "50%        1.461538\n",
            "75%        2.000000\n",
            "max        2.000000\n",
            "Name: Feature_1, dtype: float64\n"
          ]
        }
      ],
      "source": [
        "# Mean Imputation\n",
        "example_data_1_mean = data.copy()\n",
        "mean_imputer = SimpleImputer(strategy='mean')\n",
        "example_data_1_mean['Feature_1'] = mean_imputer.fit_transform(example_data_1_mean[['Feature_1']])\n",
        "\n",
        "print(\"\\nAfter Mean Imputation:\")\n",
        "print(example_data_1_mean['Feature_1'].describe())"
      ]
    },
    {
      "cell_type": "code",
      "execution_count": 9,
      "metadata": {
        "id": "ud7VkagqLWRX",
        "colab": {
          "base_uri": "https://localhost:8080/"
        },
        "outputId": "8813892d-c7ef-43a9-ac71-15d8964622fe"
      },
      "outputs": [
        {
          "output_type": "stream",
          "name": "stdout",
          "text": [
            "\n",
            "After Median Imputation:\n",
            "count    100.000000\n",
            "mean       1.420000\n",
            "std        0.496045\n",
            "min        1.000000\n",
            "25%        1.000000\n",
            "50%        1.000000\n",
            "75%        2.000000\n",
            "max        2.000000\n",
            "Name: Feature_1, dtype: float64\n"
          ]
        }
      ],
      "source": [
        "# Simpler Median Imputation\n",
        "example_data_1_median = data.copy()\n",
        "median = example_data_1_median['Feature_1'].dropna().median()\n",
        "example_data_1_median['Feature_1'] = example_data_1_median[['Feature_1']].fillna(median)\n",
        "\n",
        "print(\"\\nAfter Median Imputation:\")\n",
        "print(example_data_1_median['Feature_1'].describe())"
      ]
    },
    {
      "cell_type": "code",
      "source": [
        "# Original vs Median distribution\n",
        "print(data['Feature_1'].describe())\n",
        "print(example_data_1_median['Feature_1'].describe())"
      ],
      "metadata": {
        "id": "5j7uBL3XQ8Ii",
        "colab": {
          "base_uri": "https://localhost:8080/"
        },
        "outputId": "1349975a-633f-46b9-80c2-5dd5ed2cd4b7"
      },
      "execution_count": 10,
      "outputs": [
        {
          "output_type": "stream",
          "name": "stdout",
          "text": [
            "count    91.000000\n",
            "mean      1.461538\n",
            "std       0.501280\n",
            "min       1.000000\n",
            "25%       1.000000\n",
            "50%       1.000000\n",
            "75%       2.000000\n",
            "max       2.000000\n",
            "Name: Feature_1, dtype: float64\n",
            "count    100.000000\n",
            "mean       1.420000\n",
            "std        0.496045\n",
            "min        1.000000\n",
            "25%        1.000000\n",
            "50%        1.000000\n",
            "75%        2.000000\n",
            "max        2.000000\n",
            "Name: Feature_1, dtype: float64\n"
          ]
        }
      ]
    },
    {
      "cell_type": "markdown",
      "metadata": {
        "id": "qlFwrO3kJmQP"
      },
      "source": [
        "## Feature_2: KNN Imputation\n",
        "\n",
        "*Feature_2* contains 24% null values, making it advisable to apply **more advanced imputation techniques** to handle the missing data effectively:\n",
        "- **KNN Imputation**: Leveraging the k-nearest neighbors algorithm to estimate missing values based on the similarity of other observations. This approach can capture relationships between features and may provide better estimates, especially if the categories are not uniformly distributed."
      ]
    },
    {
      "cell_type": "code",
      "execution_count": 11,
      "metadata": {
        "id": "Fd5EST5EIxee",
        "colab": {
          "base_uri": "https://localhost:8080/"
        },
        "outputId": "e566e240-92c1-479f-afde-2f15893916df"
      },
      "outputs": [
        {
          "output_type": "stream",
          "name": "stdout",
          "text": [
            "\n",
            "Handling Feature_2:\n",
            "\n",
            "After KNN Imputation:\n",
            "count    100.000000\n",
            "mean       3.237113\n",
            "std        0.420994\n",
            "min        3.000000\n",
            "25%        3.000000\n",
            "50%        3.000000\n",
            "75%        3.237113\n",
            "max        4.000000\n",
            "Name: Feature_2, dtype: float64\n"
          ]
        }
      ],
      "source": [
        "print(\"\\nHandling Feature_2:\")\n",
        "\n",
        "example_data_2 = data.copy()\n",
        "knn_imputer = KNNImputer(n_neighbors=3)\n",
        "example_data_2['Feature_2'] = knn_imputer.fit_transform(example_data_2[['Feature_2']])\n",
        "\n",
        "print(\"\\nAfter KNN Imputation:\")\n",
        "print(example_data_2['Feature_2'].describe())"
      ]
    },
    {
      "cell_type": "code",
      "source": [
        "# Original vs Knn Imputation distribution\n",
        "print(data['Feature_2'].describe())\n",
        "print(example_data_2['Feature_2'].describe())"
      ],
      "metadata": {
        "id": "zCWCPdKQRgwd",
        "colab": {
          "base_uri": "https://localhost:8080/"
        },
        "outputId": "7c29fe74-7884-41ba-9fbc-a06c8c9c48a7"
      },
      "execution_count": 12,
      "outputs": [
        {
          "output_type": "stream",
          "name": "stdout",
          "text": [
            "count    97.000000\n",
            "mean      3.237113\n",
            "std       0.427522\n",
            "min       3.000000\n",
            "25%       3.000000\n",
            "50%       3.000000\n",
            "75%       3.000000\n",
            "max       4.000000\n",
            "Name: Feature_2, dtype: float64\n",
            "count    100.000000\n",
            "mean       3.237113\n",
            "std        0.420994\n",
            "min        3.000000\n",
            "25%        3.000000\n",
            "50%        3.000000\n",
            "75%        3.237113\n",
            "max        4.000000\n",
            "Name: Feature_2, dtype: float64\n"
          ]
        }
      ]
    },
    {
      "cell_type": "markdown",
      "metadata": {
        "id": "MpgBaQMqLiEU"
      },
      "source": [
        "## Feature_3: Column Deletion\n",
        "\n",
        "\n",
        "*Feature_3* contains 80% null values, leaving limited useful information. It is more practical to drop this feature altogether."
      ]
    },
    {
      "cell_type": "code",
      "execution_count": 13,
      "metadata": {
        "id": "8OypWyBWE290",
        "colab": {
          "base_uri": "https://localhost:8080/"
        },
        "outputId": "ade7af3d-c032-4148-9edf-310c57a290ad"
      },
      "outputs": [
        {
          "output_type": "stream",
          "name": "stdout",
          "text": [
            "\n",
            "Dataset after dropping Feature_3:\n",
            "   Feature_1  Feature_2 Feature_4\n",
            "0        1.0        3.0         A\n",
            "1        NaN        3.0         B\n",
            "2        2.0        3.0         B\n",
            "3        2.0        3.0         B\n",
            "4        1.0        4.0         B\n"
          ]
        }
      ],
      "source": [
        "example_data_3 = data.copy()\n",
        "example_data_3 = example_data_3.drop(columns=['Feature_3'])\n",
        "\n",
        "print(\"\\nDataset after dropping Feature_3:\")\n",
        "print(example_data_3.head())"
      ]
    },
    {
      "cell_type": "markdown",
      "metadata": {
        "id": "pKTP6cLXMwHB"
      },
      "source": [
        "## Feature_4: Mode Imputation\n",
        "\n",
        "*Feature_4* is a categorical variable with approximately 9% missing values. Since the proportion of missing data is relatively small, it can be efficiently imputed using straightforward methods. Two commonly used approaches are:\n",
        "- **Mode Imputation**: Replacing missing values with the most frequently occurring category in the data. This method is simple and effective for categorical features with a small proportion of missing data.\n",
        "- **KNN Imputation**: Leveraging the k-nearest neighbors algorithm to estimate missing values based on the similarity of other observations. This approach can capture relationships between features and may provide better estimates, especially if the categories are not uniformly distributed."
      ]
    },
    {
      "cell_type": "code",
      "execution_count": 14,
      "metadata": {
        "id": "B4SWqwXbM6GE",
        "colab": {
          "base_uri": "https://localhost:8080/"
        },
        "outputId": "106cff19-6505-462d-fd9c-f20a1cd7c345"
      },
      "outputs": [
        {
          "output_type": "stream",
          "name": "stdout",
          "text": [
            "\n",
            "After Mode Imputation:\n",
            "Feature_4\n",
            "B    70\n",
            "A    30\n",
            "Name: count, dtype: int64\n"
          ]
        }
      ],
      "source": [
        "example_data_4 = data.copy()\n",
        "\n",
        "# Initialize the SimpleImputer with most_frequent strategy\n",
        "mode_imputer = SimpleImputer(strategy='most_frequent')\n",
        "\n",
        "mode_imputed_feature = pd.DataFrame(mode_imputer.fit_transform(example_data_4[['Feature_4']]))\n",
        "example_data_4['Feature_4'] = mode_imputed_feature\n",
        "\n",
        "print(\"\\nAfter Mode Imputation:\")\n",
        "print(example_data_4['Feature_4'].value_counts())"
      ]
    },
    {
      "cell_type": "markdown",
      "metadata": {
        "id": "sIkCUlJyFH1M"
      },
      "source": [
        "# Section 4: Exercises\n",
        "\n",
        "Now that we've covered the basics, it's your turn to practice! Complete the following exercises to solidify your understanding of handling missing data."
      ]
    },
    {
      "cell_type": "code",
      "execution_count": 21,
      "metadata": {
        "id": "9H5b9tX4FUwg",
        "colab": {
          "base_uri": "https://localhost:8080/",
          "height": 727
        },
        "outputId": "72095644-a5f9-4bfe-adb0-3833ae675751"
      },
      "outputs": [
        {
          "output_type": "stream",
          "name": "stdout",
          "text": [
            "Features with missing values:\n",
            " age            177\n",
            "embarked         2\n",
            "deck           688\n",
            "embark_town      2\n",
            "dtype: int64\n"
          ]
        },
        {
          "output_type": "display_data",
          "data": {
            "text/plain": [
              "<Figure size 1000x600 with 1 Axes>"
            ],
            "image/png": "[encoded data removed]"
          },
          "metadata": {}
        }
      ],
      "source": [
        "# Exercise 1: Check for Missing Values\n",
        "\n",
        "# Load the titanic dataset.\n",
        "# Identify which features contain missing values and determine how many missing values each feature has.\n",
        "# Visualize the missing values using a heatmap.\n",
        "\n",
        "import seaborn as sns\n",
        "import pandas as pd\n",
        "\n",
        "# Load the Titanic dataset\n",
        "titanic = sns.load_dataset(\"titanic\")\n",
        "\n",
        "# Identify missing values\n",
        "missing_values = titanic.isnull().sum()\n",
        "\n",
        "# Print features with missing values\n",
        "missing_values = missing_values[missing_values > 0]\n",
        "print(\"Features with missing values:\\n\", missing_values)\n",
        "\n",
        "# Visualize missing values using a heatmap\n",
        "plt.figure(figsize=(10, 6))\n",
        "sns.heatmap(titanic.isnull(), cmap=\"viridis\", cbar=False, yticklabels=False)\n",
        "plt.title(\"Missing Values Heatmap\")\n",
        "plt.show()"
      ]
    },
    {
      "cell_type": "code",
      "source": [
        "# Exercise 2: Mean Imputation\n",
        "\n",
        "# Load the titanic dataset.\n",
        "# Apply mean imputation to fill the missing values in all features.\n",
        "# Verify that there are no more missing values after imputation.\n",
        "\n",
        "import pandas as pd\n",
        "import seaborn as sns\n",
        "\n",
        "# Load the Titanic dataset\n",
        "titanic = sns.load_dataset(\"titanic\")\n",
        "\n",
        "# Identify missing values before imputation\n",
        "print(\"Missing values before imputation:\\n\", titanic.isnull().sum())\n",
        "\n",
        "# Apply mean imputation only to numeric columns\n",
        "numeric_cols = titanic.select_dtypes(include=['number'])  # Select only numeric columns\n",
        "titanic[numeric_cols.columns] = numeric_cols.fillna(numeric_cols.mean())\n",
        "\n",
        "# Identify missing values after imputation\n",
        "print(\"\\nMissing values after mean imputation:\\n\", titanic.isnull().sum())"
      ],
      "metadata": {
        "id": "pOnx2ojVVmKU",
        "colab": {
          "base_uri": "https://localhost:8080/"
        },
        "outputId": "36295b6e-a220-4966-bad9-afc755579492"
      },
      "execution_count": 22,
      "outputs": [
        {
          "output_type": "stream",
          "name": "stdout",
          "text": [
            "Missing values before imputation:\n",
            " survived         0\n",
            "pclass           0\n",
            "sex              0\n",
            "age            177\n",
            "sibsp            0\n",
            "parch            0\n",
            "fare             0\n",
            "embarked         2\n",
            "class            0\n",
            "who              0\n",
            "adult_male       0\n",
            "deck           688\n",
            "embark_town      2\n",
            "alive            0\n",
            "alone            0\n",
            "dtype: int64\n",
            "\n",
            "Missing values after mean imputation:\n",
            " survived         0\n",
            "pclass           0\n",
            "sex              0\n",
            "age              0\n",
            "sibsp            0\n",
            "parch            0\n",
            "fare             0\n",
            "embarked         2\n",
            "class            0\n",
            "who              0\n",
            "adult_male       0\n",
            "deck           688\n",
            "embark_town      2\n",
            "alive            0\n",
            "alone            0\n",
            "dtype: int64\n"
          ]
        }
      ]
    },
    {
      "cell_type": "code",
      "source": [
        "# Exercise 3: KNN Imputation\n",
        "\n",
        "# Load the titanic dataset.\n",
        "# Check if there are any missing values in the dataset.\n",
        "# Apply KNN imputation to fill the missing values in all features.\n",
        "# Verify that there are no more missing values after imputation.\n",
        "\n",
        "import pandas as pd\n",
        "import seaborn as sns\n",
        "from sklearn.impute import KNNImputer\n",
        "\n",
        "# Load the Titanic dataset\n",
        "titanic = sns.load_dataset(\"titanic\")\n",
        "\n",
        "# Check missing values before imputation\n",
        "print(\"Missing values before KNN imputation:\\n\", titanic.isnull().sum())\n",
        "\n",
        "# Select only numeric columns for KNN imputation\n",
        "numeric_cols = titanic.select_dtypes(include=['number'])\n",
        "imputer = KNNImputer(n_neighbors=5)  # Using 5 nearest neighbors\n",
        "titanic[numeric_cols.columns] = imputer.fit_transform(numeric_cols)\n",
        "\n",
        "# Check missing values after imputation\n",
        "print(\"\\nMissing values after KNN imputation:\\n\", titanic.isnull().sum())"
      ],
      "metadata": {
        "id": "rLzp8pjYV_MG",
        "colab": {
          "base_uri": "https://localhost:8080/"
        },
        "outputId": "c74346ec-b692-45f2-b692-656f514299ed"
      },
      "execution_count": 23,
      "outputs": [
        {
          "output_type": "stream",
          "name": "stdout",
          "text": [
            "Missing values before KNN imputation:\n",
            " survived         0\n",
            "pclass           0\n",
            "sex              0\n",
            "age            177\n",
            "sibsp            0\n",
            "parch            0\n",
            "fare             0\n",
            "embarked         2\n",
            "class            0\n",
            "who              0\n",
            "adult_male       0\n",
            "deck           688\n",
            "embark_town      2\n",
            "alive            0\n",
            "alone            0\n",
            "dtype: int64\n",
            "\n",
            "Missing values after KNN imputation:\n",
            " survived         0\n",
            "pclass           0\n",
            "sex              0\n",
            "age              0\n",
            "sibsp            0\n",
            "parch            0\n",
            "fare             0\n",
            "embarked         2\n",
            "class            0\n",
            "who              0\n",
            "adult_male       0\n",
            "deck           688\n",
            "embark_town      2\n",
            "alive            0\n",
            "alone            0\n",
            "dtype: int64\n"
          ]
        }
      ]
    },
    {
      "cell_type": "code",
      "source": [
        "# Exercise 4:\n",
        "# A dataset tracks students' exam scores and whether they passed the course.\n",
        "# Some values are missing, but we can infer them logically:\n",
        "#\n",
        "# - If a student \"Passed Course\" (Yes), their Exam Score must be above a passing threshold.\n",
        "# - If a student \"Did Not Pass\" (No), their Exam Score must be below the threshold.\n",
        "# - If an Exam Score is given but \"Passed Course\" is missing, we can determine it based on the score.\n",
        "#\n",
        "# Tasks:\n",
        "# 1. Identify which missing values can be logically inferred.\n",
        "# 2. Implement a function to fill missing values using rule-based logic instead of statistics.\n",
        "# 3. Handle edge cases where the rule may not be sufficient.\n",
        "#\n",
        "# Example dataset:\n",
        "# students = [\n",
        "#     {\"name\": \"Alice\", \"exam_score\": 85, \"passed\": \"Yes\"},\n",
        "#     {\"name\": \"Bob\", \"exam_score\": 40, \"passed\": \"No\"},\n",
        "#     {\"name\": \"Charlie\", \"exam_score\": None, \"passed\": \"Yes\"},\n",
        "#     {\"name\": \"David\", \"exam_score\": 70, \"passed\": None},\n",
        "#     {\"name\": \"Eve\", \"exam_score\": None, \"passed\": \"No\"}\n",
        "# ]\n",
        "\n",
        "import pandas as pd\n",
        "\n",
        "# Example dataset\n",
        "students = [\n",
        "    {\"name\": \"Alice\", \"exam_score\": 85, \"passed\": \"Yes\"},\n",
        "    {\"name\": \"Bob\", \"exam_score\": 40, \"passed\": \"No\"},\n",
        "    {\"name\": \"Charlie\", \"exam_score\": None, \"passed\": \"Yes\"},\n",
        "    {\"name\": \"David\", \"exam_score\": 70, \"passed\": None},\n",
        "    {\"name\": \"Eve\", \"exam_score\": None, \"passed\": \"No\"}\n",
        "]\n",
        "\n",
        "# Convert to DataFrame\n",
        "df = pd.DataFrame(students)\n",
        "\n",
        "# Define the passing threshold\n",
        "passing_threshold = 50\n",
        "\n",
        "# Function to fill missing values logically\n",
        "def fill_missing_values(row):\n",
        "    if pd.isnull(row[\"exam_score\"]) and row[\"passed\"] == \"Yes\":\n",
        "        row[\"exam_score\"] = passing_threshold + 10  # Assign a safe passing score\n",
        "    elif pd.isnull(row[\"exam_score\"]) and row[\"passed\"] == \"No\":\n",
        "        row[\"exam_score\"] = passing_threshold - 10  # Assign a failing score\n",
        "    elif pd.isnull(row[\"passed\"]):\n",
        "        row[\"passed\"] = \"Yes\" if row[\"exam_score\"] >= passing_threshold else \"No\"\n",
        "    return row\n",
        "\n",
        "# Apply the function to each row\n",
        "df = df.apply(fill_missing_values, axis=1)\n",
        "\n",
        "# Print the updated dataset\n",
        "print(df)"
      ],
      "metadata": {
        "id": "CgK0UpijHKEH",
        "colab": {
          "base_uri": "https://localhost:8080/"
        },
        "outputId": "e4234a1f-8790-4457-d802-8b268c69d3cc"
      },
      "execution_count": 24,
      "outputs": [
        {
          "output_type": "stream",
          "name": "stdout",
          "text": [
            "      name  exam_score passed\n",
            "0    Alice        85.0    Yes\n",
            "1      Bob        40.0     No\n",
            "2  Charlie        60.0    Yes\n",
            "3    David        70.0    Yes\n",
            "4      Eve        40.0     No\n"
          ]
        }
      ]
    }
  ],
  "metadata": {
    "colab": {
      "provenance": [],
      "toc_visible": true
    },
    "kernelspec": {
      "display_name": "Python 3",
      "name": "python3"
    },
    "language_info": {
      "name": "python"
    }
  },
  "nbformat": 4,
  "nbformat_minor": 0
}