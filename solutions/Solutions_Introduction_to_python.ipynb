{
 "nbformat": 4,
 "nbformat_minor": 0,
 "metadata": {
  "colab": {
   "provenance": [],
   "toc_visible": true
  },
  "kernelspec": {
   "name": "python3",
   "display_name": "Python 3"
  },
  "language_info": {
   "name": "python"
  }
 },
 "cells": [
  {
   "cell_type": "markdown",
   "source": [
    "# **PART 1: Python Basics**\n"
   ],
   "metadata": {
    "id": "ZfzBvKJtiqdj"
   }
  },
  {
   "cell_type": "markdown",
   "source": [
    "## Variables and Data Types"
   ],
   "metadata": {
    "id": "hRJA83Nhi8tU"
   }
  },
  {
   "cell_type": "code",
   "source": [
    "# Define variables\n",
    "x = 10  # Integer\n",
    "pi = 3.14  # Float\n",
    "name = \"Alice\"  # String\n",
    "is_student = True  # Boolean"
   ],
   "metadata": {
    "id": "X5hDuVSki7n9"
   },
   "execution_count": 1,
   "outputs": []
  },
  {
   "cell_type": "code",
   "source": [
    "# Print variables\n",
    "print(\"x:\", x)\n",
    "print(\"pi:\", pi)\n",
    "print(\"name:\", name)\n",
    "print(\"is_student:\", is_student)"
   ],
   "metadata": {
    "id": "KG00hkAj5Gtn",
    "colab": {
     "base_uri": "https://localhost:8080/"
    },
    "outputId": "07df0575-0b62-4b5c-956e-61cdbea0948a"
   },
   "execution_count": 2,
   "outputs": [
    {
     "output_type": "stream",
     "name": "stdout",
     "text": [
      "x: 10\n",
      "pi: 3.14\n",
      "name: Alice\n",
      "is_student: True\n"
     ]
    }
   ]
  },
  {
   "cell_type": "code",
   "source": [
    "# Check data types\n",
    "print(type(x))\n",
    "print(type(pi))\n",
    "print(type(name))\n",
    "print(type(is_student))"
   ],
   "metadata": {
    "id": "d7l_H1mx5JjN",
    "colab": {
     "base_uri": "https://localhost:8080/"
    },
    "outputId": "8be750b7-dd53-41b2-d8a4-ef22e119c452"
   },
   "execution_count": 3,
   "outputs": [
    {
     "output_type": "stream",
     "name": "stdout",
     "text": [
      "<class 'int'>\n",
      "<class 'float'>\n",
      "<class 'str'>\n",
      "<class 'bool'>\n"
     ]
    }
   ]
  },
  {
   "cell_type": "code",
   "source": [
    "# List, Tuple, Dictionary, Set\n",
    "my_list = [1, 2, 3, 4]\n",
    "my_tuple = (5, 6, 7, 8)\n",
    "my_dict = {\"key1\": \"value1\", \"key2\": \"value2\"}\n",
    "my_set = {9, 10, 11}\n",
    "\n",
    "print(\"List:\", my_list)\n",
    "print(\"Tuple:\", my_tuple)\n",
    "print(\"Dictionary:\", my_dict)\n",
    "print(\"Set:\", my_set)"
   ],
   "metadata": {
    "id": "q_oF30YY5KsZ",
    "colab": {
     "base_uri": "https://localhost:8080/"
    },
    "outputId": "6c02239f-af5b-4593-9440-eaa6b058100f"
   },
   "execution_count": 4,
   "outputs": [
    {
     "output_type": "stream",
     "name": "stdout",
     "text": [
      "List: [1, 2, 3, 4]\n",
      "Tuple: (5, 6, 7, 8)\n",
      "Dictionary: {'key1': 'value1', 'key2': 'value2'}\n",
      "Set: {9, 10, 11}\n"
     ]
    }
   ]
  },
  {
   "cell_type": "markdown",
   "source": [
    "## Conditional Statements (if-else)\n"
   ],
   "metadata": {
    "id": "v3JLnCBHjP0g"
   }
  },
  {
   "cell_type": "code",
   "source": [
    "# Example of if-else\n",
    "x = 15\n",
    "if x > 10:\n",
    "    print(\"x is greater than 10\")\n",
    "elif x == 10:\n",
    "    print(\"x is equal to 10\")\n",
    "else:\n",
    "    print(\"x is less than 10\")"
   ],
   "metadata": {
    "id": "7FPzN0UMjX-d",
    "colab": {
     "base_uri": "https://localhost:8080/"
    },
    "outputId": "0840092a-df56-4e01-8b40-faf087f8fb2b"
   },
   "execution_count": 5,
   "outputs": [
    {
     "output_type": "stream",
     "name": "stdout",
     "text": [
      "x is greater than 10\n"
     ]
    }
   ]
  },
  {
   "cell_type": "markdown",
   "source": [
    "## Loops"
   ],
   "metadata": {
    "id": "nQEWZ2CajUBx"
   }
  },
  {
   "cell_type": "code",
   "source": [
    "# For loop example\n",
    "for i in range(5):\n",
    "    print(\"For loop iteration:\", i)"
   ],
   "metadata": {
    "id": "lv-DkmP6jTCy",
    "colab": {
     "base_uri": "https://localhost:8080/"
    },
    "outputId": "eea65da4-ab82-44d4-907a-30da37b29b5d"
   },
   "execution_count": 6,
   "outputs": [
    {
     "output_type": "stream",
     "name": "stdout",
     "text": [
      "For loop iteration: 0\n",
      "For loop iteration: 1\n",
      "For loop iteration: 2\n",
      "For loop iteration: 3\n",
      "For loop iteration: 4\n"
     ]
    }
   ]
  },
  {
   "cell_type": "code",
   "source": [
    "# While loop example\n",
    "counter = 0\n",
    "while counter < 5:\n",
    "    print(\"While loop iteration:\", counter)\n",
    "    counter += 1"
   ],
   "metadata": {
    "id": "nmc4RhCC5SzN",
    "colab": {
     "base_uri": "https://localhost:8080/"
    },
    "outputId": "6095afee-d3bf-4ca0-a086-06eefa389246"
   },
   "execution_count": 7,
   "outputs": [
    {
     "output_type": "stream",
     "name": "stdout",
     "text": [
      "While loop iteration: 0\n",
      "While loop iteration: 1\n",
      "While loop iteration: 2\n",
      "While loop iteration: 3\n",
      "While loop iteration: 4\n"
     ]
    }
   ]
  },
  {
   "cell_type": "markdown",
   "source": [
    "## Functions"
   ],
   "metadata": {
    "id": "U1QsqLa7jdDv"
   }
  },
  {
   "cell_type": "code",
   "source": [
    "# Define a simple function\n",
    "def greet(name):\n",
    "    return f\"Hello, {name}!\"\n",
    "\n",
    "\n",
    "# Test the function\n",
    "print(greet(\"Alice\"))"
   ],
   "metadata": {
    "id": "UvmifSvXjd_Z",
    "colab": {
     "base_uri": "https://localhost:8080/"
    },
    "outputId": "a6cf57ea-d618-48b7-8031-7dbaa29ff28f"
   },
   "execution_count": 8,
   "outputs": [
    {
     "output_type": "stream",
     "name": "stdout",
     "text": [
      "Hello, Alice!\n"
     ]
    }
   ]
  },
  {
   "cell_type": "markdown",
   "source": [
    "## Run a script"
   ],
   "metadata": {
    "id": "wmOCN7WNjgwU"
   }
  },
  {
   "cell_type": "code",
   "execution_count": 9,
   "metadata": {
    "id": "t2Cy6VcMipp6",
    "colab": {
     "base_uri": "https://localhost:8080/"
    },
    "outputId": "8529dbb7-c32e-4168-e038-a9259a1a0451"
   },
   "outputs": [
    {
     "output_type": "stream",
     "name": "stdout",
     "text": [
      "This script is being run directly.\n"
     ]
    }
   ],
   "source": [
    "# Example of writing a script (this part would normally go in a .py file)\n",
    "# Save this content as script.py\n",
    "# Then run it in the terminal with: python script.py\n",
    "if __name__ == \"__main__\":\n",
    "    print(\"This script is being run directly.\")"
   ]
  },
  {
   "cell_type": "markdown",
   "source": [
    "# PART 2: Python Libraries for Data Analysis"
   ],
   "metadata": {
    "id": "jzi6Aa6uscA0"
   }
  },
  {
   "cell_type": "markdown",
   "source": [
    "## NUMPY"
   ],
   "metadata": {
    "id": "GIKqCgstBcUi"
   }
  },
  {
   "cell_type": "code",
   "source": [
    "# Importing the NumPy library\n",
    "import numpy as np"
   ],
   "metadata": {
    "id": "aatdlRRvsf8C"
   },
   "execution_count": 10,
   "outputs": []
  },
  {
   "cell_type": "markdown",
   "source": [
    "### 1. Create Arrays"
   ],
   "metadata": {
    "id": "-NrmWR2esrg0"
   }
  },
  {
   "cell_type": "code",
   "source": [
    "# Creating a 1D array\n",
    "array_1d = np.array([1, 2, 3, 4, 5])\n",
    "print(\"1D Array:\", array_1d)\n",
    "print(\"Shape: \", array_1d.shape)\n",
    "print(\"Num dimension: \", array_1d.ndim)"
   ],
   "metadata": {
    "id": "9BsDtU3nsvoj",
    "colab": {
     "base_uri": "https://localhost:8080/"
    },
    "outputId": "63eb9d38-08cd-42b0-ae2b-3076a9086c50"
   },
   "execution_count": 11,
   "outputs": [
    {
     "output_type": "stream",
     "name": "stdout",
     "text": [
      "1D Array: [1 2 3 4 5]\n",
      "Shape:  (5,)\n",
      "Num dimension:  1\n"
     ]
    }
   ]
  },
  {
   "cell_type": "code",
   "source": [
    "# Creating a 2D array\n",
    "array_2d = np.array([[1, 2, 3], [4, 5, 6]])\n",
    "print(\"\\n2D Array:\\n\", array_2d)\n",
    "print(\"Shape: \", array_2d.shape)\n",
    "print(\"Num dimension: \", array_2d.ndim)"
   ],
   "metadata": {
    "id": "uTwdC9MVsv9x",
    "colab": {
     "base_uri": "https://localhost:8080/"
    },
    "outputId": "3c5c787c-dff2-43cc-ebe7-36545c1a2c92"
   },
   "execution_count": 12,
   "outputs": [
    {
     "output_type": "stream",
     "name": "stdout",
     "text": [
      "\n",
      "2D Array:\n",
      " [[1 2 3]\n",
      " [4 5 6]]\n",
      "Shape:  (2, 3)\n",
      "Num dimension:  2\n"
     ]
    }
   ]
  },
  {
   "cell_type": "code",
   "source": [
    "# Creating arrays with zeros, ones, or a range of numbers\n",
    "zeros_array = np.zeros((2, 3))\n",
    "ones_array = np.ones((3, 2))\n",
    "range_array = np.arange(0, 10, 2)\n",
    "print(\"\\nZeros Array:\\n\", zeros_array)\n",
    "print(\"\\nOnes Array:\\n\", ones_array)\n",
    "print(\"\\nRange Array:\", range_array)\n",
    "\n",
    "print(\"Shape zeros_array: \", zeros_array.shape)\n",
    "print(\"Shape ones_array: \", ones_array.shape)\n",
    "print(\"Shape range_array: \", range_array.shape)\n",
    "print(\"\\n\")\n",
    "\n",
    "print(\"Num dimension zeros_array: \", zeros_array.ndim)\n",
    "print(\"Num dimension ones_array: \", ones_array.ndim)\n",
    "print(\"Num dimension range_array: \", range_array.ndim)"
   ],
   "metadata": {
    "id": "iKF8HxmRsxH7",
    "colab": {
     "base_uri": "https://localhost:8080/"
    },
    "outputId": "76809154-b9f0-42ff-ae18-0fa65ca7b5ed"
   },
   "execution_count": 13,
   "outputs": [
    {
     "output_type": "stream",
     "name": "stdout",
     "text": [
      "\n",
      "Zeros Array:\n",
      " [[0. 0. 0.]\n",
      " [0. 0. 0.]]\n",
      "\n",
      "Ones Array:\n",
      " [[1. 1.]\n",
      " [1. 1.]\n",
      " [1. 1.]]\n",
      "\n",
      "Range Array: [0 2 4 6 8]\n",
      "Shape zeros_array:  (2, 3)\n",
      "Shape ones_array:  (3, 2)\n",
      "Shape range_array:  (5,)\n",
      "\n",
      "\n",
      "Num dimension zeros_array:  2\n",
      "Num dimension ones_array:  2\n",
      "Num dimension range_array:  1\n"
     ]
    }
   ]
  },
  {
   "cell_type": "code",
   "source": [
    "# type of the elements in the array\n",
    "array_1d.dtype"
   ],
   "metadata": {
    "id": "7UCmGJQV842u",
    "colab": {
     "base_uri": "https://localhost:8080/"
    },
    "outputId": "52b39064-4625-494d-c328-d359cfd90fb4"
   },
   "execution_count": 14,
   "outputs": [
    {
     "output_type": "execute_result",
     "data": {
      "text/plain": [
       "dtype('int64')"
      ]
     },
     "metadata": {},
     "execution_count": 14
    }
   ]
  },
  {
   "cell_type": "code",
   "source": [
    "np.array(['Cat', 1, True])  # arrays can be composed of different types"
   ],
   "metadata": {
    "id": "irJGkOx687qv",
    "colab": {
     "base_uri": "https://localhost:8080/"
    },
    "outputId": "43de0c2a-9803-43bd-ca79-a9fc2aa571f8"
   },
   "execution_count": 15,
   "outputs": [
    {
     "output_type": "execute_result",
     "data": {
      "text/plain": [
       "array(['Cat', '1', 'True'], dtype='<U21')"
      ]
     },
     "metadata": {},
     "execution_count": 15
    }
   ]
  },
  {
   "cell_type": "code",
   "source": [
    "array_1d.shape"
   ],
   "metadata": {
    "id": "QzMD3nOh9G-W",
    "colab": {
     "base_uri": "https://localhost:8080/"
    },
    "outputId": "bd9755bd-d6da-450e-fcca-69a926f96f97"
   },
   "execution_count": 16,
   "outputs": [
    {
     "output_type": "execute_result",
     "data": {
      "text/plain": [
       "(5,)"
      ]
     },
     "metadata": {},
     "execution_count": 16
    }
   ]
  },
  {
   "cell_type": "markdown",
   "source": [
    "### 2. Array Operations"
   ],
   "metadata": {
    "id": "5rP9nHLnuHA3"
   }
  },
  {
   "cell_type": "code",
   "source": [
    "# Element-wise addition, subtraction, multiplication, and division\n",
    "array_a = np.array([1, 22, 3])\n",
    "array_b = np.array([37, 6, 15])\n",
    "\n",
    "print(\"Addition:\", array_a + array_b)\n",
    "print(\"Subtraction:\", array_a - array_b)\n",
    "print(\"Multiplication:\", array_a * array_b)\n",
    "print(\"Division:\", array_a / array_b)"
   ],
   "metadata": {
    "id": "dJzcrlBBs0p1",
    "colab": {
     "base_uri": "https://localhost:8080/"
    },
    "outputId": "f480229d-a2c8-453c-fd5d-3c0fc6b796a0"
   },
   "execution_count": 17,
   "outputs": [
    {
     "output_type": "stream",
     "name": "stdout",
     "text": [
      "Addition: [38 28 18]\n",
      "Subtraction: [-36  16 -12]\n",
      "Multiplication: [ 37 132  45]\n",
      "Division: [0.02702703 3.66666667 0.2       ]\n"
     ]
    }
   ]
  },
  {
   "cell_type": "code",
   "source": [
    "# Addition, subtraction, multiplication, and division between array and scalar\n",
    "array = np.array([1, 22, 3])\n",
    "scalar = 5\n",
    "\n",
    "print(\"Addition:\", array + scalar)\n",
    "print(\"Subtraction:\", array - scalar)\n",
    "print(\"Multiplication:\", array * scalar)\n",
    "print(\"Division:\", array / scalar)"
   ],
   "metadata": {
    "id": "G5gDJAax5yF1",
    "colab": {
     "base_uri": "https://localhost:8080/"
    },
    "outputId": "a0ba80cd-b0a4-4520-abc1-32fba224aaf9"
   },
   "execution_count": 18,
   "outputs": [
    {
     "output_type": "stream",
     "name": "stdout",
     "text": [
      "Addition: [ 6 27  8]\n",
      "Subtraction: [-4 17 -2]\n",
      "Multiplication: [  5 110  15]\n",
      "Division: [0.2 4.4 0.6]\n"
     ]
    }
   ]
  },
  {
   "cell_type": "code",
   "source": [
    "# Exercise: where is the difference? Can i obtain the same with an array? If yes, which one?\n",
    "array_a = np.array([1, 22, 3])\n",
    "array_b = np.array([5, 5, 5])\n",
    "\n",
    "print(\"Addition:\", array_a + array_b)\n",
    "print(\"Subtraction:\", array_a - array_b)\n",
    "print(\"Multiplication:\", array_a * array_b)\n",
    "print(\"Division:\", array_a / array_b)"
   ],
   "metadata": {
    "id": "11_22oL55-yK",
    "colab": {
     "base_uri": "https://localhost:8080/"
    },
    "outputId": "e7fb5dca-06df-4201-a5f4-ccfb7174122c"
   },
   "execution_count": 19,
   "outputs": [
    {
     "output_type": "stream",
     "name": "stdout",
     "text": [
      "Addition: [ 6 27  8]\n",
      "Subtraction: [-4 17 -2]\n",
      "Multiplication: [  5 110  15]\n",
      "Division: [0.2 4.4 0.6]\n"
     ]
    }
   ]
  },
  {
   "cell_type": "markdown",
   "source": [
    "**Dot Product**\n",
    "\n",
    "The dot product of two vectors $$a = [a_1, a_2, a_3] $$ and $$b = [b_1, b_2, b_3] $$  specified with respect to an orthonormal basis, is defined as:\n",
    "\n",
    "$$ a \\cdot b = ∑_{i=1}^{n} a_i \\cdot b_i = a_1*b_1 + a_2*b_2 + ... + a_n*b_n $$\n",
    "\n"
   ],
   "metadata": {
    "id": "9xOdGNte6WH7"
   }
  },
  {
   "cell_type": "code",
   "source": [
    "dot_product = np.dot(array_a, array_b)\n",
    "print(\"\\nDot Product:\", dot_product)"
   ],
   "metadata": {
    "id": "qvxhEVd2uIYc"
   },
   "execution_count": null,
   "outputs": []
  },
  {
   "cell_type": "markdown",
   "source": [
    "### 3. Statistical Functions"
   ],
   "metadata": {
    "id": "HBA4kvBVuK_O"
   }
  },
  {
   "cell_type": "markdown",
   "source": [
    "**Sum and Max**"
   ],
   "metadata": {
    "id": "AIqNouTe791h"
   }
  },
  {
   "cell_type": "code",
   "source": [
    "array_stats = np.array([10, 20, 30, 40, 50])\n",
    "\n",
    "print(\"Sum:\", np.sum(array_stats))\n",
    "print(\"Maximum:\", np.max(array_stats))"
   ],
   "metadata": {
    "id": "n7AtMY9x73kc"
   },
   "execution_count": null,
   "outputs": []
  },
  {
   "cell_type": "markdown",
   "source": [
    "**Mean**\n",
    "$$\\bar{x} = \\frac{1}{n} \\sum_{i=1}^{n} x_i$$"
   ],
   "metadata": {
    "id": "aZjmNQnN7uSg"
   }
  },
  {
   "cell_type": "code",
   "source": [
    "print(\"Mean:\", np.mean(array_stats))"
   ],
   "metadata": {
    "id": "5fMpTXW0uJbu"
   },
   "execution_count": null,
   "outputs": []
  },
  {
   "cell_type": "markdown",
   "source": [
    "**Standard deviation**\n",
    "\n",
    "$$\\sigma = \\sqrt{\\frac{1}{n} \\sum_{i=1}^{n} (x_i - \\bar{x})^2}$$"
   ],
   "metadata": {
    "id": "692j6C3i77GF"
   }
  },
  {
   "cell_type": "code",
   "source": [
    "print(\"Standard Deviation:\", np.std(array_stats))"
   ],
   "metadata": {
    "id": "RpFMb_b477U2"
   },
   "execution_count": null,
   "outputs": []
  },
  {
   "cell_type": "markdown",
   "source": [
    "### 4. Indexing and Slicing"
   ],
   "metadata": {
    "id": "S_amvrvKuNv3"
   }
  },
  {
   "cell_type": "code",
   "source": [
    "print(\"\\nElement at index 1:\", array_1d[1])  # Accessing element\n",
    "print(\"First row of 2D array:\", array_2d[0])  # Accessing a row\n",
    "print(\"Element at (1, 2):\", array_2d[1, 2])  # Accessing specific element"
   ],
   "metadata": {
    "id": "qLWatq_SuOha"
   },
   "execution_count": null,
   "outputs": []
  },
  {
   "cell_type": "markdown",
   "source": [
    "### 5. Reshaping Arrays"
   ],
   "metadata": {
    "id": "QTrJo_EouQP7"
   }
  },
  {
   "cell_type": "code",
   "source": [
    "reshaped_array = np.reshape(array_1d, (1, 5))  # Reshape to 1 row, 5 columns\n",
    "print(\"\\nReshaped Array:\\n\", reshaped_array)"
   ],
   "metadata": {
    "id": "Ur1ibcLvuRoO"
   },
   "execution_count": null,
   "outputs": []
  },
  {
   "cell_type": "code",
   "source": [
    "reshaped_array = np.reshape(array_1d, (5, 1))  # Reshape to 5 row, 1 columns\n",
    "print(\"\\nReshaped Array:\\n\", reshaped_array)"
   ],
   "metadata": {
    "id": "JncFxaaX8ZDC"
   },
   "execution_count": null,
   "outputs": []
  },
  {
   "cell_type": "code",
   "source": [
    "reshaped_array.flatten()  # flatten, return to original"
   ],
   "metadata": {
    "id": "fqVB8QC78fwe"
   },
   "execution_count": null,
   "outputs": []
  },
  {
   "cell_type": "markdown",
   "source": [
    "### 6. Boolean Indexing"
   ],
   "metadata": {
    "id": "Sn9E_1ufuW5t"
   }
  },
  {
   "cell_type": "code",
   "source": [
    "bool_array = array_stats > 25  # Elements greater than 25\n",
    "print(\"\\nBoolean Array:\", bool_array)\n",
    "print(\"Filtered Array (values > 25):\", array_stats[bool_array])"
   ],
   "metadata": {
    "id": "GdR6ud4DuT4y"
   },
   "execution_count": null,
   "outputs": []
  },
  {
   "cell_type": "markdown",
   "source": [
    "**Further reading: https://numpy.org/devdocs/user/quickstart.html Recommended!**"
   ],
   "metadata": {
    "id": "gt-SqcjU-23z"
   }
  },
  {
   "cell_type": "markdown",
   "source": [
    "## PANDAS"
   ],
   "metadata": {
    "id": "V-N4k5DXBnCk"
   }
  },
  {
   "cell_type": "code",
   "source": [
    "# Define a dataframe\n",
    "import pandas as pd\n",
    "\n",
    "age = [20, 22, 25]\n",
    "sex = ['M', 'F', 'M']\n",
    "degree = ['BSc', 'MSc', 'PhD']\n",
    "dataframe = pd.DataFrame({'Age': age, 'Sex': sex, 'Degree': degree})\n",
    "print(dataframe.head())"
   ],
   "metadata": {
    "id": "THDNa71dBpIQ"
   },
   "execution_count": null,
   "outputs": []
  },
  {
   "cell_type": "code",
   "source": [
    "print(dataframe.info())"
   ],
   "metadata": {
    "id": "zF8ivbi7B9V0"
   },
   "execution_count": null,
   "outputs": []
  },
  {
   "cell_type": "code",
   "source": [
    "print(dataframe.describe())"
   ],
   "metadata": {
    "id": "HYzE0LCSCEZ4"
   },
   "execution_count": null,
   "outputs": []
  },
  {
   "cell_type": "markdown",
   "source": [
    "### Basic operations: filtering, sorting, indexing"
   ],
   "metadata": {
    "id": "8KwQnHGfCI9W"
   }
  },
  {
   "cell_type": "code",
   "source": [
    "# Filtering\n",
    "# Only retain the rows where the value of column age is more than 20\n",
    "filtered_df = dataframe[dataframe['Age'] > 20]\n",
    "print(\"\\nFiltered DataFrame (Age > 20):\\n\", filtered_df)\n",
    "\n",
    "filtered_df = dataframe[dataframe['Sex'] == 'F']\n",
    "print(\"\\nFiltered DataFrame (Sex = F):\\n\", filtered_df)"
   ],
   "metadata": {
    "id": "C2jRb_ABCOL-"
   },
   "execution_count": null,
   "outputs": []
  },
  {
   "cell_type": "code",
   "source": [
    "# We can also use it to count the values\n",
    "f_count = len(dataframe[dataframe['Sex'] == 'F'])\n",
    "print(f\"Number of rows where sex = F: {f_count}\")"
   ],
   "metadata": {
    "id": "7bJzIUk1CfMv"
   },
   "execution_count": null,
   "outputs": []
  },
  {
   "cell_type": "code",
   "source": [
    "# Sorting\n",
    "sorted_df = dataframe.sort_values(by='Age', ascending=False)\n",
    "print(\"\\nSorted DataFrame (Age descending):\\n\", sorted_df)"
   ],
   "metadata": {
    "id": "sA67gYWkC3TV"
   },
   "execution_count": null,
   "outputs": []
  },
  {
   "cell_type": "code",
   "source": [
    "# Indexing\n",
    "# Accessing the first row\n",
    "print(\"First row using index 0:\")\n",
    "print(dataframe.iloc[0])\n",
    "\n",
    "# Accessing the column 'Age'\n",
    "print(\"\\nAccessing the column 'Age' using its label:\")\n",
    "print(dataframe['Age'])\n",
    "\n",
    "# Accessing rows and columns using their positions (index-based)\n",
    "print(\"\\nAccessing rows from index 0 up to but excluding 2, and columns from index 0 up to but excluding 2\")\n",
    "print(dataframe.iloc[0:2, 0:2])\n",
    "\n",
    "# Accessing rows based on a condition and selecting specific column(s) by label\n",
    "print(\"\\nAccessing rows where Age > 20 and taking the 'Sex' column:\")\n",
    "print(dataframe.loc[dataframe['Age'] > 20, 'Sex'])"
   ],
   "metadata": {
    "id": "pFYKpjoXCISW"
   },
   "execution_count": null,
   "outputs": []
  },
  {
   "cell_type": "markdown",
   "source": [
    "### Grouping, aggregation, and merging datasets"
   ],
   "metadata": {
    "id": "fKKCkY6hDgcb"
   }
  },
  {
   "cell_type": "code",
   "source": [
    "# Grouping data by 'Sex' and calculating the mean age for each group\n",
    "grouped_df = dataframe.groupby('Sex')['Age'].mean()\n",
    "\n",
    "print(\"Grouped DataFrame (Mean Age by Sex):\")\n",
    "print(grouped_df)"
   ],
   "metadata": {
    "id": "5470xBxTDnlk"
   },
   "execution_count": null,
   "outputs": []
  },
  {
   "cell_type": "code",
   "source": [
    "# Aggregation: Calculate multiple statistics for the 'Age' column\n",
    "aggregated_df = dataframe.agg({'Age': ['min', 'max', 'mean', 'std']})\n",
    "\n",
    "print(\"Aggregated DataFrame (Statistics of Age):\")\n",
    "print(aggregated_df)"
   ],
   "metadata": {
    "id": "g9Ws31b9Dxek"
   },
   "execution_count": null,
   "outputs": []
  },
  {
   "cell_type": "code",
   "source": [
    "dataframe"
   ],
   "metadata": {
    "id": "Yq8fpfBgEPNU"
   },
   "execution_count": null,
   "outputs": []
  },
  {
   "cell_type": "code",
   "source": [
    "# Merging datasets\n",
    "# Create another DataFrame\n",
    "data1 = {'Age': [24, 27, 20], 'Sex': ['M', 'F', 'M'], 'Degree': ['MSc', 'PhD', 'BSc']}\n",
    "df1 = pd.DataFrame(data1)\n",
    "\n",
    "data2 = {'City': ['London', 'Cambridge', 'Nice'], 'University': ['UCL', 'MIT', 'Université Côte d Azur']}\n",
    "df2 = pd.DataFrame(data2)\n",
    "\n",
    "# create a new column 'id'\n",
    "df1['id'] = range(len(df1))\n",
    "df2['id'] = range(len(df2))\n",
    "\n",
    "print(\"DF1:\\n \", df1)\n",
    "print(\"\\nDF2: \\n \", df2)\n",
    "\n",
    "# Merge the two DataFrames based on 'id'\n",
    "print(\n",
    "    \"\\nThe 'inner' join produces a DataFrame where each row has corresponding 'id', 'Age', 'Sex', 'Degree', 'City' and 'University' from both original DataFrames.\\n\")\n",
    "merged_df = pd.merge(df1, df2, on=['id'], how='inner')\n",
    "print(merged_df[['id', 'Age', 'Sex', 'Degree', 'City', 'University']])"
   ],
   "metadata": {
    "id": "n-opSMMQD4et"
   },
   "execution_count": null,
   "outputs": []
  },
  {
   "cell_type": "code",
   "source": [
    "# The 'how' parameter in pd.merge() controls which rows are included in the merged DataFrame based on the join keys.\n",
    "# Here's a breakdown of the differences between 'inner', 'left', 'right', and 'outer' joins:\n",
    "\n",
    "# 1. Inner Join (how='inner'):\n",
    "#   - Includes only the rows where the join keys exist in BOTH DataFrames.\n",
    "#   - Rows with join keys present in one DataFrame but not the other are excluded from the merged result.\n",
    "#   - This is the default join type if you do not specify the 'how' parameter.\n",
    "\n",
    "# 2. Left Join (how='left'):\n",
    "#   - Includes ALL rows from the left DataFrame (df1 in the example).\n",
    "#   - Includes matching rows from the right DataFrame (df2).\n",
    "#   - If a join key from the left DataFrame does not have a corresponding match in the right DataFrame, the columns from the right DataFrame for that row will contain NaN (Not a Number) values.\n",
    "\n",
    "# 3. Right Join (how='right'):\n",
    "#   - Includes ALL rows from the right DataFrame (df2 in the example).\n",
    "#   - Includes matching rows from the left DataFrame (df1).\n",
    "#   - If a join key from the right DataFrame does not have a match in the left DataFrame, the left DataFrame columns will contain NaN values for that row.\n",
    "\n",
    "# 4. Outer Join (how='outer'):\n",
    "#   - Includes ALL rows from BOTH DataFrames.\n",
    "#   - If a join key exists in one DataFrame but not the other, the missing values in the other DataFrame's columns will be filled with NaN.\n",
    "#   - It combines all the unique join keys from both DataFrames.\n",
    "\n",
    "data1 = {'Age': [24, 27, 20], 'Sex': ['M', 'F', 'M'], 'Degree': ['MSc', 'PhD', 'BSc']}\n",
    "df1 = pd.DataFrame(data1)\n",
    "\n",
    "data2 = {'City': ['London', 'Cambridge', 'Nice'], 'University': ['UCL', 'MIT', 'Université Côte d Azur']}\n",
    "df2 = pd.DataFrame(data2)\n",
    "\n",
    "df1['id'] = [0, 1, 2]\n",
    "df2['id'] = [2, 3, 4]\n",
    "\n",
    "print(\n",
    "    \"The 'left' join keeps all rows from df1 and matches those that have corresponding 'id' values in df2. Rows in df1 without a match in df2 have NaNs for City and University.\\n\")\n",
    "merged_df = pd.merge(df1, df2, on=['id'], how='left')\n",
    "print(merged_df[['id', 'Age', 'Sex', 'Degree', 'City', 'University']])\n",
    "\n",
    "print(\n",
    "    \"\\nThe 'right' join keeps all rows from df2 and matches those that have corresponding 'id' values in df1. Rows in df2 without a match in df1 have NaNs for Age, Sex, and Degree.\\n\")\n",
    "merged_df = pd.merge(df1, df2, on=['id'], how='right')\n",
    "print(merged_df[['id', 'Age', 'Sex', 'Degree', 'City', 'University']])\n",
    "\n",
    "print(\n",
    "    \"\\nThe 'outer' join includes all rows from both df1 and df2. Rows unique to either df1 or df2 have NaN for columns from the other DataFrame.\\n\")\n",
    "merged_df = pd.merge(df1, df2, on=['id'], how='outer')\n",
    "print(merged_df[['id', 'Age', 'Sex', 'Degree', 'City', 'University']])"
   ],
   "metadata": {
    "id": "6dl6gnNMFz52"
   },
   "execution_count": null,
   "outputs": []
  },
  {
   "cell_type": "markdown",
   "source": [
    "# Exercises (Python)"
   ],
   "metadata": {
    "id": "CWcjajv1W2bH"
   }
  },
  {
   "cell_type": "code",
   "source": [
    "\"\"\"\n",
    "String Manipulation: Write a Python function that takes a string as input\n",
    "and returns a dictionary with the counts of each vowel ('a', 'e', 'i', 'o', 'u').\n",
    "\"\"\"\n",
    "\n",
    "\n",
    "def return_count_vowel(s):\n",
    "    vowels = \"a e i o u\"\n",
    "    return {v: s.lower().count(v) for v in vowels}\n",
    "\n",
    "\n",
    "return_count_vowel(\"ciao\")"
   ],
   "metadata": {
    "id": "tD2HHBIrXbYh",
    "colab": {
     "base_uri": "https://localhost:8080/"
    },
    "outputId": "bea028fc-d314-4ae6-f74c-7ec6379e627c"
   },
   "execution_count": 25,
   "outputs": [
    {
     "output_type": "execute_result",
     "data": {
      "text/plain": [
       "{'a': 1, ' ': 0, 'e': 0, 'i': 1, 'o': 1, 'u': 0}"
      ]
     },
     "metadata": {},
     "execution_count": 25
    }
   ]
  },
  {
   "cell_type": "code",
   "source": [
    "\"\"\"\n",
    "List Comprehension: Create a list of all even numbers from 1 to 100 using list comprehension.\n",
    "\"\"\"\n",
    "l = [n for n in range(100)]\n",
    "l"
   ],
   "metadata": {
    "id": "cfpMv_USXfqB",
    "colab": {
     "base_uri": "https://localhost:8080/"
    },
    "collapsed": true,
    "outputId": "6d36b20e-188d-4120-8264-b1ca2204afc8"
   },
   "execution_count": 27,
   "outputs": [
    {
     "output_type": "execute_result",
     "data": {
      "text/plain": [
       "[0,\n",
       " 1,\n",
       " 2,\n",
       " 3,\n",
       " 4,\n",
       " 5,\n",
       " 6,\n",
       " 7,\n",
       " 8,\n",
       " 9,\n",
       " 10,\n",
       " 11,\n",
       " 12,\n",
       " 13,\n",
       " 14,\n",
       " 15,\n",
       " 16,\n",
       " 17,\n",
       " 18,\n",
       " 19,\n",
       " 20,\n",
       " 21,\n",
       " 22,\n",
       " 23,\n",
       " 24,\n",
       " 25,\n",
       " 26,\n",
       " 27,\n",
       " 28,\n",
       " 29,\n",
       " 30,\n",
       " 31,\n",
       " 32,\n",
       " 33,\n",
       " 34,\n",
       " 35,\n",
       " 36,\n",
       " 37,\n",
       " 38,\n",
       " 39,\n",
       " 40,\n",
       " 41,\n",
       " 42,\n",
       " 43,\n",
       " 44,\n",
       " 45,\n",
       " 46,\n",
       " 47,\n",
       " 48,\n",
       " 49,\n",
       " 50,\n",
       " 51,\n",
       " 52,\n",
       " 53,\n",
       " 54,\n",
       " 55,\n",
       " 56,\n",
       " 57,\n",
       " 58,\n",
       " 59,\n",
       " 60,\n",
       " 61,\n",
       " 62,\n",
       " 63,\n",
       " 64,\n",
       " 65,\n",
       " 66,\n",
       " 67,\n",
       " 68,\n",
       " 69,\n",
       " 70,\n",
       " 71,\n",
       " 72,\n",
       " 73,\n",
       " 74,\n",
       " 75,\n",
       " 76,\n",
       " 77,\n",
       " 78,\n",
       " 79,\n",
       " 80,\n",
       " 81,\n",
       " 82,\n",
       " 83,\n",
       " 84,\n",
       " 85,\n",
       " 86,\n",
       " 87,\n",
       " 88,\n",
       " 89,\n",
       " 90,\n",
       " 91,\n",
       " 92,\n",
       " 93,\n",
       " 94,\n",
       " 95,\n",
       " 96,\n",
       " 97,\n",
       " 98,\n",
       " 99]"
      ]
     },
     "metadata": {},
     "execution_count": 27
    }
   ]
  },
  {
   "cell_type": "code",
   "source": [
    "\"\"\"\n",
    "Dictionary Operations: Given a dictionary { \"Alice\": 85, \"Bob\": 90, \"Charlie\": 78 },\n",
    "write a function to find and return the name of the student with the highest score.\n",
    "\"\"\"\n",
    "\n",
    "\n",
    "def max_score(dict):\n",
    "    return max(dict, key=dict.get)\n",
    "\n",
    "\n",
    "dict = {\"Alice\": 85, \"Bob\": 90, \"Charlie\": 78}\n",
    "max_score(dict)"
   ],
   "metadata": {
    "id": "QpGTl2CBXiB5",
    "colab": {
     "base_uri": "https://localhost:8080/",
     "height": 35
    },
    "outputId": "2b0bbf54-1160-4141-8c60-e2028b6dfdf5"
   },
   "execution_count": 30,
   "outputs": [
    {
     "output_type": "execute_result",
     "data": {
      "text/plain": [
       "'Bob'"
      ],
      "application/vnd.google.colaboratory.intrinsic+json": {
       "type": "string"
      }
     },
     "metadata": {},
     "execution_count": 30
    }
   ]
  },
  {
   "cell_type": "markdown",
   "source": [
    "# Exercises (Numpy and Pandas)"
   ],
   "metadata": {
    "id": "c3AU7wlxXr4N"
   }
  },
  {
   "cell_type": "code",
   "source": [
    "\"\"\"\n",
    "NumPy Array Operations: Create a NumPy array of shape (3,3) filled with random\n",
    "integers between 1 and 100.\n",
    "Replace all even numbers with -1.\n",
    "\"\"\"\n",
    "array = np.random.randint(1, 100, size=(3, 3))\n",
    "array[array % 2 == 0] = -1\n",
    "array"
   ],
   "metadata": {
    "id": "AMyqnV7oXpTV",
    "colab": {
     "base_uri": "https://localhost:8080/"
    },
    "outputId": "29f2216d-02c0-45ee-881d-8252ad45c06d"
   },
   "execution_count": 31,
   "outputs": [
    {
     "output_type": "execute_result",
     "data": {
      "text/plain": [
       "array([[67, -1, 11],\n",
       "       [-1,  9, 11],\n",
       "       [-1, -1, 17]])"
      ]
     },
     "metadata": {},
     "execution_count": 31
    }
   ]
  },
  {
   "cell_type": "code",
   "source": [
    "\"\"\"\n",
    "Pandas DataFrame Basics: Create a Pandas DataFrame with 3 columns (\"Name\", \"Age\", \"Score\")\n",
    "and at least 5 rows of data. Display the average age of all individuals.\n",
    "\"\"\"\n",
    "import pandas as pd\n",
    "\n",
    "df = pd.DataFrame({'Name': ['Alice', 'Bob', 'Charlie', 'David', 'Eve'],\n",
    "                   'Age': [25, 30, 22, 28, 35],\n",
    "                   'Score': [85, 67, 90, 100, 50]})\n",
    "df['Age']"
   ],
   "metadata": {
    "id": "iByf3zArXyio",
    "colab": {
     "base_uri": "https://localhost:8080/",
     "height": 238
    },
    "outputId": "ab362fa0-7715-4923-b0b9-30bd0adf4f9a"
   },
   "execution_count": 35,
   "outputs": [
    {
     "output_type": "execute_result",
     "data": {
      "text/plain": [
       "0    25\n",
       "1    30\n",
       "2    22\n",
       "3    28\n",
       "4    35\n",
       "Name: Age, dtype: int64"
      ],
      "text/html": [
       "<div>\n",
       "<style scoped>\n",
       "    .dataframe tbody tr th:only-of-type {\n",
       "        vertical-align: middle;\n",
       "    }\n",
       "\n",
       "    .dataframe tbody tr th {\n",
       "        vertical-align: top;\n",
       "    }\n",
       "\n",
       "    .dataframe thead th {\n",
       "        text-align: right;\n",
       "    }\n",
       "</style>\n",
       "<table border=\"1\" class=\"dataframe\">\n",
       "  <thead>\n",
       "    <tr style=\"text-align: right;\">\n",
       "      <th></th>\n",
       "      <th>Age</th>\n",
       "    </tr>\n",
       "  </thead>\n",
       "  <tbody>\n",
       "    <tr>\n",
       "      <th>0</th>\n",
       "      <td>25</td>\n",
       "    </tr>\n",
       "    <tr>\n",
       "      <th>1</th>\n",
       "      <td>30</td>\n",
       "    </tr>\n",
       "    <tr>\n",
       "      <th>2</th>\n",
       "      <td>22</td>\n",
       "    </tr>\n",
       "    <tr>\n",
       "      <th>3</th>\n",
       "      <td>28</td>\n",
       "    </tr>\n",
       "    <tr>\n",
       "      <th>4</th>\n",
       "      <td>35</td>\n",
       "    </tr>\n",
       "  </tbody>\n",
       "</table>\n",
       "</div><br><label><b>dtype:</b> int64</label>"
      ]
     },
     "metadata": {},
     "execution_count": 35
    }
   ]
  },
  {
   "cell_type": "code",
   "source": [
    "\"\"\"\n",
    "Data Filtering in Pandas: Using a DataFrame of employees (columns: \"Name\", \"Department\", \"Salary\"),\n",
    "write a function that returns all employees in the \"IT\" department earning more than $50,000.\n",
    "\"\"\"\n",
    "import pandas as pd\n",
    "import random\n",
    "\n",
    "# Sample data\n",
    "names = ['John', 'Sarah', 'David', 'Emily', 'Michael']\n",
    "departments = ['HR', 'IT', 'Marketing', 'Finance', 'Sales']\n",
    "salaries = [random.randint(50000, 120000) for _ in range(5)]\n",
    "\n",
    "# Create the DataFrame\n",
    "df = pd.DataFrame({\n",
    "    'Name': names,\n",
    "    'Department': departments,\n",
    "    'Salary': salaries\n",
    "})\n",
    "\n",
    "\n",
    "def filter_employees(df):\n",
    "    return df[(df['Department'] == 'IT') & (df['Salary'] > 50000)]\n",
    "\n",
    "\n",
    "filter_employees(df)"
   ],
   "metadata": {
    "id": "Qeb2i7I0X2kD",
    "colab": {
     "base_uri": "https://localhost:8080/",
     "height": 80
    },
    "outputId": "97073f40-43fd-441f-d1c0-5f9d1e5e0373"
   },
   "execution_count": 36,
   "outputs": [
    {
     "output_type": "execute_result",
     "data": {
      "text/plain": [
       "    Name Department  Salary\n",
       "1  Sarah         IT  102462"
      ],
      "text/html": [
       "\n",
       "  <div id=\"df-3a0f892e-7dd7-4aa9-9740-69296dcbcfdf\" class=\"colab-df-container\">\n",
       "    <div>\n",
       "<style scoped>\n",
       "    .dataframe tbody tr th:only-of-type {\n",
       "        vertical-align: middle;\n",
       "    }\n",
       "\n",
       "    .dataframe tbody tr th {\n",
       "        vertical-align: top;\n",
       "    }\n",
       "\n",
       "    .dataframe thead th {\n",
       "        text-align: right;\n",
       "    }\n",
       "</style>\n",
       "<table border=\"1\" class=\"dataframe\">\n",
       "  <thead>\n",
       "    <tr style=\"text-align: right;\">\n",
       "      <th></th>\n",
       "      <th>Name</th>\n",
       "      <th>Department</th>\n",
       "      <th>Salary</th>\n",
       "    </tr>\n",
       "  </thead>\n",
       "  <tbody>\n",
       "    <tr>\n",
       "      <th>1</th>\n",
       "      <td>Sarah</td>\n",
       "      <td>IT</td>\n",
       "      <td>102462</td>\n",
       "    </tr>\n",
       "  </tbody>\n",
       "</table>\n",
       "</div>\n",
       "    <div class=\"colab-df-buttons\">\n",
       "\n",
       "  <div class=\"colab-df-container\">\n",
       "    <button class=\"colab-df-convert\" onclick=\"convertToInteractive('df-3a0f892e-7dd7-4aa9-9740-69296dcbcfdf')\"\n",
       "            title=\"Convert this dataframe to an interactive table.\"\n",
       "            style=\"display:none;\">\n",
       "\n",
       "  <svg xmlns=\"http://www.w3.org/2000/svg\" height=\"24px\" viewBox=\"0 -960 960 960\">\n",
       "    <path d=\"M120-120v-720h720v720H120Zm60-500h600v-160H180v160Zm220 220h160v-160H400v160Zm0 220h160v-160H400v160ZM180-400h160v-160H180v160Zm440 0h160v-160H620v160ZM180-180h160v-160H180v160Zm440 0h160v-160H620v160Z\"/>\n",
       "  </svg>\n",
       "    </button>\n",
       "\n",
       "  <style>\n",
       "    .colab-df-container {\n",
       "      display:flex;\n",
       "      gap: 12px;\n",
       "    }\n",
       "\n",
       "    .colab-df-convert {\n",
       "      background-color: #E8F0FE;\n",
       "      border: none;\n",
       "      border-radius: 50%;\n",
       "      cursor: pointer;\n",
       "      display: none;\n",
       "      fill: #1967D2;\n",
       "      height: 32px;\n",
       "      padding: 0 0 0 0;\n",
       "      width: 32px;\n",
       "    }\n",
       "\n",
       "    .colab-df-convert:hover {\n",
       "      background-color: #E2EBFA;\n",
       "      box-shadow: 0px 1px 2px rgba(60, 64, 67, 0.3), 0px 1px 3px 1px rgba(60, 64, 67, 0.15);\n",
       "      fill: #174EA6;\n",
       "    }\n",
       "\n",
       "    .colab-df-buttons div {\n",
       "      margin-bottom: 4px;\n",
       "    }\n",
       "\n",
       "    [theme=dark] .colab-df-convert {\n",
       "      background-color: #3B4455;\n",
       "      fill: #D2E3FC;\n",
       "    }\n",
       "\n",
       "    [theme=dark] .colab-df-convert:hover {\n",
       "      background-color: #434B5C;\n",
       "      box-shadow: 0px 1px 3px 1px rgba(0, 0, 0, 0.15);\n",
       "      filter: drop-shadow(0px 1px 2px rgba(0, 0, 0, 0.3));\n",
       "      fill: #FFFFFF;\n",
       "    }\n",
       "  </style>\n",
       "\n",
       "    <script>\n",
       "      const buttonEl =\n",
       "        document.querySelector('#df-3a0f892e-7dd7-4aa9-9740-69296dcbcfdf button.colab-df-convert');\n",
       "      buttonEl.style.display =\n",
       "        google.colab.kernel.accessAllowed ? 'block' : 'none';\n",
       "\n",
       "      async function convertToInteractive(key) {\n",
       "        const element = document.querySelector('#df-3a0f892e-7dd7-4aa9-9740-69296dcbcfdf');\n",
       "        const dataTable =\n",
       "          await google.colab.kernel.invokeFunction('convertToInteractive',\n",
       "                                                    [key], {});\n",
       "        if (!dataTable) return;\n",
       "\n",
       "        const docLinkHtml = 'Like what you see? Visit the ' +\n",
       "          '<a target=\"_blank\" href=https://colab.research.google.com/notebooks/data_table.ipynb>data table notebook</a>'\n",
       "          + ' to learn more about interactive tables.';\n",
       "        element.innerHTML = '';\n",
       "        dataTable['output_type'] = 'display_data';\n",
       "        await google.colab.output.renderOutput(dataTable, element);\n",
       "        const docLink = document.createElement('div');\n",
       "        docLink.innerHTML = docLinkHtml;\n",
       "        element.appendChild(docLink);\n",
       "      }\n",
       "    </script>\n",
       "  </div>\n",
       "\n",
       "\n",
       "    </div>\n",
       "  </div>\n"
      ],
      "application/vnd.google.colaboratory.intrinsic+json": {
       "type": "dataframe",
       "summary": "{\n  \"name\": \"filter_employees(df)\",\n  \"rows\": 1,\n  \"fields\": [\n    {\n      \"column\": \"Name\",\n      \"properties\": {\n        \"dtype\": \"string\",\n        \"num_unique_values\": 1,\n        \"samples\": [\n          \"Sarah\"\n        ],\n        \"semantic_type\": \"\",\n        \"description\": \"\"\n      }\n    },\n    {\n      \"column\": \"Department\",\n      \"properties\": {\n        \"dtype\": \"string\",\n        \"num_unique_values\": 1,\n        \"samples\": [\n          \"IT\"\n        ],\n        \"semantic_type\": \"\",\n        \"description\": \"\"\n      }\n    },\n    {\n      \"column\": \"Salary\",\n      \"properties\": {\n        \"dtype\": \"number\",\n        \"std\": null,\n        \"min\": 102462,\n        \"max\": 102462,\n        \"num_unique_values\": 1,\n        \"samples\": [\n          102462\n        ],\n        \"semantic_type\": \"\",\n        \"description\": \"\"\n      }\n    }\n  ]\n}"
      }
     },
     "metadata": {},
     "execution_count": 36
    }
   ]
  },
  {
   "cell_type": "code",
   "source": [
    "\"\"\"\n",
    "Grouping Data in Pandas: Given a DataFrame with columns \"City\", \"Temperature\",\n",
    "and \"Month\", write code to compute the average temperature per city.\n",
    "\"\"\"\n",
    "import pandas as pd\n",
    "import random\n",
    "\n",
    "# Sample data\n",
    "cities = [\"New York\", \"London\", \"Tokyo\", \"Paris\", \"Sydney\", \"Toronto\", \"Berlin\", \"Dubai\", \"Mumbai\", \"Los Angeles\"]\n",
    "months = [\"January\", \"February\", \"March\", \"April\", \"May\", \"June\", \"July\", \"August\", \"September\", \"October\", \"November\",\n",
    "          \"December\"]\n",
    "\n",
    "data = {\n",
    "    \"City\": random.choices(cities, k=10),\n",
    "    \"Temperature\": [random.uniform(-10, 40) for _ in range(10)],  # Random temp between -10 and 40°C\n",
    "    \"Month\": random.choices(months, k=10)\n",
    "}\n",
    "\n",
    "df = pd.DataFrame(data)\n",
    "\n",
    "\n",
    "def compute_average_temperature(df):\n",
    "    return df.groupby(\"City\")[\"Temperature\"].mean()\n",
    "\n",
    "\n",
    "compute_average_temperature(df)"
   ],
   "metadata": {
    "id": "XPfGaIKVX9sk",
    "colab": {
     "base_uri": "https://localhost:8080/",
     "height": 300
    },
    "outputId": "924dff07-8fe2-4d84-e2e1-c6fb464c50d7"
   },
   "execution_count": 37,
   "outputs": [
    {
     "output_type": "execute_result",
     "data": {
      "text/plain": [
       "City\n",
       "Dubai       8.204184\n",
       "London      2.036578\n",
       "Mumbai     -2.894107\n",
       "Paris      14.320500\n",
       "Tokyo      17.018951\n",
       "Toronto    17.635796\n",
       "Name: Temperature, dtype: float64"
      ],
      "text/html": [
       "<div>\n",
       "<style scoped>\n",
       "    .dataframe tbody tr th:only-of-type {\n",
       "        vertical-align: middle;\n",
       "    }\n",
       "\n",
       "    .dataframe tbody tr th {\n",
       "        vertical-align: top;\n",
       "    }\n",
       "\n",
       "    .dataframe thead th {\n",
       "        text-align: right;\n",
       "    }\n",
       "</style>\n",
       "<table border=\"1\" class=\"dataframe\">\n",
       "  <thead>\n",
       "    <tr style=\"text-align: right;\">\n",
       "      <th></th>\n",
       "      <th>Temperature</th>\n",
       "    </tr>\n",
       "    <tr>\n",
       "      <th>City</th>\n",
       "      <th></th>\n",
       "    </tr>\n",
       "  </thead>\n",
       "  <tbody>\n",
       "    <tr>\n",
       "      <th>Dubai</th>\n",
       "      <td>8.204184</td>\n",
       "    </tr>\n",
       "    <tr>\n",
       "      <th>London</th>\n",
       "      <td>2.036578</td>\n",
       "    </tr>\n",
       "    <tr>\n",
       "      <th>Mumbai</th>\n",
       "      <td>-2.894107</td>\n",
       "    </tr>\n",
       "    <tr>\n",
       "      <th>Paris</th>\n",
       "      <td>14.320500</td>\n",
       "    </tr>\n",
       "    <tr>\n",
       "      <th>Tokyo</th>\n",
       "      <td>17.018951</td>\n",
       "    </tr>\n",
       "    <tr>\n",
       "      <th>Toronto</th>\n",
       "      <td>17.635796</td>\n",
       "    </tr>\n",
       "  </tbody>\n",
       "</table>\n",
       "</div><br><label><b>dtype:</b> float64</label>"
      ]
     },
     "metadata": {},
     "execution_count": 37
    }
   ]
  },
  {
   "cell_type": "code",
   "source": [
    "\"\"\"\n",
    "Merging DataFrames: Create two DataFrames, one with student names and IDs,\n",
    "and another with student IDs and grades. Merge them into a single DataFrame.\n",
    "\"\"\"\n",
    "df1 = pd.DataFrame({'Name': ['Alice', 'Bob', 'Charlie'],\n",
    "                    'ID': [101, 102, 103]})\n",
    "\n",
    "df2 = pd.DataFrame({'ID': [102, 103, 104],\n",
    "                    'Grade': ['A', 'B', 'C']})\n",
    "\n",
    "df_merged = pd.merge(df1, df2, on='ID', how='inner')\n",
    "df_merged"
   ],
   "metadata": {
    "id": "TXGXojGvY0_X",
    "colab": {
     "base_uri": "https://localhost:8080/",
     "height": 125
    },
    "outputId": "218c64fe-6f9b-4cc9-84e1-9f0ffd2a32c2"
   },
   "execution_count": 38,
   "outputs": [
    {
     "output_type": "execute_result",
     "data": {
      "text/plain": [
       "      Name   ID Grade\n",
       "0      Bob  102     A\n",
       "1  Charlie  103     B"
      ],
      "text/html": [
       "\n",
       "  <div id=\"df-1ab1a104-4406-401f-9e82-b4e6f87744a4\" class=\"colab-df-container\">\n",
       "    <div>\n",
       "<style scoped>\n",
       "    .dataframe tbody tr th:only-of-type {\n",
       "        vertical-align: middle;\n",
       "    }\n",
       "\n",
       "    .dataframe tbody tr th {\n",
       "        vertical-align: top;\n",
       "    }\n",
       "\n",
       "    .dataframe thead th {\n",
       "        text-align: right;\n",
       "    }\n",
       "</style>\n",
       "<table border=\"1\" class=\"dataframe\">\n",
       "  <thead>\n",
       "    <tr style=\"text-align: right;\">\n",
       "      <th></th>\n",
       "      <th>Name</th>\n",
       "      <th>ID</th>\n",
       "      <th>Grade</th>\n",
       "    </tr>\n",
       "  </thead>\n",
       "  <tbody>\n",
       "    <tr>\n",
       "      <th>0</th>\n",
       "      <td>Bob</td>\n",
       "      <td>102</td>\n",
       "      <td>A</td>\n",
       "    </tr>\n",
       "    <tr>\n",
       "      <th>1</th>\n",
       "      <td>Charlie</td>\n",
       "      <td>103</td>\n",
       "      <td>B</td>\n",
       "    </tr>\n",
       "  </tbody>\n",
       "</table>\n",
       "</div>\n",
       "    <div class=\"colab-df-buttons\">\n",
       "\n",
       "  <div class=\"colab-df-container\">\n",
       "    <button class=\"colab-df-convert\" onclick=\"convertToInteractive('df-1ab1a104-4406-401f-9e82-b4e6f87744a4')\"\n",
       "            title=\"Convert this dataframe to an interactive table.\"\n",
       "            style=\"display:none;\">\n",
       "\n",
       "  <svg xmlns=\"http://www.w3.org/2000/svg\" height=\"24px\" viewBox=\"0 -960 960 960\">\n",
       "    <path d=\"M120-120v-720h720v720H120Zm60-500h600v-160H180v160Zm220 220h160v-160H400v160Zm0 220h160v-160H400v160ZM180-400h160v-160H180v160Zm440 0h160v-160H620v160ZM180-180h160v-160H180v160Zm440 0h160v-160H620v160Z\"/>\n",
       "  </svg>\n",
       "    </button>\n",
       "\n",
       "  <style>\n",
       "    .colab-df-container {\n",
       "      display:flex;\n",
       "      gap: 12px;\n",
       "    }\n",
       "\n",
       "    .colab-df-convert {\n",
       "      background-color: #E8F0FE;\n",
       "      border: none;\n",
       "      border-radius: 50%;\n",
       "      cursor: pointer;\n",
       "      display: none;\n",
       "      fill: #1967D2;\n",
       "      height: 32px;\n",
       "      padding: 0 0 0 0;\n",
       "      width: 32px;\n",
       "    }\n",
       "\n",
       "    .colab-df-convert:hover {\n",
       "      background-color: #E2EBFA;\n",
       "      box-shadow: 0px 1px 2px rgba(60, 64, 67, 0.3), 0px 1px 3px 1px rgba(60, 64, 67, 0.15);\n",
       "      fill: #174EA6;\n",
       "    }\n",
       "\n",
       "    .colab-df-buttons div {\n",
       "      margin-bottom: 4px;\n",
       "    }\n",
       "\n",
       "    [theme=dark] .colab-df-convert {\n",
       "      background-color: #3B4455;\n",
       "      fill: #D2E3FC;\n",
       "    }\n",
       "\n",
       "    [theme=dark] .colab-df-convert:hover {\n",
       "      background-color: #434B5C;\n",
       "      box-shadow: 0px 1px 3px 1px rgba(0, 0, 0, 0.15);\n",
       "      filter: drop-shadow(0px 1px 2px rgba(0, 0, 0, 0.3));\n",
       "      fill: #FFFFFF;\n",
       "    }\n",
       "  </style>\n",
       "\n",
       "    <script>\n",
       "      const buttonEl =\n",
       "        document.querySelector('#df-1ab1a104-4406-401f-9e82-b4e6f87744a4 button.colab-df-convert');\n",
       "      buttonEl.style.display =\n",
       "        google.colab.kernel.accessAllowed ? 'block' : 'none';\n",
       "\n",
       "      async function convertToInteractive(key) {\n",
       "        const element = document.querySelector('#df-1ab1a104-4406-401f-9e82-b4e6f87744a4');\n",
       "        const dataTable =\n",
       "          await google.colab.kernel.invokeFunction('convertToInteractive',\n",
       "                                                    [key], {});\n",
       "        if (!dataTable) return;\n",
       "\n",
       "        const docLinkHtml = 'Like what you see? Visit the ' +\n",
       "          '<a target=\"_blank\" href=https://colab.research.google.com/notebooks/data_table.ipynb>data table notebook</a>'\n",
       "          + ' to learn more about interactive tables.';\n",
       "        element.innerHTML = '';\n",
       "        dataTable['output_type'] = 'display_data';\n",
       "        await google.colab.output.renderOutput(dataTable, element);\n",
       "        const docLink = document.createElement('div');\n",
       "        docLink.innerHTML = docLinkHtml;\n",
       "        element.appendChild(docLink);\n",
       "      }\n",
       "    </script>\n",
       "  </div>\n",
       "\n",
       "\n",
       "<div id=\"df-6939e325-fa0d-4615-908d-e852dbcdd4a3\">\n",
       "  <button class=\"colab-df-quickchart\" onclick=\"quickchart('df-6939e325-fa0d-4615-908d-e852dbcdd4a3')\"\n",
       "            title=\"Suggest charts\"\n",
       "            style=\"display:none;\">\n",
       "\n",
       "<svg xmlns=\"http://www.w3.org/2000/svg\" height=\"24px\"viewBox=\"0 0 24 24\"\n",
       "     width=\"24px\">\n",
       "    <g>\n",
       "        <path d=\"M19 3H5c-1.1 0-2 .9-2 2v14c0 1.1.9 2 2 2h14c1.1 0 2-.9 2-2V5c0-1.1-.9-2-2-2zM9 17H7v-7h2v7zm4 0h-2V7h2v10zm4 0h-2v-4h2v4z\"/>\n",
       "    </g>\n",
       "</svg>\n",
       "  </button>\n",
       "\n",
       "<style>\n",
       "  .colab-df-quickchart {\n",
       "      --bg-color: #E8F0FE;\n",
       "      --fill-color: #1967D2;\n",
       "      --hover-bg-color: #E2EBFA;\n",
       "      --hover-fill-color: #174EA6;\n",
       "      --disabled-fill-color: #AAA;\n",
       "      --disabled-bg-color: #DDD;\n",
       "  }\n",
       "\n",
       "  [theme=dark] .colab-df-quickchart {\n",
       "      --bg-color: #3B4455;\n",
       "      --fill-color: #D2E3FC;\n",
       "      --hover-bg-color: #434B5C;\n",
       "      --hover-fill-color: #FFFFFF;\n",
       "      --disabled-bg-color: #3B4455;\n",
       "      --disabled-fill-color: #666;\n",
       "  }\n",
       "\n",
       "  .colab-df-quickchart {\n",
       "    background-color: var(--bg-color);\n",
       "    border: none;\n",
       "    border-radius: 50%;\n",
       "    cursor: pointer;\n",
       "    display: none;\n",
       "    fill: var(--fill-color);\n",
       "    height: 32px;\n",
       "    padding: 0;\n",
       "    width: 32px;\n",
       "  }\n",
       "\n",
       "  .colab-df-quickchart:hover {\n",
       "    background-color: var(--hover-bg-color);\n",
       "    box-shadow: 0 1px 2px rgba(60, 64, 67, 0.3), 0 1px 3px 1px rgba(60, 64, 67, 0.15);\n",
       "    fill: var(--button-hover-fill-color);\n",
       "  }\n",
       "\n",
       "  .colab-df-quickchart-complete:disabled,\n",
       "  .colab-df-quickchart-complete:disabled:hover {\n",
       "    background-color: var(--disabled-bg-color);\n",
       "    fill: var(--disabled-fill-color);\n",
       "    box-shadow: none;\n",
       "  }\n",
       "\n",
       "  .colab-df-spinner {\n",
       "    border: 2px solid var(--fill-color);\n",
       "    border-color: transparent;\n",
       "    border-bottom-color: var(--fill-color);\n",
       "    animation:\n",
       "      spin 1s steps(1) infinite;\n",
       "  }\n",
       "\n",
       "  @keyframes spin {\n",
       "    0% {\n",
       "      border-color: transparent;\n",
       "      border-bottom-color: var(--fill-color);\n",
       "      border-left-color: var(--fill-color);\n",
       "    }\n",
       "    20% {\n",
       "      border-color: transparent;\n",
       "      border-left-color: var(--fill-color);\n",
       "      border-top-color: var(--fill-color);\n",
       "    }\n",
       "    30% {\n",
       "      border-color: transparent;\n",
       "      border-left-color: var(--fill-color);\n",
       "      border-top-color: var(--fill-color);\n",
       "      border-right-color: var(--fill-color);\n",
       "    }\n",
       "    40% {\n",
       "      border-color: transparent;\n",
       "      border-right-color: var(--fill-color);\n",
       "      border-top-color: var(--fill-color);\n",
       "    }\n",
       "    60% {\n",
       "      border-color: transparent;\n",
       "      border-right-color: var(--fill-color);\n",
       "    }\n",
       "    80% {\n",
       "      border-color: transparent;\n",
       "      border-right-color: var(--fill-color);\n",
       "      border-bottom-color: var(--fill-color);\n",
       "    }\n",
       "    90% {\n",
       "      border-color: transparent;\n",
       "      border-bottom-color: var(--fill-color);\n",
       "    }\n",
       "  }\n",
       "</style>\n",
       "\n",
       "  <script>\n",
       "    async function quickchart(key) {\n",
       "      const quickchartButtonEl =\n",
       "        document.querySelector('#' + key + ' button');\n",
       "      quickchartButtonEl.disabled = true;  // To prevent multiple clicks.\n",
       "      quickchartButtonEl.classList.add('colab-df-spinner');\n",
       "      try {\n",
       "        const charts = await google.colab.kernel.invokeFunction(\n",
       "            'suggestCharts', [key], {});\n",
       "      } catch (error) {\n",
       "        console.error('Error during call to suggestCharts:', error);\n",
       "      }\n",
       "      quickchartButtonEl.classList.remove('colab-df-spinner');\n",
       "      quickchartButtonEl.classList.add('colab-df-quickchart-complete');\n",
       "    }\n",
       "    (() => {\n",
       "      let quickchartButtonEl =\n",
       "        document.querySelector('#df-6939e325-fa0d-4615-908d-e852dbcdd4a3 button');\n",
       "      quickchartButtonEl.style.display =\n",
       "        google.colab.kernel.accessAllowed ? 'block' : 'none';\n",
       "    })();\n",
       "  </script>\n",
       "</div>\n",
       "\n",
       "  <div id=\"id_f43f2454-fdb2-4fe8-9ff0-bcb24c22e449\">\n",
       "    <style>\n",
       "      .colab-df-generate {\n",
       "        background-color: #E8F0FE;\n",
       "        border: none;\n",
       "        border-radius: 50%;\n",
       "        cursor: pointer;\n",
       "        display: none;\n",
       "        fill: #1967D2;\n",
       "        height: 32px;\n",
       "        padding: 0 0 0 0;\n",
       "        width: 32px;\n",
       "      }\n",
       "\n",
       "      .colab-df-generate:hover {\n",
       "        background-color: #E2EBFA;\n",
       "        box-shadow: 0px 1px 2px rgba(60, 64, 67, 0.3), 0px 1px 3px 1px rgba(60, 64, 67, 0.15);\n",
       "        fill: #174EA6;\n",
       "      }\n",
       "\n",
       "      [theme=dark] .colab-df-generate {\n",
       "        background-color: #3B4455;\n",
       "        fill: #D2E3FC;\n",
       "      }\n",
       "\n",
       "      [theme=dark] .colab-df-generate:hover {\n",
       "        background-color: #434B5C;\n",
       "        box-shadow: 0px 1px 3px 1px rgba(0, 0, 0, 0.15);\n",
       "        filter: drop-shadow(0px 1px 2px rgba(0, 0, 0, 0.3));\n",
       "        fill: #FFFFFF;\n",
       "      }\n",
       "    </style>\n",
       "    <button class=\"colab-df-generate\" onclick=\"generateWithVariable('df_merged')\"\n",
       "            title=\"Generate code using this dataframe.\"\n",
       "            style=\"display:none;\">\n",
       "\n",
       "  <svg xmlns=\"http://www.w3.org/2000/svg\" height=\"24px\"viewBox=\"0 0 24 24\"\n",
       "       width=\"24px\">\n",
       "    <path d=\"M7,19H8.4L18.45,9,17,7.55,7,17.6ZM5,21V16.75L18.45,3.32a2,2,0,0,1,2.83,0l1.4,1.43a1.91,1.91,0,0,1,.58,1.4,1.91,1.91,0,0,1-.58,1.4L9.25,21ZM18.45,9,17,7.55Zm-12,3A5.31,5.31,0,0,0,4.9,8.1,5.31,5.31,0,0,0,1,6.5,5.31,5.31,0,0,0,4.9,4.9,5.31,5.31,0,0,0,6.5,1,5.31,5.31,0,0,0,8.1,4.9,5.31,5.31,0,0,0,12,6.5,5.46,5.46,0,0,0,6.5,12Z\"/>\n",
       "  </svg>\n",
       "    </button>\n",
       "    <script>\n",
       "      (() => {\n",
       "      const buttonEl =\n",
       "        document.querySelector('#id_f43f2454-fdb2-4fe8-9ff0-bcb24c22e449 button.colab-df-generate');\n",
       "      buttonEl.style.display =\n",
       "        google.colab.kernel.accessAllowed ? 'block' : 'none';\n",
       "\n",
       "      buttonEl.onclick = () => {\n",
       "        google.colab.notebook.generateWithVariable('df_merged');\n",
       "      }\n",
       "      })();\n",
       "    </script>\n",
       "  </div>\n",
       "\n",
       "    </div>\n",
       "  </div>\n"
      ],
      "application/vnd.google.colaboratory.intrinsic+json": {
       "type": "dataframe",
       "variable_name": "df_merged",
       "summary": "{\n  \"name\": \"df_merged\",\n  \"rows\": 2,\n  \"fields\": [\n    {\n      \"column\": \"Name\",\n      \"properties\": {\n        \"dtype\": \"string\",\n        \"num_unique_values\": 2,\n        \"samples\": [\n          \"Charlie\",\n          \"Bob\"\n        ],\n        \"semantic_type\": \"\",\n        \"description\": \"\"\n      }\n    },\n    {\n      \"column\": \"ID\",\n      \"properties\": {\n        \"dtype\": \"number\",\n        \"std\": 0,\n        \"min\": 102,\n        \"max\": 103,\n        \"num_unique_values\": 2,\n        \"samples\": [\n          103,\n          102\n        ],\n        \"semantic_type\": \"\",\n        \"description\": \"\"\n      }\n    },\n    {\n      \"column\": \"Grade\",\n      \"properties\": {\n        \"dtype\": \"string\",\n        \"num_unique_values\": 2,\n        \"samples\": [\n          \"B\",\n          \"A\"\n        ],\n        \"semantic_type\": \"\",\n        \"description\": \"\"\n      }\n    }\n  ]\n}"
      }
     },
     "metadata": {},
     "execution_count": 38
    }
   ]
  },
  {
   "cell_type": "code",
   "source": [
    "\"\"\"\n",
    "Applying Functions in Pandas: Given a column of dates in a DataFrame,\n",
    "convert them to datetime format and extract the month name.\n",
    "\"\"\"\n",
    "import pandas as pd\n",
    "import numpy as np\n",
    "\n",
    "# Generate 15 random dates within a range\n",
    "date_range = pd.date_range(start=\"2020-01-01\", end=\"2025-01-01\", freq=\"D\")\n",
    "random_dates = np.random.choice(date_range, size=15, replace=False)\n",
    "\n",
    "# Create the DataFrame\n",
    "df = pd.DataFrame({\"dates\": random_dates})\n",
    "df['dates'] = pd.to_datetime(df['dates'])\n",
    "\n",
    "# Extract the month name\n",
    "df['month_name'] = df['dates'].dt.month_name()\n",
    "df"
   ],
   "metadata": {
    "id": "H53V7inyY6rI",
    "colab": {
     "base_uri": "https://localhost:8080/",
     "height": 514
    },
    "outputId": "97ed3d96-d2ef-45d9-b9e8-580990da191a"
   },
   "execution_count": 39,
   "outputs": [
    {
     "output_type": "execute_result",
     "data": {
      "text/plain": [
       "        dates month_name\n",
       "0  2023-11-12   November\n",
       "1  2021-02-02   February\n",
       "2  2021-01-10    January\n",
       "3  2024-01-15    January\n",
       "4  2020-07-13       July\n",
       "5  2020-12-12   December\n",
       "6  2024-11-17   November\n",
       "7  2024-10-27    October\n",
       "8  2024-12-28   December\n",
       "9  2021-03-03      March\n",
       "10 2022-10-28    October\n",
       "11 2020-05-27        May\n",
       "12 2022-12-22   December\n",
       "13 2024-05-02        May\n",
       "14 2022-02-28   February"
      ],
      "text/html": [
       "\n",
       "  <div id=\"df-01acaf2f-72a1-4a20-a9a9-eafd5c2cc056\" class=\"colab-df-container\">\n",
       "    <div>\n",
       "<style scoped>\n",
       "    .dataframe tbody tr th:only-of-type {\n",
       "        vertical-align: middle;\n",
       "    }\n",
       "\n",
       "    .dataframe tbody tr th {\n",
       "        vertical-align: top;\n",
       "    }\n",
       "\n",
       "    .dataframe thead th {\n",
       "        text-align: right;\n",
       "    }\n",
       "</style>\n",
       "<table border=\"1\" class=\"dataframe\">\n",
       "  <thead>\n",
       "    <tr style=\"text-align: right;\">\n",
       "      <th></th>\n",
       "      <th>dates</th>\n",
       "      <th>month_name</th>\n",
       "    </tr>\n",
       "  </thead>\n",
       "  <tbody>\n",
       "    <tr>\n",
       "      <th>0</th>\n",
       "      <td>2023-11-12</td>\n",
       "      <td>November</td>\n",
       "    </tr>\n",
       "    <tr>\n",
       "      <th>1</th>\n",
       "      <td>2021-02-02</td>\n",
       "      <td>February</td>\n",
       "    </tr>\n",
       "    <tr>\n",
       "      <th>2</th>\n",
       "      <td>2021-01-10</td>\n",
       "      <td>January</td>\n",
       "    </tr>\n",
       "    <tr>\n",
       "      <th>3</th>\n",
       "      <td>2024-01-15</td>\n",
       "      <td>January</td>\n",
       "    </tr>\n",
       "    <tr>\n",
       "      <th>4</th>\n",
       "      <td>2020-07-13</td>\n",
       "      <td>July</td>\n",
       "    </tr>\n",
       "    <tr>\n",
       "      <th>5</th>\n",
       "      <td>2020-12-12</td>\n",
       "      <td>December</td>\n",
       "    </tr>\n",
       "    <tr>\n",
       "      <th>6</th>\n",
       "      <td>2024-11-17</td>\n",
       "      <td>November</td>\n",
       "    </tr>\n",
       "    <tr>\n",
       "      <th>7</th>\n",
       "      <td>2024-10-27</td>\n",
       "      <td>October</td>\n",
       "    </tr>\n",
       "    <tr>\n",
       "      <th>8</th>\n",
       "      <td>2024-12-28</td>\n",
       "      <td>December</td>\n",
       "    </tr>\n",
       "    <tr>\n",
       "      <th>9</th>\n",
       "      <td>2021-03-03</td>\n",
       "      <td>March</td>\n",
       "    </tr>\n",
       "    <tr>\n",
       "      <th>10</th>\n",
       "      <td>2022-10-28</td>\n",
       "      <td>October</td>\n",
       "    </tr>\n",
       "    <tr>\n",
       "      <th>11</th>\n",
       "      <td>2020-05-27</td>\n",
       "      <td>May</td>\n",
       "    </tr>\n",
       "    <tr>\n",
       "      <th>12</th>\n",
       "      <td>2022-12-22</td>\n",
       "      <td>December</td>\n",
       "    </tr>\n",
       "    <tr>\n",
       "      <th>13</th>\n",
       "      <td>2024-05-02</td>\n",
       "      <td>May</td>\n",
       "    </tr>\n",
       "    <tr>\n",
       "      <th>14</th>\n",
       "      <td>2022-02-28</td>\n",
       "      <td>February</td>\n",
       "    </tr>\n",
       "  </tbody>\n",
       "</table>\n",
       "</div>\n",
       "    <div class=\"colab-df-buttons\">\n",
       "\n",
       "  <div class=\"colab-df-container\">\n",
       "    <button class=\"colab-df-convert\" onclick=\"convertToInteractive('df-01acaf2f-72a1-4a20-a9a9-eafd5c2cc056')\"\n",
       "            title=\"Convert this dataframe to an interactive table.\"\n",
       "            style=\"display:none;\">\n",
       "\n",
       "  <svg xmlns=\"http://www.w3.org/2000/svg\" height=\"24px\" viewBox=\"0 -960 960 960\">\n",
       "    <path d=\"M120-120v-720h720v720H120Zm60-500h600v-160H180v160Zm220 220h160v-160H400v160Zm0 220h160v-160H400v160ZM180-400h160v-160H180v160Zm440 0h160v-160H620v160ZM180-180h160v-160H180v160Zm440 0h160v-160H620v160Z\"/>\n",
       "  </svg>\n",
       "    </button>\n",
       "\n",
       "  <style>\n",
       "    .colab-df-container {\n",
       "      display:flex;\n",
       "      gap: 12px;\n",
       "    }\n",
       "\n",
       "    .colab-df-convert {\n",
       "      background-color: #E8F0FE;\n",
       "      border: none;\n",
       "      border-radius: 50%;\n",
       "      cursor: pointer;\n",
       "      display: none;\n",
       "      fill: #1967D2;\n",
       "      height: 32px;\n",
       "      padding: 0 0 0 0;\n",
       "      width: 32px;\n",
       "    }\n",
       "\n",
       "    .colab-df-convert:hover {\n",
       "      background-color: #E2EBFA;\n",
       "      box-shadow: 0px 1px 2px rgba(60, 64, 67, 0.3), 0px 1px 3px 1px rgba(60, 64, 67, 0.15);\n",
       "      fill: #174EA6;\n",
       "    }\n",
       "\n",
       "    .colab-df-buttons div {\n",
       "      margin-bottom: 4px;\n",
       "    }\n",
       "\n",
       "    [theme=dark] .colab-df-convert {\n",
       "      background-color: #3B4455;\n",
       "      fill: #D2E3FC;\n",
       "    }\n",
       "\n",
       "    [theme=dark] .colab-df-convert:hover {\n",
       "      background-color: #434B5C;\n",
       "      box-shadow: 0px 1px 3px 1px rgba(0, 0, 0, 0.15);\n",
       "      filter: drop-shadow(0px 1px 2px rgba(0, 0, 0, 0.3));\n",
       "      fill: #FFFFFF;\n",
       "    }\n",
       "  </style>\n",
       "\n",
       "    <script>\n",
       "      const buttonEl =\n",
       "        document.querySelector('#df-01acaf2f-72a1-4a20-a9a9-eafd5c2cc056 button.colab-df-convert');\n",
       "      buttonEl.style.display =\n",
       "        google.colab.kernel.accessAllowed ? 'block' : 'none';\n",
       "\n",
       "      async function convertToInteractive(key) {\n",
       "        const element = document.querySelector('#df-01acaf2f-72a1-4a20-a9a9-eafd5c2cc056');\n",
       "        const dataTable =\n",
       "          await google.colab.kernel.invokeFunction('convertToInteractive',\n",
       "                                                    [key], {});\n",
       "        if (!dataTable) return;\n",
       "\n",
       "        const docLinkHtml = 'Like what you see? Visit the ' +\n",
       "          '<a target=\"_blank\" href=https://colab.research.google.com/notebooks/data_table.ipynb>data table notebook</a>'\n",
       "          + ' to learn more about interactive tables.';\n",
       "        element.innerHTML = '';\n",
       "        dataTable['output_type'] = 'display_data';\n",
       "        await google.colab.output.renderOutput(dataTable, element);\n",
       "        const docLink = document.createElement('div');\n",
       "        docLink.innerHTML = docLinkHtml;\n",
       "        element.appendChild(docLink);\n",
       "      }\n",
       "    </script>\n",
       "  </div>\n",
       "\n",
       "\n",
       "<div id=\"df-5c070298-3a37-44ac-b69e-9bc517f4aef1\">\n",
       "  <button class=\"colab-df-quickchart\" onclick=\"quickchart('df-5c070298-3a37-44ac-b69e-9bc517f4aef1')\"\n",
       "            title=\"Suggest charts\"\n",
       "            style=\"display:none;\">\n",
       "\n",
       "<svg xmlns=\"http://www.w3.org/2000/svg\" height=\"24px\"viewBox=\"0 0 24 24\"\n",
       "     width=\"24px\">\n",
       "    <g>\n",
       "        <path d=\"M19 3H5c-1.1 0-2 .9-2 2v14c0 1.1.9 2 2 2h14c1.1 0 2-.9 2-2V5c0-1.1-.9-2-2-2zM9 17H7v-7h2v7zm4 0h-2V7h2v10zm4 0h-2v-4h2v4z\"/>\n",
       "    </g>\n",
       "</svg>\n",
       "  </button>\n",
       "\n",
       "<style>\n",
       "  .colab-df-quickchart {\n",
       "      --bg-color: #E8F0FE;\n",
       "      --fill-color: #1967D2;\n",
       "      --hover-bg-color: #E2EBFA;\n",
       "      --hover-fill-color: #174EA6;\n",
       "      --disabled-fill-color: #AAA;\n",
       "      --disabled-bg-color: #DDD;\n",
       "  }\n",
       "\n",
       "  [theme=dark] .colab-df-quickchart {\n",
       "      --bg-color: #3B4455;\n",
       "      --fill-color: #D2E3FC;\n",
       "      --hover-bg-color: #434B5C;\n",
       "      --hover-fill-color: #FFFFFF;\n",
       "      --disabled-bg-color: #3B4455;\n",
       "      --disabled-fill-color: #666;\n",
       "  }\n",
       "\n",
       "  .colab-df-quickchart {\n",
       "    background-color: var(--bg-color);\n",
       "    border: none;\n",
       "    border-radius: 50%;\n",
       "    cursor: pointer;\n",
       "    display: none;\n",
       "    fill: var(--fill-color);\n",
       "    height: 32px;\n",
       "    padding: 0;\n",
       "    width: 32px;\n",
       "  }\n",
       "\n",
       "  .colab-df-quickchart:hover {\n",
       "    background-color: var(--hover-bg-color);\n",
       "    box-shadow: 0 1px 2px rgba(60, 64, 67, 0.3), 0 1px 3px 1px rgba(60, 64, 67, 0.15);\n",
       "    fill: var(--button-hover-fill-color);\n",
       "  }\n",
       "\n",
       "  .colab-df-quickchart-complete:disabled,\n",
       "  .colab-df-quickchart-complete:disabled:hover {\n",
       "    background-color: var(--disabled-bg-color);\n",
       "    fill: var(--disabled-fill-color);\n",
       "    box-shadow: none;\n",
       "  }\n",
       "\n",
       "  .colab-df-spinner {\n",
       "    border: 2px solid var(--fill-color);\n",
       "    border-color: transparent;\n",
       "    border-bottom-color: var(--fill-color);\n",
       "    animation:\n",
       "      spin 1s steps(1) infinite;\n",
       "  }\n",
       "\n",
       "  @keyframes spin {\n",
       "    0% {\n",
       "      border-color: transparent;\n",
       "      border-bottom-color: var(--fill-color);\n",
       "      border-left-color: var(--fill-color);\n",
       "    }\n",
       "    20% {\n",
       "      border-color: transparent;\n",
       "      border-left-color: var(--fill-color);\n",
       "      border-top-color: var(--fill-color);\n",
       "    }\n",
       "    30% {\n",
       "      border-color: transparent;\n",
       "      border-left-color: var(--fill-color);\n",
       "      border-top-color: var(--fill-color);\n",
       "      border-right-color: var(--fill-color);\n",
       "    }\n",
       "    40% {\n",
       "      border-color: transparent;\n",
       "      border-right-color: var(--fill-color);\n",
       "      border-top-color: var(--fill-color);\n",
       "    }\n",
       "    60% {\n",
       "      border-color: transparent;\n",
       "      border-right-color: var(--fill-color);\n",
       "    }\n",
       "    80% {\n",
       "      border-color: transparent;\n",
       "      border-right-color: var(--fill-color);\n",
       "      border-bottom-color: var(--fill-color);\n",
       "    }\n",
       "    90% {\n",
       "      border-color: transparent;\n",
       "      border-bottom-color: var(--fill-color);\n",
       "    }\n",
       "  }\n",
       "</style>\n",
       "\n",
       "  <script>\n",
       "    async function quickchart(key) {\n",
       "      const quickchartButtonEl =\n",
       "        document.querySelector('#' + key + ' button');\n",
       "      quickchartButtonEl.disabled = true;  // To prevent multiple clicks.\n",
       "      quickchartButtonEl.classList.add('colab-df-spinner');\n",
       "      try {\n",
       "        const charts = await google.colab.kernel.invokeFunction(\n",
       "            'suggestCharts', [key], {});\n",
       "      } catch (error) {\n",
       "        console.error('Error during call to suggestCharts:', error);\n",
       "      }\n",
       "      quickchartButtonEl.classList.remove('colab-df-spinner');\n",
       "      quickchartButtonEl.classList.add('colab-df-quickchart-complete');\n",
       "    }\n",
       "    (() => {\n",
       "      let quickchartButtonEl =\n",
       "        document.querySelector('#df-5c070298-3a37-44ac-b69e-9bc517f4aef1 button');\n",
       "      quickchartButtonEl.style.display =\n",
       "        google.colab.kernel.accessAllowed ? 'block' : 'none';\n",
       "    })();\n",
       "  </script>\n",
       "</div>\n",
       "\n",
       "  <div id=\"id_d2dde65e-1c11-420c-87c5-908f3019e18f\">\n",
       "    <style>\n",
       "      .colab-df-generate {\n",
       "        background-color: #E8F0FE;\n",
       "        border: none;\n",
       "        border-radius: 50%;\n",
       "        cursor: pointer;\n",
       "        display: none;\n",
       "        fill: #1967D2;\n",
       "        height: 32px;\n",
       "        padding: 0 0 0 0;\n",
       "        width: 32px;\n",
       "      }\n",
       "\n",
       "      .colab-df-generate:hover {\n",
       "        background-color: #E2EBFA;\n",
       "        box-shadow: 0px 1px 2px rgba(60, 64, 67, 0.3), 0px 1px 3px 1px rgba(60, 64, 67, 0.15);\n",
       "        fill: #174EA6;\n",
       "      }\n",
       "\n",
       "      [theme=dark] .colab-df-generate {\n",
       "        background-color: #3B4455;\n",
       "        fill: #D2E3FC;\n",
       "      }\n",
       "\n",
       "      [theme=dark] .colab-df-generate:hover {\n",
       "        background-color: #434B5C;\n",
       "        box-shadow: 0px 1px 3px 1px rgba(0, 0, 0, 0.15);\n",
       "        filter: drop-shadow(0px 1px 2px rgba(0, 0, 0, 0.3));\n",
       "        fill: #FFFFFF;\n",
       "      }\n",
       "    </style>\n",
       "    <button class=\"colab-df-generate\" onclick=\"generateWithVariable('df')\"\n",
       "            title=\"Generate code using this dataframe.\"\n",
       "            style=\"display:none;\">\n",
       "\n",
       "  <svg xmlns=\"http://www.w3.org/2000/svg\" height=\"24px\"viewBox=\"0 0 24 24\"\n",
       "       width=\"24px\">\n",
       "    <path d=\"M7,19H8.4L18.45,9,17,7.55,7,17.6ZM5,21V16.75L18.45,3.32a2,2,0,0,1,2.83,0l1.4,1.43a1.91,1.91,0,0,1,.58,1.4,1.91,1.91,0,0,1-.58,1.4L9.25,21ZM18.45,9,17,7.55Zm-12,3A5.31,5.31,0,0,0,4.9,8.1,5.31,5.31,0,0,0,1,6.5,5.31,5.31,0,0,0,4.9,4.9,5.31,5.31,0,0,0,6.5,1,5.31,5.31,0,0,0,8.1,4.9,5.31,5.31,0,0,0,12,6.5,5.46,5.46,0,0,0,6.5,12Z\"/>\n",
       "  </svg>\n",
       "    </button>\n",
       "    <script>\n",
       "      (() => {\n",
       "      const buttonEl =\n",
       "        document.querySelector('#id_d2dde65e-1c11-420c-87c5-908f3019e18f button.colab-df-generate');\n",
       "      buttonEl.style.display =\n",
       "        google.colab.kernel.accessAllowed ? 'block' : 'none';\n",
       "\n",
       "      buttonEl.onclick = () => {\n",
       "        google.colab.notebook.generateWithVariable('df');\n",
       "      }\n",
       "      })();\n",
       "    </script>\n",
       "  </div>\n",
       "\n",
       "    </div>\n",
       "  </div>\n"
      ],
      "application/vnd.google.colaboratory.intrinsic+json": {
       "type": "dataframe",
       "variable_name": "df",
       "summary": "{\n  \"name\": \"df\",\n  \"rows\": 15,\n  \"fields\": [\n    {\n      \"column\": \"dates\",\n      \"properties\": {\n        \"dtype\": \"date\",\n        \"min\": \"2020-05-27 00:00:00\",\n        \"max\": \"2024-12-28 00:00:00\",\n        \"num_unique_values\": 15,\n        \"samples\": [\n          \"2021-03-03 00:00:00\",\n          \"2020-05-27 00:00:00\",\n          \"2023-11-12 00:00:00\"\n        ],\n        \"semantic_type\": \"\",\n        \"description\": \"\"\n      }\n    },\n    {\n      \"column\": \"month_name\",\n      \"properties\": {\n        \"dtype\": \"string\",\n        \"num_unique_values\": 8,\n        \"samples\": [\n          \"February\",\n          \"October\",\n          \"November\"\n        ],\n        \"semantic_type\": \"\",\n        \"description\": \"\"\n      }\n    }\n  ]\n}"
      }
     },
     "metadata": {},
     "execution_count": 39
    }
   ]
  },
  {
   "cell_type": "markdown",
   "source": [
    "# Hard Exercise"
   ],
   "metadata": {
    "id": "TbG5Bt4DZ6gm"
   }
  },
  {
   "cell_type": "code",
   "source": [
    "\"\"\" Complex DataFrame Manipulation:\n",
    "1. Create a DataFrame with at least 100 rows containing the following columns: \"CustomerID\", \"PurchaseDate\", \"ProductCategory\", \"PurchaseAmount\".\n",
    "2. Convert \"PurchaseDate\" to datetime format.\n",
    "3. Compute the total amount spent per customer.\n",
    "4. Identify the top 5 customers with the highest total spending.\n",
    "5. For each product category, find the month with the highest total sales.\n",
    "\"\"\"\n",
    "import pandas as pd\n",
    "import numpy as np\n",
    "\n",
    "# Step 1: Create a DataFrame with 100 rows\n",
    "np.random.seed(42)\n",
    "\n",
    "customer_ids = np.random.randint(1, 21, size=100)  # 20 unique customers\n",
    "purchase_dates = pd.date_range(start='2023-01-01', periods=100, freq='D')\n",
    "product_categories = np.random.choice(['Electronics', 'Clothing', 'Groceries', 'Books', 'Toys'], size=100)\n",
    "purchase_amounts = np.random.uniform(5, 500, size=100)  # Random amounts between 5 and 500\n",
    "\n",
    "df = pd.DataFrame({\n",
    "    'CustomerID': customer_ids,\n",
    "    'PurchaseDate': purchase_dates,\n",
    "    'ProductCategory': product_categories,\n",
    "    'PurchaseAmount': purchase_amounts\n",
    "})\n",
    "\n",
    "# Step 2: Convert \"PurchaseDate\" to datetime format\n",
    "df['PurchaseDate'] = pd.to_datetime(df['PurchaseDate'])\n",
    "\n",
    "# Step 3: Compute the total amount spent per customer\n",
    "total_spent_per_customer = df.groupby('CustomerID')['PurchaseAmount'].sum().reset_index()\n",
    "\n",
    "# Step 4: Identify the top 5 customers with the highest total spending\n",
    "top_5_customers = total_spent_per_customer.sort_values(by='PurchaseAmount', ascending=False).head(5)\n",
    "\n",
    "# Step 5: For each product category, find the month with the highest total sales\n",
    "df['Month'] = df['PurchaseDate'].dt.month\n",
    "category_month_sales = df.groupby(['ProductCategory', 'Month'])['PurchaseAmount'].sum().reset_index()\n",
    "\n",
    "# For each category, find the month with the highest sales\n",
    "highest_sales_per_category = category_month_sales.loc[\n",
    "    category_month_sales.groupby('ProductCategory')['PurchaseAmount'].idxmax()]\n",
    "\n",
    "total_spent_per_customer, top_5_customers, highest_sales_per_category"
   ],
   "metadata": {
    "id": "jgl9dOvHaaYp"
   },
   "execution_count": null,
   "outputs": []
  }
 ]
}
